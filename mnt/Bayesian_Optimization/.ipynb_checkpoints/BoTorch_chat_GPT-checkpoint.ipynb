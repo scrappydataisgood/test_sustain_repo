{
 "cells": [
  {
   "cell_type": "code",
   "execution_count": 24,
   "id": "2bb50445",
   "metadata": {},
   "outputs": [],
   "source": [
    "import torch\n",
    "import pandas as pd\n",
    "from botorch.models import MultiTaskGP\n",
    "from botorch.fit import fit_gpytorch_model\n",
    "from botorch.models import SingleTaskGP\n",
    "from botorch.fit import fit_gpytorch_model\n",
    "from botorch.optim import optimize_acqf\n",
    "from botorch.acquisition.multi_objective.monte_carlo import qExpectedHypervolumeImprovement\n",
    "from botorch.utils.transforms import standardize\n",
    "from botorch.utils.multi_objective.pareto import is_non_dominated\n",
    "import matplotlib.pyplot as plt"
   ]
  },
  {
   "cell_type": "code",
   "execution_count": 25,
   "id": "0ccb3ae2",
   "metadata": {},
   "outputs": [],
   "source": [
    "data_frame = pd.read_csv('/mnt/Datasets/df_3_27_23_winter_combined_elements.csv').drop(columns = ['Unnamed: 0', 'Field_Name'])\n",
    "\n",
    "features = data_frame[['Crop_Protection_Application_Doses', 'Soil_Organic_Matter', 'N_total_kg_per_ha', 'P_total_kg_per_ha', 'K_total_kg_per_ha']].values\n",
    "target1 = data_frame['Yield_kg_per_Ha'].values\n",
    "target2 = data_frame['CO2_kg_per_Ha'].values"
   ]
  },
  {
   "cell_type": "code",
   "execution_count": 26,
   "id": "0aa842cf",
   "metadata": {},
   "outputs": [],
   "source": [
    "features = torch.from_numpy(features).float()\n",
    "target1 = torch.from_numpy(target1).float()\n",
    "target2 = torch.from_numpy(target2).float()\n",
    "\n",
    "normalized_target1 = standardize(target1)\n",
    "normalized_target2 = standardize(target2)\n",
    "\n",
    "num_iterations = 10\n",
    "num_random_initial_points = 5"
   ]
  },
  {
   "cell_type": "code",
   "execution_count": 27,
   "id": "4f0b79a3",
   "metadata": {},
   "outputs": [],
   "source": [
    "def acquisition_function(model, objective):\n",
    "    return qExpectedHypervolumeImprovement(model, ref_point = torch.zeros(1))\n",
    "\n",
    "def maximize_objective(sample):\n",
    "    return -sample.mean(dim = -1)\n",
    "\n",
    "def minimize_objective(sample):\n",
    "    return sample.mean(dim = -1)"
   ]
  },
  {
   "cell_type": "code",
   "execution_count": 28,
   "id": "77745676",
   "metadata": {},
   "outputs": [
    {
     "ename": "AttributeError",
     "evalue": "'SingleTaskGP' object has no attribute 'model'",
     "output_type": "error",
     "traceback": [
      "\u001b[0;31m---------------------------------------------------------------------------\u001b[0m",
      "\u001b[0;31mAttributeError\u001b[0m                            Traceback (most recent call last)",
      "\u001b[0;32m/opt/conda/lib/python3.8/site-packages/gpytorch/module.py\u001b[0m in \u001b[0;36m__getattr__\u001b[0;34m(self, name)\u001b[0m\n\u001b[1;32m    436\u001b[0m             \u001b[0;32mtry\u001b[0m\u001b[0;34m:\u001b[0m\u001b[0;34m\u001b[0m\u001b[0;34m\u001b[0m\u001b[0m\n\u001b[0;32m--> 437\u001b[0;31m                 \u001b[0;32mreturn\u001b[0m \u001b[0msuper\u001b[0m\u001b[0;34m(\u001b[0m\u001b[0;34m)\u001b[0m\u001b[0;34m.\u001b[0m\u001b[0m__getattribute__\u001b[0m\u001b[0;34m(\u001b[0m\u001b[0mname\u001b[0m\u001b[0;34m)\u001b[0m\u001b[0;34m\u001b[0m\u001b[0;34m\u001b[0m\u001b[0m\n\u001b[0m\u001b[1;32m    438\u001b[0m             \u001b[0;32mexcept\u001b[0m \u001b[0mAttributeError\u001b[0m\u001b[0;34m:\u001b[0m\u001b[0;34m\u001b[0m\u001b[0;34m\u001b[0m\u001b[0m\n",
      "\u001b[0;31mAttributeError\u001b[0m: 'SingleTaskGP' object has no attribute 'model'",
      "\nDuring handling of the above exception, another exception occurred:\n",
      "\u001b[0;31mAttributeError\u001b[0m                            Traceback (most recent call last)",
      "\u001b[0;32m/tmp/ipykernel_488/1920378027.py\u001b[0m in \u001b[0;36m<module>\u001b[0;34m\u001b[0m\n\u001b[1;32m      6\u001b[0m \u001b[0;34m\u001b[0m\u001b[0m\n\u001b[1;32m      7\u001b[0m     \u001b[0mmodel_target1\u001b[0m \u001b[0;34m=\u001b[0m \u001b[0mSingleTaskGP\u001b[0m\u001b[0;34m(\u001b[0m\u001b[0mfeatures\u001b[0m\u001b[0;34m,\u001b[0m \u001b[0mnormalized_target1\u001b[0m\u001b[0;34m.\u001b[0m\u001b[0munsqueeze\u001b[0m\u001b[0;34m(\u001b[0m\u001b[0;34m-\u001b[0m\u001b[0;36m1\u001b[0m\u001b[0;34m)\u001b[0m\u001b[0;34m)\u001b[0m\u001b[0;34m\u001b[0m\u001b[0;34m\u001b[0m\u001b[0m\n\u001b[0;32m----> 8\u001b[0;31m     \u001b[0mfit_gpytorch_model\u001b[0m\u001b[0;34m(\u001b[0m\u001b[0mmodel_target1\u001b[0m\u001b[0;34m)\u001b[0m\u001b[0;34m\u001b[0m\u001b[0;34m\u001b[0m\u001b[0m\n\u001b[0m\u001b[1;32m      9\u001b[0m \u001b[0;31m#     model = MultiTaskGP(features, torch.stack([normalized_target1, normalized_target2], dim = -1), task_feature = task_feature)\u001b[0m\u001b[0;34m\u001b[0m\u001b[0;34m\u001b[0m\u001b[0;34m\u001b[0m\u001b[0m\n\u001b[1;32m     10\u001b[0m \u001b[0;31m#     fit_gpytorch_model(model)\u001b[0m\u001b[0;34m\u001b[0m\u001b[0;34m\u001b[0m\u001b[0;34m\u001b[0m\u001b[0m\n",
      "\u001b[0;32m/opt/conda/lib/python3.8/site-packages/botorch/fit.py\u001b[0m in \u001b[0;36mfit_gpytorch_model\u001b[0;34m(mll, optimizer, optimizer_kwargs, exclude, max_retries, **kwargs)\u001b[0m\n\u001b[1;32m    162\u001b[0m     ):\n\u001b[1;32m    163\u001b[0m         \u001b[0;32mtry\u001b[0m\u001b[0;34m:\u001b[0m\u001b[0;34m\u001b[0m\u001b[0;34m\u001b[0m\u001b[0m\n\u001b[0;32m--> 164\u001b[0;31m             mll = fit_gpytorch_mll(\n\u001b[0m\u001b[1;32m    165\u001b[0m                 \u001b[0mmll\u001b[0m\u001b[0;34m,\u001b[0m\u001b[0;34m\u001b[0m\u001b[0;34m\u001b[0m\u001b[0m\n\u001b[1;32m    166\u001b[0m                 \u001b[0moptimizer\u001b[0m\u001b[0;34m=\u001b[0m\u001b[0moptimizer\u001b[0m\u001b[0;34m,\u001b[0m\u001b[0;34m\u001b[0m\u001b[0;34m\u001b[0m\u001b[0m\n",
      "\u001b[0;32m/opt/conda/lib/python3.8/site-packages/botorch/fit.py\u001b[0m in \u001b[0;36mfit_gpytorch_mll\u001b[0;34m(mll, closure, optimizer, closure_kwargs, optimizer_kwargs, **kwargs)\u001b[0m\n\u001b[1;32m    106\u001b[0m         \u001b[0mmll\u001b[0m\u001b[0;34m,\u001b[0m\u001b[0;34m\u001b[0m\u001b[0;34m\u001b[0m\u001b[0m\n\u001b[1;32m    107\u001b[0m         \u001b[0mtype\u001b[0m\u001b[0;34m(\u001b[0m\u001b[0mmll\u001b[0m\u001b[0;34m.\u001b[0m\u001b[0mlikelihood\u001b[0m\u001b[0;34m)\u001b[0m\u001b[0;34m,\u001b[0m\u001b[0;34m\u001b[0m\u001b[0;34m\u001b[0m\u001b[0m\n\u001b[0;32m--> 108\u001b[0;31m         \u001b[0mtype\u001b[0m\u001b[0;34m(\u001b[0m\u001b[0mmll\u001b[0m\u001b[0;34m.\u001b[0m\u001b[0mmodel\u001b[0m\u001b[0;34m)\u001b[0m\u001b[0;34m,\u001b[0m\u001b[0;34m\u001b[0m\u001b[0;34m\u001b[0m\u001b[0m\n\u001b[0m\u001b[1;32m    109\u001b[0m         \u001b[0mclosure\u001b[0m\u001b[0;34m=\u001b[0m\u001b[0mclosure\u001b[0m\u001b[0;34m,\u001b[0m\u001b[0;34m\u001b[0m\u001b[0;34m\u001b[0m\u001b[0m\n\u001b[1;32m    110\u001b[0m         \u001b[0mclosure_kwargs\u001b[0m\u001b[0;34m=\u001b[0m\u001b[0mclosure_kwargs\u001b[0m\u001b[0;34m,\u001b[0m\u001b[0;34m\u001b[0m\u001b[0;34m\u001b[0m\u001b[0m\n",
      "\u001b[0;32m/opt/conda/lib/python3.8/site-packages/gpytorch/module.py\u001b[0m in \u001b[0;36m__getattr__\u001b[0;34m(self, name)\u001b[0m\n\u001b[1;32m    437\u001b[0m                 \u001b[0;32mreturn\u001b[0m \u001b[0msuper\u001b[0m\u001b[0;34m(\u001b[0m\u001b[0;34m)\u001b[0m\u001b[0;34m.\u001b[0m\u001b[0m__getattribute__\u001b[0m\u001b[0;34m(\u001b[0m\u001b[0mname\u001b[0m\u001b[0;34m)\u001b[0m\u001b[0;34m\u001b[0m\u001b[0;34m\u001b[0m\u001b[0m\n\u001b[1;32m    438\u001b[0m             \u001b[0;32mexcept\u001b[0m \u001b[0mAttributeError\u001b[0m\u001b[0;34m:\u001b[0m\u001b[0;34m\u001b[0m\u001b[0;34m\u001b[0m\u001b[0m\n\u001b[0;32m--> 439\u001b[0;31m                 \u001b[0;32mraise\u001b[0m \u001b[0me\u001b[0m\u001b[0;34m\u001b[0m\u001b[0;34m\u001b[0m\u001b[0m\n\u001b[0m\u001b[1;32m    440\u001b[0m \u001b[0;34m\u001b[0m\u001b[0m\n\u001b[1;32m    441\u001b[0m \u001b[0;34m\u001b[0m\u001b[0m\n",
      "\u001b[0;32m/opt/conda/lib/python3.8/site-packages/gpytorch/module.py\u001b[0m in \u001b[0;36m__getattr__\u001b[0;34m(self, name)\u001b[0m\n\u001b[1;32m    432\u001b[0m     \u001b[0;32mdef\u001b[0m \u001b[0m__getattr__\u001b[0m\u001b[0;34m(\u001b[0m\u001b[0mself\u001b[0m\u001b[0;34m,\u001b[0m \u001b[0mname\u001b[0m\u001b[0;34m)\u001b[0m\u001b[0;34m:\u001b[0m\u001b[0;34m\u001b[0m\u001b[0;34m\u001b[0m\u001b[0m\n\u001b[1;32m    433\u001b[0m         \u001b[0;32mtry\u001b[0m\u001b[0;34m:\u001b[0m\u001b[0;34m\u001b[0m\u001b[0;34m\u001b[0m\u001b[0m\n\u001b[0;32m--> 434\u001b[0;31m             \u001b[0;32mreturn\u001b[0m \u001b[0msuper\u001b[0m\u001b[0;34m(\u001b[0m\u001b[0;34m)\u001b[0m\u001b[0;34m.\u001b[0m\u001b[0m__getattr__\u001b[0m\u001b[0;34m(\u001b[0m\u001b[0mname\u001b[0m\u001b[0;34m)\u001b[0m\u001b[0;34m\u001b[0m\u001b[0;34m\u001b[0m\u001b[0m\n\u001b[0m\u001b[1;32m    435\u001b[0m         \u001b[0;32mexcept\u001b[0m \u001b[0mAttributeError\u001b[0m \u001b[0;32mas\u001b[0m \u001b[0me\u001b[0m\u001b[0;34m:\u001b[0m\u001b[0;34m\u001b[0m\u001b[0;34m\u001b[0m\u001b[0m\n\u001b[1;32m    436\u001b[0m             \u001b[0;32mtry\u001b[0m\u001b[0;34m:\u001b[0m\u001b[0;34m\u001b[0m\u001b[0;34m\u001b[0m\u001b[0m\n",
      "\u001b[0;32m/opt/conda/lib/python3.8/site-packages/torch/nn/modules/module.py\u001b[0m in \u001b[0;36m__getattr__\u001b[0;34m(self, name)\u001b[0m\n\u001b[1;32m   1612\u001b[0m             \u001b[0;32mif\u001b[0m \u001b[0mname\u001b[0m \u001b[0;32min\u001b[0m \u001b[0mmodules\u001b[0m\u001b[0;34m:\u001b[0m\u001b[0;34m\u001b[0m\u001b[0;34m\u001b[0m\u001b[0m\n\u001b[1;32m   1613\u001b[0m                 \u001b[0;32mreturn\u001b[0m \u001b[0mmodules\u001b[0m\u001b[0;34m[\u001b[0m\u001b[0mname\u001b[0m\u001b[0;34m]\u001b[0m\u001b[0;34m\u001b[0m\u001b[0;34m\u001b[0m\u001b[0m\n\u001b[0;32m-> 1614\u001b[0;31m         raise AttributeError(\"'{}' object has no attribute '{}'\".format(\n\u001b[0m\u001b[1;32m   1615\u001b[0m             type(self).__name__, name))\n\u001b[1;32m   1616\u001b[0m \u001b[0;34m\u001b[0m\u001b[0m\n",
      "\u001b[0;31mAttributeError\u001b[0m: 'SingleTaskGP' object has no attribute 'model'"
     ]
    }
   ],
   "source": [
    "pareto_frontier = []\n",
    "\n",
    "for _ in range(num_iterations):\n",
    "    \n",
    "    task_feature = torch.tensor([0], dtype = torch.long)\n",
    "    \n",
    "    model_target1 = SingleTaskGP(features, normalized_target1.unsqueeze(-1))\n",
    "    fit_gpytorch_model(model_target1)\n",
    "#     model = MultiTaskGP(features, torch.stack([normalized_target1, normalized_target2], dim = -1), task_feature = task_feature)\n",
    "#     fit_gpytorch_model(model)\n",
    "    \n",
    "    candidates_target1, _ = optimize_acqf(\n",
    "    acquisition_function(model_target1, maximize_objective),\n",
    "    bounds = torch.stack([features.min(0)[0], features.max(0)[0]]),\n",
    "    q = num_random_initial_points,\n",
    "    num_restarts = 10,\n",
    "    raw_samples = 500,\n",
    "    )\n",
    "    \n",
    "    model_target2 = SingleTaskGP(features, normalized_target2.unsqueeze(-1))\n",
    "    fit_gpytorch_model(model_target2)\n",
    "    \n",
    "    candidates_target2, _ = optimize_acqf(\n",
    "    acquisition_function(model_target2, minimize_objective),\n",
    "    bounds = torch.stack([features.min(0)[0], features.max(0)[0]]),\n",
    "    q = num_random_initial_points,\n",
    "    num_restarts = 10,\n",
    "    raw_samples = 500,\n",
    "    )    \n",
    "    \n",
    "    features = torch.cat([features, candidates_target1, candidates_target2])\n",
    "    normalized_target1 = torch.cat([normalized_target1, model_target1.posterior(candidates_target1)[:,0]])\n",
    "    normalized_target2 = torch.cat([normalized_target2, model_target2.posterior(candidates_target2)[:,1]])\n",
    "    \n",
    "    new_frontier = torch.stack([normalized_target1, normalized_target2], dim = -1)\n",
    "    pareto_frontier = torch.cat([pareto_frontier, new_frontier])\n",
    "    \n",
    "de_normalized_frontier = pareto_frontier * torch.tensor([target1.std(), target2.std()]) + torch.tensor([target1.mean(), target2.mean()])\n",
    "\n",
    "plt.scatter(de_normalized_frontier[:,0], de_normalized_frontier[:,1])\n",
    "plt.xlabel('Target1')\n",
    "plt.ylabel('Target2')\n",
    "plt.title('Pareto Frontier')\n",
    "plt.show()\n",
    "                        "
   ]
  },
  {
   "cell_type": "code",
   "execution_count": null,
   "id": "0072ca2e",
   "metadata": {},
   "outputs": [],
   "source": []
  }
 ],
 "metadata": {
  "kernelspec": {
   "display_name": "Python 3 (ipykernel)",
   "language": "python",
   "name": "python3"
  },
  "language_info": {
   "codemirror_mode": {
    "name": "ipython",
    "version": 3
   },
   "file_extension": ".py",
   "mimetype": "text/x-python",
   "name": "python",
   "nbconvert_exporter": "python",
   "pygments_lexer": "ipython3",
   "version": "3.8.5"
  }
 },
 "nbformat": 4,
 "nbformat_minor": 5
}
