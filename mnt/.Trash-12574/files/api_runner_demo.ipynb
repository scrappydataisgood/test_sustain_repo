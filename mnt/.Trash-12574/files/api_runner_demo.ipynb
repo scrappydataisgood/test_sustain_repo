{
 "cells": [
  {
   "cell_type": "code",
   "execution_count": 1,
   "id": "8732228e",
   "metadata": {},
   "outputs": [
    {
     "name": "stdout",
     "output_type": "stream",
     "text": [
      "Thu Apr  6 14:13:37 UTC 2023\n"
     ]
    }
   ],
   "source": [
    "!date"
   ]
  },
  {
   "cell_type": "code",
   "execution_count": 2,
   "id": "36947f75",
   "metadata": {},
   "outputs": [
    {
     "name": "stdout",
     "output_type": "stream",
     "text": [
      "Processing ./tcc-cft-tool-0.3.4-py_0.tar.bz2\n",
      "\u001b[31mERROR: file:///mnt/tcc-cft-tool-0.3.4-py_0.tar.bz2 does not appear to be a Python project: neither 'setup.py' nor 'pyproject.toml' found.\u001b[0m\n",
      "\u001b[33mWARNING: You are using pip version 21.3.1; however, version 23.0.1 is available.\n",
      "You should consider upgrading via the '/opt/conda/bin/python -m pip install --upgrade pip' command.\u001b[0m\n"
     ]
    }
   ],
   "source": [
    "!pip install tcc-cft-tool-0.3.4-py_0.tar.bz2"
   ]
  },
  {
   "cell_type": "markdown",
   "id": "eb7a5eff",
   "metadata": {},
   "source": [
    "## Demostration of using `tcc_cft_tool` package to run CFT API calculation\n",
    "Author: Yafan Tang\n"
   ]
  },
  {
   "cell_type": "code",
   "execution_count": 2,
   "id": "70968caf",
   "metadata": {},
   "outputs": [],
   "source": [
    "import pandas as pd\n",
    "\n",
    "from tcc_cft_tool import CftTool, CftTemplate,CftExcel\n",
    "from tcc_s3 import SSM, S3"
   ]
  },
  {
   "cell_type": "code",
   "execution_count": 3,
   "id": "a161e359",
   "metadata": {},
   "outputs": [
    {
     "name": "stderr",
     "output_type": "stream",
     "text": [
      "/Users/yafan.tang/opt/anaconda3/envs/cft_v0.3.2/lib/python3.9/site-packages/tcc_s3/aws_service.py:26: FutureWarning: Passing an environment argument is deprecated. In the future this argument will be ignored.\n",
      "  warnings.warn(\n"
     ]
    }
   ],
   "source": [
    "# retrieve app key from s3\n",
    "# skip this cell, if you have had the key.\n",
    "ssm = SSM(\"production\")\n",
    "app_key = ssm.get_parameter(\"production.team-science.cft-api.app-key\")"
   ]
  },
  {
   "cell_type": "code",
   "execution_count": 4,
   "id": "e36d93fe",
   "metadata": {},
   "outputs": [],
   "source": [
    "# get json example data\n",
    "template = CftTemplate()\n",
    "request_ls = template.input_json_template"
   ]
  },
  {
   "cell_type": "code",
   "execution_count": 5,
   "id": "52108431",
   "metadata": {},
   "outputs": [
    {
     "name": "stdout",
     "output_type": "stream",
     "text": [
      "Transforming sheet: 0-2 Farm-Crop-Soil...\n",
      "Transforming sheet: 3.1 Fertilizer...\n"
     ]
    },
    {
     "name": "stderr",
     "output_type": "stream",
     "text": [
      "/Users/yafan.tang/opt/anaconda3/envs/cft_v0.3.2/lib/python3.9/site-packages/openpyxl/worksheet/_read_only.py:79: UserWarning: Data Validation extension is not supported and will be removed\n",
      "  for idx, row in parser.parse():\n",
      "/Users/yafan.tang/opt/anaconda3/envs/cft_v0.3.2/lib/python3.9/site-packages/openpyxl/worksheet/_read_only.py:79: UserWarning: Data Validation extension is not supported and will be removed\n",
      "  for idx, row in parser.parse():\n"
     ]
    },
    {
     "name": "stdout",
     "output_type": "stream",
     "text": [
      "Transforming sheet: 3.2 Crop_Protection...\n"
     ]
    },
    {
     "name": "stderr",
     "output_type": "stream",
     "text": [
      "/Users/yafan.tang/opt/anaconda3/envs/cft_v0.3.2/lib/python3.9/site-packages/openpyxl/worksheet/_read_only.py:79: UserWarning: Data Validation extension is not supported and will be removed\n",
      "  for idx, row in parser.parse():\n"
     ]
    },
    {
     "name": "stdout",
     "output_type": "stream",
     "text": [
      "Transforming sheet: 4.1 Direct_Energy...\n",
      "Transforming sheet: 4.2 Operation_Energy...\n"
     ]
    },
    {
     "name": "stderr",
     "output_type": "stream",
     "text": [
      "/Users/yafan.tang/opt/anaconda3/envs/cft_v0.3.2/lib/python3.9/site-packages/openpyxl/worksheet/_read_only.py:79: UserWarning: Data Validation extension is not supported and will be removed\n",
      "  for idx, row in parser.parse():\n",
      "/Users/yafan.tang/opt/anaconda3/envs/cft_v0.3.2/lib/python3.9/site-packages/openpyxl/worksheet/_read_only.py:79: UserWarning: Data Validation extension is not supported and will be removed\n",
      "  for idx, row in parser.parse():\n"
     ]
    },
    {
     "name": "stdout",
     "output_type": "stream",
     "text": [
      "Transforming sheet: 5 Irrigation...\n",
      "Transforming sheet: 6 Carbon...\n",
      "Transforming sheet: 7 Transport...\n"
     ]
    },
    {
     "name": "stderr",
     "output_type": "stream",
     "text": [
      "/Users/yafan.tang/opt/anaconda3/envs/cft_v0.3.2/lib/python3.9/site-packages/openpyxl/worksheet/_read_only.py:79: UserWarning: Data Validation extension is not supported and will be removed\n",
      "  for idx, row in parser.parse():\n",
      "/Users/yafan.tang/opt/anaconda3/envs/cft_v0.3.2/lib/python3.9/site-packages/openpyxl/worksheet/_read_only.py:79: UserWarning: Data Validation extension is not supported and will be removed\n",
      "  for idx, row in parser.parse():\n",
      "/Users/yafan.tang/opt/anaconda3/envs/cft_v0.3.2/lib/python3.9/site-packages/openpyxl/worksheet/_read_only.py:79: UserWarning: Data Validation extension is not supported and will be removed\n",
      "  for idx, row in parser.parse():\n",
      "/Users/yafan.tang/opt/anaconda3/envs/cft_v0.3.2/lib/python3.9/site-packages/openpyxl/worksheet/_read_only.py:79: UserWarning: Data Validation extension is not supported and will be removed\n",
      "  for idx, row in parser.parse():\n"
     ]
    },
    {
     "name": "stdout",
     "output_type": "stream",
     "text": [
      "7 Transport is empty\n",
      "Transforming sheet: 8.1 Potato (Processing)...\n",
      "8.1 Potato (Processing) is empty\n",
      "Transforming sheet: 8.2 Potato (Storage)...\n",
      "8.2 Potato (Storage) is empty\n"
     ]
    },
    {
     "name": "stderr",
     "output_type": "stream",
     "text": [
      "/Users/yafan.tang/opt/anaconda3/envs/cft_v0.3.2/lib/python3.9/site-packages/openpyxl/worksheet/_read_only.py:79: UserWarning: Data Validation extension is not supported and will be removed\n",
      "  for idx, row in parser.parse():\n",
      "/Users/yafan.tang/opt/anaconda3/envs/cft_v0.3.2/lib/python3.9/site-packages/openpyxl/worksheet/_read_only.py:79: UserWarning: Data Validation extension is not supported and will be removed\n",
      "  for idx, row in parser.parse():\n"
     ]
    }
   ],
   "source": [
    "# get \n",
    "# prepare a example data yourself using latest excel template\n",
    "input_path =  \"/Users/yafan.tang/Library/CloudStorage/OneDrive-Bayer/CFT-DFS-EMEA/Request/SUS0135/EMEA_PilotFarms_Datacollection_2022.xlsx\"\n",
    "excel_io = pd.ExcelFile(input_path, engine=\"openpyxl\")\n",
    "cft_excel = CftExcel(excel_io)\n",
    "request_ls = cft_excel.transform_excel_to_request()[:5]"
   ]
  },
  {
   "cell_type": "code",
   "execution_count": 6,
   "id": "e953b4da",
   "metadata": {},
   "outputs": [
    {
     "name": "stdout",
     "output_type": "stream",
     "text": [
      "Validating schema of CFT API requests...\n"
     ]
    }
   ],
   "source": [
    "cft = CftTool(request_ls, app_key,cft_major_version=1)\n",
    "cft.validate_request()\n",
    "validation_df = cft.validation_result\n",
    "assert (~validation_df[\"validate_status\"]).sum() ==0 "
   ]
  },
  {
   "cell_type": "code",
   "execution_count": 7,
   "id": "ddc59f75",
   "metadata": {},
   "outputs": [
    {
     "data": {
      "text/html": [
       "<div>\n",
       "<style scoped>\n",
       "    .dataframe tbody tr th:only-of-type {\n",
       "        vertical-align: middle;\n",
       "    }\n",
       "\n",
       "    .dataframe tbody tr th {\n",
       "        vertical-align: top;\n",
       "    }\n",
       "\n",
       "    .dataframe thead th {\n",
       "        text-align: right;\n",
       "    }\n",
       "</style>\n",
       "<table border=\"1\" class=\"dataframe\">\n",
       "  <thead>\n",
       "    <tr style=\"text-align: right;\">\n",
       "      <th></th>\n",
       "      <th>AssessmentID</th>\n",
       "      <th>request</th>\n",
       "      <th>validate_status</th>\n",
       "      <th>validate_error</th>\n",
       "    </tr>\n",
       "  </thead>\n",
       "  <tbody>\n",
       "  </tbody>\n",
       "</table>\n",
       "</div>"
      ],
      "text/plain": [
       "Empty DataFrame\n",
       "Columns: [AssessmentID, request, validate_status, validate_error]\n",
       "Index: []"
      ]
     },
     "execution_count": 7,
     "metadata": {},
     "output_type": "execute_result"
    }
   ],
   "source": [
    "# check if any case failed data validation\n",
    "validation_df[~validation_df[\"validate_status\"]]"
   ]
  },
  {
   "cell_type": "code",
   "execution_count": 8,
   "id": "64fbaf4f",
   "metadata": {},
   "outputs": [
    {
     "name": "stdout",
     "output_type": "stream",
     "text": [
      "Calling CFT API ...\n",
      "Calculation result acquired!\n"
     ]
    },
    {
     "name": "stderr",
     "output_type": "stream",
     "text": [
      "/Users/yafan.tang/opt/anaconda3/envs/cft_v0.3.2/lib/python3.9/site-packages/tcc_cft_tool/cft_tool.py:133: FutureWarning: Not prepending group keys to the result index of transform-like apply. In the future, the group keys will be included in the index, regardless of whether the applied function returns a like-indexed object.\n",
      "To preserve the previous behavior, use\n",
      "\n",
      "\t>>> .groupby(..., group_keys=False)\n",
      "\n",
      "To adopt the future behavior and silence this warning, use \n",
      "\n",
      "\t>>> .groupby(..., group_keys=True)\n",
      "  api_df.groupby([\"validate_status\", \"group\"])\n"
     ]
    }
   ],
   "source": [
    "# interact with CFT API\n",
    "cft.call_api()"
   ]
  },
  {
   "cell_type": "code",
   "execution_count": 9,
   "id": "e7eebffe",
   "metadata": {},
   "outputs": [
    {
     "data": {
      "text/html": [
       "<div>\n",
       "<style scoped>\n",
       "    .dataframe tbody tr th:only-of-type {\n",
       "        vertical-align: middle;\n",
       "    }\n",
       "\n",
       "    .dataframe tbody tr th {\n",
       "        vertical-align: top;\n",
       "    }\n",
       "\n",
       "    .dataframe thead th {\n",
       "        text-align: right;\n",
       "    }\n",
       "</style>\n",
       "<table border=\"1\" class=\"dataframe\">\n",
       "  <thead>\n",
       "    <tr style=\"text-align: right;\">\n",
       "      <th></th>\n",
       "      <th>AssessmentID</th>\n",
       "      <th>request</th>\n",
       "      <th>validate_status</th>\n",
       "      <th>validate_error</th>\n",
       "      <th>return</th>\n",
       "    </tr>\n",
       "  </thead>\n",
       "  <tbody>\n",
       "    <tr>\n",
       "      <th>0</th>\n",
       "      <td>A59::2021</td>\n",
       "      <td>{'farm': {'average_temperature': {'value': 11....</td>\n",
       "      <td>True</td>\n",
       "      <td>None</td>\n",
       "      <td>{'farm': {'farm_identifier': 'A59'}, 'summary'...</td>\n",
       "    </tr>\n",
       "    <tr>\n",
       "      <th>1</th>\n",
       "      <td>AAN DE WATERTOREN::2022</td>\n",
       "      <td>{'farm': {'average_temperature': {'value': 11....</td>\n",
       "      <td>True</td>\n",
       "      <td>None</td>\n",
       "      <td>{'farm': {'farm_identifier': 'AAN DE WATERTORE...</td>\n",
       "    </tr>\n",
       "    <tr>\n",
       "      <th>2</th>\n",
       "      <td>AKAZIENBUSCH::2022</td>\n",
       "      <td>{'farm': {'average_temperature': {'value': 11....</td>\n",
       "      <td>True</td>\n",
       "      <td>None</td>\n",
       "      <td>{'farm': {'farm_identifier': 'AKAZIENBUSCH'}, ...</td>\n",
       "    </tr>\n",
       "    <tr>\n",
       "      <th>3</th>\n",
       "      <td>ARCO LANGRE::2022</td>\n",
       "      <td>{'farm': {'average_temperature': {'value': 18....</td>\n",
       "      <td>True</td>\n",
       "      <td>None</td>\n",
       "      <td>{'farm': {'farm_identifier': 'ARCO LANGRE'}, '...</td>\n",
       "    </tr>\n",
       "    <tr>\n",
       "      <th>4</th>\n",
       "      <td>AUFELD::2021</td>\n",
       "      <td>{'farm': {'average_temperature': {'value': 11....</td>\n",
       "      <td>True</td>\n",
       "      <td>None</td>\n",
       "      <td>{'farm': {'farm_identifier': 'AUFELD'}, 'summa...</td>\n",
       "    </tr>\n",
       "  </tbody>\n",
       "</table>\n",
       "</div>"
      ],
      "text/plain": [
       "              AssessmentID                                            request  \\\n",
       "0                A59::2021  {'farm': {'average_temperature': {'value': 11....   \n",
       "1  AAN DE WATERTOREN::2022  {'farm': {'average_temperature': {'value': 11....   \n",
       "2       AKAZIENBUSCH::2022  {'farm': {'average_temperature': {'value': 11....   \n",
       "3        ARCO LANGRE::2022  {'farm': {'average_temperature': {'value': 18....   \n",
       "4             AUFELD::2021  {'farm': {'average_temperature': {'value': 11....   \n",
       "\n",
       "   validate_status validate_error  \\\n",
       "0             True           None   \n",
       "1             True           None   \n",
       "2             True           None   \n",
       "3             True           None   \n",
       "4             True           None   \n",
       "\n",
       "                                              return  \n",
       "0  {'farm': {'farm_identifier': 'A59'}, 'summary'...  \n",
       "1  {'farm': {'farm_identifier': 'AAN DE WATERTORE...  \n",
       "2  {'farm': {'farm_identifier': 'AKAZIENBUSCH'}, ...  \n",
       "3  {'farm': {'farm_identifier': 'ARCO LANGRE'}, '...  \n",
       "4  {'farm': {'farm_identifier': 'AUFELD'}, 'summa...  "
      ]
     },
     "execution_count": 9,
     "metadata": {},
     "output_type": "execute_result"
    }
   ],
   "source": [
    "# show detail results\n",
    "cft.api_result"
   ]
  },
  {
   "cell_type": "code",
   "execution_count": 10,
   "id": "0013eb08",
   "metadata": {},
   "outputs": [
    {
     "data": {
      "text/html": [
       "<div>\n",
       "<style scoped>\n",
       "    .dataframe tbody tr th:only-of-type {\n",
       "        vertical-align: middle;\n",
       "    }\n",
       "\n",
       "    .dataframe tbody tr th {\n",
       "        vertical-align: top;\n",
       "    }\n",
       "\n",
       "    .dataframe thead th {\n",
       "        text-align: right;\n",
       "    }\n",
       "</style>\n",
       "<table border=\"1\" class=\"dataframe\">\n",
       "  <thead>\n",
       "    <tr style=\"text-align: right;\">\n",
       "      <th></th>\n",
       "      <th>AssessmentID</th>\n",
       "      <th>request</th>\n",
       "      <th>validate_status</th>\n",
       "      <th>validate_error</th>\n",
       "      <th>return</th>\n",
       "    </tr>\n",
       "  </thead>\n",
       "  <tbody>\n",
       "  </tbody>\n",
       "</table>\n",
       "</div>"
      ],
      "text/plain": [
       "Empty DataFrame\n",
       "Columns: [AssessmentID, request, validate_status, validate_error, return]\n",
       "Index: []"
      ]
     },
     "execution_count": 10,
     "metadata": {},
     "output_type": "execute_result"
    }
   ],
   "source": [
    "# check if any returns contain error\n",
    "cft.api_result[cft.api_result[\"return\"].astype(str).str.contains(\"error\")]"
   ]
  },
  {
   "cell_type": "code",
   "execution_count": 11,
   "id": "d99e73b5",
   "metadata": {},
   "outputs": [
    {
     "data": {
      "text/html": [
       "<div>\n",
       "<style scoped>\n",
       "    .dataframe tbody tr th:only-of-type {\n",
       "        vertical-align: middle;\n",
       "    }\n",
       "\n",
       "    .dataframe tbody tr th {\n",
       "        vertical-align: top;\n",
       "    }\n",
       "\n",
       "    .dataframe thead th {\n",
       "        text-align: right;\n",
       "    }\n",
       "</style>\n",
       "<table border=\"1\" class=\"dataframe\">\n",
       "  <thead>\n",
       "    <tr style=\"text-align: right;\">\n",
       "      <th></th>\n",
       "      <th>AssessmentID</th>\n",
       "      <th>result</th>\n",
       "      <th>value</th>\n",
       "      <th>unit</th>\n",
       "    </tr>\n",
       "  </thead>\n",
       "  <tbody>\n",
       "    <tr>\n",
       "      <th>0</th>\n",
       "      <td>A59::2021</td>\n",
       "      <td>emissions_total</td>\n",
       "      <td>32191.05</td>\n",
       "      <td>kgCO2e</td>\n",
       "    </tr>\n",
       "    <tr>\n",
       "      <th>1</th>\n",
       "      <td>A59::2021</td>\n",
       "      <td>emissions_per_area</td>\n",
       "      <td>2160.47</td>\n",
       "      <td>kgCO2e/ha</td>\n",
       "    </tr>\n",
       "    <tr>\n",
       "      <th>2</th>\n",
       "      <td>A59::2021</td>\n",
       "      <td>emissions_per_product</td>\n",
       "      <td>0.04</td>\n",
       "      <td>kgCO2e/kg</td>\n",
       "    </tr>\n",
       "    <tr>\n",
       "      <th>3</th>\n",
       "      <td>A59::2021</td>\n",
       "      <td>soil_organic_carbon</td>\n",
       "      <td>0.81</td>\n",
       "      <td>%</td>\n",
       "    </tr>\n",
       "    <tr>\n",
       "      <th>4</th>\n",
       "      <td>A59::2021</td>\n",
       "      <td>machinery_fuel_usage</td>\n",
       "      <td>0.00</td>\n",
       "      <td>litre</td>\n",
       "    </tr>\n",
       "    <tr>\n",
       "      <th>0</th>\n",
       "      <td>AAN DE WATERTOREN::2022</td>\n",
       "      <td>emissions_total</td>\n",
       "      <td>2308.03</td>\n",
       "      <td>kgCO2e</td>\n",
       "    </tr>\n",
       "    <tr>\n",
       "      <th>1</th>\n",
       "      <td>AAN DE WATERTOREN::2022</td>\n",
       "      <td>emissions_per_area</td>\n",
       "      <td>384.67</td>\n",
       "      <td>kgCO2e/ha</td>\n",
       "    </tr>\n",
       "    <tr>\n",
       "      <th>2</th>\n",
       "      <td>AAN DE WATERTOREN::2022</td>\n",
       "      <td>emissions_per_product</td>\n",
       "      <td>0.40</td>\n",
       "      <td>kgCO2e/kg</td>\n",
       "    </tr>\n",
       "    <tr>\n",
       "      <th>3</th>\n",
       "      <td>AAN DE WATERTOREN::2022</td>\n",
       "      <td>soil_organic_carbon</td>\n",
       "      <td>0.52</td>\n",
       "      <td>%</td>\n",
       "    </tr>\n",
       "    <tr>\n",
       "      <th>4</th>\n",
       "      <td>AAN DE WATERTOREN::2022</td>\n",
       "      <td>machinery_fuel_usage</td>\n",
       "      <td>0.00</td>\n",
       "      <td>litre</td>\n",
       "    </tr>\n",
       "    <tr>\n",
       "      <th>0</th>\n",
       "      <td>AKAZIENBUSCH::2022</td>\n",
       "      <td>emissions_total</td>\n",
       "      <td>22266.21</td>\n",
       "      <td>kgCO2e</td>\n",
       "    </tr>\n",
       "    <tr>\n",
       "      <th>1</th>\n",
       "      <td>AKAZIENBUSCH::2022</td>\n",
       "      <td>emissions_per_area</td>\n",
       "      <td>2024.20</td>\n",
       "      <td>kgCO2e/ha</td>\n",
       "    </tr>\n",
       "    <tr>\n",
       "      <th>2</th>\n",
       "      <td>AKAZIENBUSCH::2022</td>\n",
       "      <td>emissions_per_product</td>\n",
       "      <td>0.07</td>\n",
       "      <td>kgCO2e/kg</td>\n",
       "    </tr>\n",
       "    <tr>\n",
       "      <th>3</th>\n",
       "      <td>AKAZIENBUSCH::2022</td>\n",
       "      <td>soil_organic_carbon</td>\n",
       "      <td>0.81</td>\n",
       "      <td>%</td>\n",
       "    </tr>\n",
       "    <tr>\n",
       "      <th>4</th>\n",
       "      <td>AKAZIENBUSCH::2022</td>\n",
       "      <td>machinery_fuel_usage</td>\n",
       "      <td>0.00</td>\n",
       "      <td>litre</td>\n",
       "    </tr>\n",
       "    <tr>\n",
       "      <th>0</th>\n",
       "      <td>ARCO LANGRE::2022</td>\n",
       "      <td>emissions_total</td>\n",
       "      <td>32734.82</td>\n",
       "      <td>kgCO2e</td>\n",
       "    </tr>\n",
       "    <tr>\n",
       "      <th>1</th>\n",
       "      <td>ARCO LANGRE::2022</td>\n",
       "      <td>emissions_per_area</td>\n",
       "      <td>2045.93</td>\n",
       "      <td>kgCO2e/ha</td>\n",
       "    </tr>\n",
       "    <tr>\n",
       "      <th>2</th>\n",
       "      <td>ARCO LANGRE::2022</td>\n",
       "      <td>emissions_per_product</td>\n",
       "      <td>0.03</td>\n",
       "      <td>kgCO2e/kg</td>\n",
       "    </tr>\n",
       "    <tr>\n",
       "      <th>3</th>\n",
       "      <td>ARCO LANGRE::2022</td>\n",
       "      <td>soil_organic_carbon</td>\n",
       "      <td>1.00</td>\n",
       "      <td>%</td>\n",
       "    </tr>\n",
       "    <tr>\n",
       "      <th>4</th>\n",
       "      <td>ARCO LANGRE::2022</td>\n",
       "      <td>machinery_fuel_usage</td>\n",
       "      <td>1384.00</td>\n",
       "      <td>litre</td>\n",
       "    </tr>\n",
       "    <tr>\n",
       "      <th>0</th>\n",
       "      <td>AUFELD::2021</td>\n",
       "      <td>emissions_total</td>\n",
       "      <td>8147.65</td>\n",
       "      <td>kgCO2e</td>\n",
       "    </tr>\n",
       "    <tr>\n",
       "      <th>1</th>\n",
       "      <td>AUFELD::2021</td>\n",
       "      <td>emissions_per_area</td>\n",
       "      <td>1275.06</td>\n",
       "      <td>kgCO2e/ha</td>\n",
       "    </tr>\n",
       "    <tr>\n",
       "      <th>2</th>\n",
       "      <td>AUFELD::2021</td>\n",
       "      <td>emissions_per_product</td>\n",
       "      <td>0.22</td>\n",
       "      <td>kgCO2e/kg</td>\n",
       "    </tr>\n",
       "    <tr>\n",
       "      <th>3</th>\n",
       "      <td>AUFELD::2021</td>\n",
       "      <td>soil_organic_carbon</td>\n",
       "      <td>1.22</td>\n",
       "      <td>%</td>\n",
       "    </tr>\n",
       "    <tr>\n",
       "      <th>4</th>\n",
       "      <td>AUFELD::2021</td>\n",
       "      <td>machinery_fuel_usage</td>\n",
       "      <td>0.00</td>\n",
       "      <td>litre</td>\n",
       "    </tr>\n",
       "  </tbody>\n",
       "</table>\n",
       "</div>"
      ],
      "text/plain": [
       "              AssessmentID                 result     value       unit\n",
       "0                A59::2021        emissions_total  32191.05     kgCO2e\n",
       "1                A59::2021     emissions_per_area   2160.47  kgCO2e/ha\n",
       "2                A59::2021  emissions_per_product      0.04  kgCO2e/kg\n",
       "3                A59::2021    soil_organic_carbon      0.81          %\n",
       "4                A59::2021   machinery_fuel_usage      0.00      litre\n",
       "0  AAN DE WATERTOREN::2022        emissions_total   2308.03     kgCO2e\n",
       "1  AAN DE WATERTOREN::2022     emissions_per_area    384.67  kgCO2e/ha\n",
       "2  AAN DE WATERTOREN::2022  emissions_per_product      0.40  kgCO2e/kg\n",
       "3  AAN DE WATERTOREN::2022    soil_organic_carbon      0.52          %\n",
       "4  AAN DE WATERTOREN::2022   machinery_fuel_usage      0.00      litre\n",
       "0       AKAZIENBUSCH::2022        emissions_total  22266.21     kgCO2e\n",
       "1       AKAZIENBUSCH::2022     emissions_per_area   2024.20  kgCO2e/ha\n",
       "2       AKAZIENBUSCH::2022  emissions_per_product      0.07  kgCO2e/kg\n",
       "3       AKAZIENBUSCH::2022    soil_organic_carbon      0.81          %\n",
       "4       AKAZIENBUSCH::2022   machinery_fuel_usage      0.00      litre\n",
       "0        ARCO LANGRE::2022        emissions_total  32734.82     kgCO2e\n",
       "1        ARCO LANGRE::2022     emissions_per_area   2045.93  kgCO2e/ha\n",
       "2        ARCO LANGRE::2022  emissions_per_product      0.03  kgCO2e/kg\n",
       "3        ARCO LANGRE::2022    soil_organic_carbon      1.00          %\n",
       "4        ARCO LANGRE::2022   machinery_fuel_usage   1384.00      litre\n",
       "0             AUFELD::2021        emissions_total   8147.65     kgCO2e\n",
       "1             AUFELD::2021     emissions_per_area   1275.06  kgCO2e/ha\n",
       "2             AUFELD::2021  emissions_per_product      0.22  kgCO2e/kg\n",
       "3             AUFELD::2021    soil_organic_carbon      1.22          %\n",
       "4             AUFELD::2021   machinery_fuel_usage      0.00      litre"
      ]
     },
     "execution_count": 11,
     "metadata": {},
     "output_type": "execute_result"
    }
   ],
   "source": [
    "# parse summary section\n",
    "cft.parse_summary()"
   ]
  },
  {
   "cell_type": "code",
   "execution_count": 12,
   "id": "33086de5",
   "metadata": {},
   "outputs": [
    {
     "data": {
      "text/html": [
       "<div>\n",
       "<style scoped>\n",
       "    .dataframe tbody tr th:only-of-type {\n",
       "        vertical-align: middle;\n",
       "    }\n",
       "\n",
       "    .dataframe tbody tr th {\n",
       "        vertical-align: top;\n",
       "    }\n",
       "\n",
       "    .dataframe thead th {\n",
       "        text-align: right;\n",
       "    }\n",
       "</style>\n",
       "<table border=\"1\" class=\"dataframe\">\n",
       "  <thead>\n",
       "    <tr style=\"text-align: right;\">\n",
       "      <th></th>\n",
       "      <th>AssessmentID</th>\n",
       "      <th>source</th>\n",
       "      <th>CO2</th>\n",
       "      <th>N2O</th>\n",
       "      <th>CH4</th>\n",
       "      <th>total_CO2e</th>\n",
       "      <th>total_CO2e_per_area</th>\n",
       "      <th>total_CO2e_per_product</th>\n",
       "    </tr>\n",
       "  </thead>\n",
       "  <tbody>\n",
       "    <tr>\n",
       "      <th>0</th>\n",
       "      <td>A59::2021</td>\n",
       "      <td>fertiliser_production</td>\n",
       "      <td>32599.30</td>\n",
       "      <td>0.00</td>\n",
       "      <td>0.0</td>\n",
       "      <td>32599.30</td>\n",
       "      <td>2187.87</td>\n",
       "      <td>0.04</td>\n",
       "    </tr>\n",
       "    <tr>\n",
       "      <th>1</th>\n",
       "      <td>A59::2021</td>\n",
       "      <td>fertiliser_soil</td>\n",
       "      <td>0.00</td>\n",
       "      <td>36.28</td>\n",
       "      <td>0.0</td>\n",
       "      <td>9904.84</td>\n",
       "      <td>664.75</td>\n",
       "      <td>0.01</td>\n",
       "    </tr>\n",
       "    <tr>\n",
       "      <th>2</th>\n",
       "      <td>A59::2021</td>\n",
       "      <td>field_energy</td>\n",
       "      <td>4472.92</td>\n",
       "      <td>0.00</td>\n",
       "      <td>0.0</td>\n",
       "      <td>4472.92</td>\n",
       "      <td>300.20</td>\n",
       "      <td>0.01</td>\n",
       "    </tr>\n",
       "    <tr>\n",
       "      <th>3</th>\n",
       "      <td>A59::2021</td>\n",
       "      <td>irrigation</td>\n",
       "      <td>0.00</td>\n",
       "      <td>0.00</td>\n",
       "      <td>0.0</td>\n",
       "      <td>0.00</td>\n",
       "      <td>0.00</td>\n",
       "      <td>0.00</td>\n",
       "    </tr>\n",
       "    <tr>\n",
       "      <th>4</th>\n",
       "      <td>A59::2021</td>\n",
       "      <td>machinery</td>\n",
       "      <td>0.00</td>\n",
       "      <td>0.00</td>\n",
       "      <td>0.0</td>\n",
       "      <td>0.00</td>\n",
       "      <td>0.00</td>\n",
       "      <td>0.00</td>\n",
       "    </tr>\n",
       "    <tr>\n",
       "      <th>...</th>\n",
       "      <td>...</td>\n",
       "      <td>...</td>\n",
       "      <td>...</td>\n",
       "      <td>...</td>\n",
       "      <td>...</td>\n",
       "      <td>...</td>\n",
       "      <td>...</td>\n",
       "      <td>...</td>\n",
       "    </tr>\n",
       "    <tr>\n",
       "      <th>8</th>\n",
       "      <td>AUFELD::2021</td>\n",
       "      <td>residue</td>\n",
       "      <td>0.00</td>\n",
       "      <td>6.94</td>\n",
       "      <td>0.0</td>\n",
       "      <td>1895.89</td>\n",
       "      <td>296.70</td>\n",
       "      <td>0.05</td>\n",
       "    </tr>\n",
       "    <tr>\n",
       "      <th>9</th>\n",
       "      <td>AUFELD::2021</td>\n",
       "      <td>seed</td>\n",
       "      <td>0.00</td>\n",
       "      <td>0.00</td>\n",
       "      <td>0.0</td>\n",
       "      <td>0.00</td>\n",
       "      <td>0.00</td>\n",
       "      <td>0.00</td>\n",
       "    </tr>\n",
       "    <tr>\n",
       "      <th>10</th>\n",
       "      <td>AUFELD::2021</td>\n",
       "      <td>storage</td>\n",
       "      <td>0.00</td>\n",
       "      <td>0.00</td>\n",
       "      <td>0.0</td>\n",
       "      <td>0.00</td>\n",
       "      <td>0.00</td>\n",
       "      <td>0.00</td>\n",
       "    </tr>\n",
       "    <tr>\n",
       "      <th>11</th>\n",
       "      <td>AUFELD::2021</td>\n",
       "      <td>transportation</td>\n",
       "      <td>0.00</td>\n",
       "      <td>0.00</td>\n",
       "      <td>0.0</td>\n",
       "      <td>0.00</td>\n",
       "      <td>0.00</td>\n",
       "      <td>0.00</td>\n",
       "    </tr>\n",
       "    <tr>\n",
       "      <th>12</th>\n",
       "      <td>AUFELD::2021</td>\n",
       "      <td>waste_water</td>\n",
       "      <td>0.00</td>\n",
       "      <td>0.00</td>\n",
       "      <td>0.0</td>\n",
       "      <td>0.00</td>\n",
       "      <td>0.00</td>\n",
       "      <td>0.00</td>\n",
       "    </tr>\n",
       "  </tbody>\n",
       "</table>\n",
       "<p>65 rows × 8 columns</p>\n",
       "</div>"
      ],
      "text/plain": [
       "    AssessmentID                 source       CO2    N2O  CH4  total_CO2e  \\\n",
       "0      A59::2021  fertiliser_production  32599.30   0.00  0.0    32599.30   \n",
       "1      A59::2021        fertiliser_soil      0.00  36.28  0.0     9904.84   \n",
       "2      A59::2021           field_energy   4472.92   0.00  0.0     4472.92   \n",
       "3      A59::2021             irrigation      0.00   0.00  0.0        0.00   \n",
       "4      A59::2021              machinery      0.00   0.00  0.0        0.00   \n",
       "..           ...                    ...       ...    ...  ...         ...   \n",
       "8   AUFELD::2021                residue      0.00   6.94  0.0     1895.89   \n",
       "9   AUFELD::2021                   seed      0.00   0.00  0.0        0.00   \n",
       "10  AUFELD::2021                storage      0.00   0.00  0.0        0.00   \n",
       "11  AUFELD::2021         transportation      0.00   0.00  0.0        0.00   \n",
       "12  AUFELD::2021            waste_water      0.00   0.00  0.0        0.00   \n",
       "\n",
       "    total_CO2e_per_area  total_CO2e_per_product  \n",
       "0               2187.87                    0.04  \n",
       "1                664.75                    0.01  \n",
       "2                300.20                    0.01  \n",
       "3                  0.00                    0.00  \n",
       "4                  0.00                    0.00  \n",
       "..                  ...                     ...  \n",
       "8                296.70                    0.05  \n",
       "9                  0.00                    0.00  \n",
       "10                 0.00                    0.00  \n",
       "11                 0.00                    0.00  \n",
       "12                 0.00                    0.00  \n",
       "\n",
       "[65 rows x 8 columns]"
      ]
     },
     "execution_count": 12,
     "metadata": {},
     "output_type": "execute_result"
    }
   ],
   "source": [
    "# parse detail section\n",
    "cft.parse_detail()"
   ]
  }
 ],
 "metadata": {
  "kernelspec": {
   "display_name": "Python 3 (ipykernel)",
   "language": "python",
   "name": "python3"
  },
  "language_info": {
   "codemirror_mode": {
    "name": "ipython",
    "version": 3
   },
   "file_extension": ".py",
   "mimetype": "text/x-python",
   "name": "python",
   "nbconvert_exporter": "python",
   "pygments_lexer": "ipython3",
   "version": "3.8.5"
  }
 },
 "nbformat": 4,
 "nbformat_minor": 5
}
