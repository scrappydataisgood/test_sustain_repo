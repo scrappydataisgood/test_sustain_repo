{
 "cells": [
  {
   "cell_type": "code",
   "execution_count": null,
   "id": "75f97e16",
   "metadata": {
    "scrolled": true
   },
   "outputs": [],
   "source": [
    "!pip install geneticalgorithm"
   ]
  },
  {
   "cell_type": "code",
   "execution_count": null,
   "id": "9ba4939b",
   "metadata": {},
   "outputs": [],
   "source": [
    "import pandas as pd\n",
    "import numpy as np\n",
    "import sklearn as skt\n",
    "import datetime\n",
    "import matplotlib.pyplot as plt\n",
    "import seaborn as sns\n",
    "import matplotlib\n",
    "import sklearn\n",
    "import seaborn as sns\n",
    "import pickle\n",
    "from mpl_toolkits.mplot3d import Axes3D\n",
    "from sklearn.preprocessing import MinMaxScaler, StandardScaler\n",
    "from sklearn.linear_model import LinearRegression\n",
    "%matplotlib inline\n",
    "sns.set()\n",
    "import matplotlib as mpl\n",
    "mpl.rcParams.update({'figure.max_open_warning': 0})"
   ]
  },
  {
   "cell_type": "code",
   "execution_count": null,
   "id": "68958db7",
   "metadata": {},
   "outputs": [],
   "source": [
    "df = pd.read_csv(\"/mnt/CO2Pred/data/yield_co2_df_summer.csv\")"
   ]
  },
  {
   "cell_type": "code",
   "execution_count": null,
   "id": "90d4e4f8",
   "metadata": {},
   "outputs": [],
   "source": [
    "df.head()\n",
    "dfX = df.iloc[:,0:-2]\n",
    "dfY = df.iloc[:,-2:]"
   ]
  },
  {
   "cell_type": "code",
   "execution_count": null,
   "id": "84d5927b",
   "metadata": {},
   "outputs": [],
   "source": [
    "dfX.head()"
   ]
  },
  {
   "cell_type": "code",
   "execution_count": null,
   "id": "dea403d1",
   "metadata": {},
   "outputs": [],
   "source": [
    "dfY.head()"
   ]
  },
  {
   "cell_type": "code",
   "execution_count": null,
   "id": "93feff4f",
   "metadata": {},
   "outputs": [],
   "source": [
    "loaded_model_co2 = pickle.load(open('/mnt/CO2Pred/Pickle/xgboost_summer_co2', 'rb'))\n",
    "loaded_standard_scaler_co2 = pickle.load(open('/mnt/CO2Pred/Pickle/standard_scaler_co2', 'rb'))\n",
    "loaded_power_scaler_co2 = pickle.load(open('/mnt/CO2Pred/Pickle/power_transform_co2', 'rb'))\n",
    "\n",
    "loaded_model_yield = pickle.load(open('/mnt/CO2Pred/Pickle/xgboost_summer', 'rb'))\n",
    "loaded_standard_scaler_yield = pickle.load(open('/mnt/CO2Pred/Pickle/standard_scaler', 'rb'))\n",
    "loaded_power_scaler_yield = pickle.load(open('/mnt/CO2Pred/Pickle/power_transform', 'rb'))"
   ]
  },
  {
   "cell_type": "code",
   "execution_count": null,
   "id": "34e37f9c",
   "metadata": {},
   "outputs": [],
   "source": [
    "import numpy as np\n",
    "from functools import partial\n",
    "from geneticalgorithm import geneticalgorithm as ga\n",
    "\n",
    "def yield_co2_ratio(context, action):\n",
    "    \"\"\"F are uncontrolled features, X are controlled features\"\"\"\n",
    "    full_features = np.hstack([context,action]).reshape([1,-1])\n",
    "    co2_pred = loaded_standard_scaler_co2.inverse_transform(loaded_power_scaler_co2.inverse_transform(loaded_model_co2.predict(full_features).reshape(-1,1)))\n",
    "    yield_pred = loaded_standard_scaler_yield.inverse_transform(loaded_power_scaler_yield.inverse_transform(loaded_model_yield.predict(full_features).reshape(-1,1)))\n",
    "    return yield_pred/co2_pred\n",
    "\n",
    "varbound=np.array([[0,500]]*7)"
   ]
  },
  {
   "cell_type": "code",
   "execution_count": null,
   "id": "39f7c84d",
   "metadata": {},
   "outputs": [],
   "source": [
    "# convergence=model.report\n",
    "# model.output_dict\n",
    "algorithm_param = {'max_num_iteration': 500,\\\n",
    "                   'population_size':100,\\\n",
    "                   'mutation_probability':0.1,\\\n",
    "                   'elit_ratio': 0.01,\\\n",
    "                   'crossover_probability': 0.5,\\\n",
    "                   'parents_portion': 0.3,\\\n",
    "                   'crossover_type':'uniform',\\\n",
    "                   'max_iteration_without_improv':None}"
   ]
  },
  {
   "cell_type": "code",
   "execution_count": null,
   "id": "0d42d9bf",
   "metadata": {
    "scrolled": true
   },
   "outputs": [],
   "source": [
    "prescription = {i:{\"variable\":None, \"yield_co2_ratio\": None, \"yield_pred\": None, \"co2_pred\":None} for i in range(dfX.shape[0])}\n",
    "for index, row in dfX.iterrows():\n",
    "    context = row.to_numpy()[:2]\n",
    "    fun_to_optimize = partial(yield_co2_ratio, context)\n",
    "\n",
    "    model=ga(function=fun_to_optimize,dimension=7,variable_type='real',variable_boundaries=varbound,algorithm_parameters=algorithm_param)\n",
    "    model.run()\n",
    "    \n",
    "    prescription[index]['variable'] = model.output_dict['variable']\n",
    "    prescription[index]['yield_co2_ratio'] = model.output_dict['function']\n",
    "    \n",
    "    full_features = np.hstack([context,model.output_dict['variable']]).reshape([1,-1])\n",
    "    co2_pred = loaded_standard_scaler_co2.inverse_transform(loaded_power_scaler_co2.inverse_transform(loaded_model_co2.predict(full_features).reshape(-1,1)))\n",
    "    yield_pred = loaded_standard_scaler_yield.inverse_transform(loaded_power_scaler_yield.inverse_transform(loaded_model_yield.predict(full_features).reshape(-1,1)))\n",
    "    \n",
    "    prescription[index]['yield_pred'] = yield_pred\n",
    "    prescription[index]['co2_pred'] = co2_pred"
   ]
  },
  {
   "cell_type": "code",
   "execution_count": null,
   "id": "dd474f43",
   "metadata": {
    "scrolled": true
   },
   "outputs": [],
   "source": [
    "prescription"
   ]
  },
  {
   "cell_type": "code",
   "execution_count": null,
   "id": "b52be5e5",
   "metadata": {},
   "outputs": [],
   "source": [
    "index"
   ]
  },
  {
   "cell_type": "code",
   "execution_count": null,
   "id": "d1b51ad7",
   "metadata": {},
   "outputs": [],
   "source": [
    "prescription[100]"
   ]
  },
  {
   "cell_type": "code",
   "execution_count": null,
   "id": "b2533219",
   "metadata": {},
   "outputs": [],
   "source": [
    "prescription[398]"
   ]
  },
  {
   "cell_type": "markdown",
   "id": "b6bd4a80",
   "metadata": {},
   "source": [
    "#### Save the model"
   ]
  },
  {
   "cell_type": "code",
   "execution_count": null,
   "id": "77487f55",
   "metadata": {},
   "outputs": [],
   "source": [
    "import pickle\n",
    "pres = prescription\n",
    "presPickle = open('pres', 'wb')\n",
    "pickle.dump(pres, presPickle)  "
   ]
  },
  {
   "cell_type": "markdown",
   "id": "ac4efb86",
   "metadata": {},
   "source": [
    "### Load the prescription results and explore"
   ]
  },
  {
   "cell_type": "code",
   "execution_count": null,
   "id": "332c34bc",
   "metadata": {},
   "outputs": [],
   "source": [
    "loaded_pres = pickle.load(open('/mnt/CO2Pred/Pickle/pres', 'rb'))"
   ]
  },
  {
   "cell_type": "code",
   "execution_count": null,
   "id": "b1c3c7f8",
   "metadata": {},
   "outputs": [],
   "source": [
    "2"
   ]
  },
  {
   "cell_type": "code",
   "execution_count": null,
   "id": "b61e458e",
   "metadata": {},
   "outputs": [],
   "source": []
  }
 ],
 "metadata": {
  "kernelspec": {
   "display_name": "Python 3 (ipykernel)",
   "language": "python",
   "name": "python3"
  },
  "language_info": {
   "codemirror_mode": {
    "name": "ipython",
    "version": 3
   },
   "file_extension": ".py",
   "mimetype": "text/x-python",
   "name": "python",
   "nbconvert_exporter": "python",
   "pygments_lexer": "ipython3",
   "version": "3.8.5"
  }
 },
 "nbformat": 4,
 "nbformat_minor": 5
}
