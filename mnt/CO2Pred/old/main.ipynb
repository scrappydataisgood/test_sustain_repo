{
 "cells": [
  {
   "cell_type": "code",
   "execution_count": 1,
   "id": "84940777",
   "metadata": {},
   "outputs": [],
   "source": [
    "import os\n",
    "import pandas as pd\n",
    "import numpy as np\n",
    "import matplotlib.pyplot as plt\n",
    "import seaborn as sns"
   ]
  },
  {
   "cell_type": "code",
   "execution_count": 2,
   "id": "ad5a1d46",
   "metadata": {},
   "outputs": [],
   "source": [
    "sns.set_theme()\n",
    "df = pd.read_csv('/mnt/CO2Pred/data/merged_df_2_22_23.csv', usecols = [4, 5, 8, 9, 12, 17, 26, 27, *list(range(132, 146))])\n",
    "df_all = pd.read_csv('/mnt/CO2Pred/data/merged_df_2_22_23.csv')"
   ]
  },
  {
   "cell_type": "code",
   "execution_count": null,
   "id": "4ae100fc",
   "metadata": {},
   "outputs": [],
   "source": [
    "df.head()"
   ]
  },
  {
   "cell_type": "code",
   "execution_count": null,
   "id": "4a560acc",
   "metadata": {
    "scrolled": true
   },
   "outputs": [],
   "source": [
    "for i,col in enumerate(df.columns):\n",
    "    print(i, \" \", col)"
   ]
  },
  {
   "cell_type": "code",
   "execution_count": null,
   "id": "d9067970",
   "metadata": {},
   "outputs": [],
   "source": [
    "df.columns"
   ]
  },
  {
   "cell_type": "code",
   "execution_count": null,
   "id": "e7264f67",
   "metadata": {},
   "outputs": [],
   "source": [
    "df[\"Trait\"].unique()"
   ]
  },
  {
   "cell_type": "code",
   "execution_count": null,
   "id": "f11dfc39",
   "metadata": {},
   "outputs": [],
   "source": [
    "df[\"Season\"].unique()"
   ]
  },
  {
   "cell_type": "code",
   "execution_count": null,
   "id": "328b0b23",
   "metadata": {},
   "outputs": [],
   "source": [
    "df['Ano'].unique()"
   ]
  },
  {
   "cell_type": "code",
   "execution_count": null,
   "id": "6e8de1fa",
   "metadata": {},
   "outputs": [],
   "source": [
    "df['Site de recebimento'].unique()"
   ]
  },
  {
   "cell_type": "code",
   "execution_count": null,
   "id": "fed7fdda",
   "metadata": {},
   "outputs": [],
   "source": [
    "df.Estado.unique()"
   ]
  },
  {
   "cell_type": "code",
   "execution_count": null,
   "id": "11105394",
   "metadata": {},
   "outputs": [],
   "source": [
    "df['Cultura anterior'].unique()"
   ]
  },
  {
   "cell_type": "code",
   "execution_count": null,
   "id": "01c13e9a",
   "metadata": {},
   "outputs": [],
   "source": [
    "MPL/Ha Plan\n",
    "MPL/Ha real\n",
    "MPL/MPB\n",
    "MPP/MPL\n",
    "PA/MPP\n",
    "PA/MPL\n",
    "Peso MÃ©dio\n",
    "MPB ton\n",
    "MPL ton\n",
    "MPP ton\n",
    "PA ton\n",
    "PA Total Plan\n",
    "Estimativa PA (scs)\n",
    "DS/MPL_calc\n",
    "PA/DS_calc\n",
    "PA/MPL_calc\n",
    "SSU/ha_calc\n",
    "data_plantio_calc\n",
    "Brand_calc\n",
    "Environment_calc"
   ]
  },
  {
   "cell_type": "code",
   "execution_count": null,
   "id": "d9c59f70",
   "metadata": {},
   "outputs": [],
   "source": [
    "num_list = [\"MPL/Ha Plan\",\n",
    "\"MPL/Ha real\",\n",
    "\"MPL/MPB\",\n",
    "\"MPP/MPL\",\n",
    "\"PA/MPP\",\n",
    "\"PA/MPL\",\n",
    "\"Peso Médio\",\n",
    "\"MPB ton\",\n",
    "\"MPL ton\",\n",
    "\"MPP ton\",\n",
    "\"PA ton\",\n",
    "\"PA Total Plan\",\n",
    "\"Estimativa PA (scs)\",\n",
    "\"DS/MPL_calc\",\n",
    "\"PA/DS_calc\",\n",
    "\"PA/MPL_calc\",\n",
    "\"SSU/ha_calc\",\n",
    "\"data_plantio_calc\",\n",
    "\"Brand_calc\"]"
   ]
  },
  {
   "cell_type": "code",
   "execution_count": null,
   "id": "2d96e62d",
   "metadata": {
    "scrolled": true
   },
   "outputs": [],
   "source": [
    "n_bins = 100\n",
    "for column_name in num_list:\n",
    "    fig, ax = plt.subplots(1,1)\n",
    "    ax.hist(df_all.loc[:, column_name], bins = n_bins)\n",
    "    ax.set_title(column_name)    "
   ]
  },
  {
   "cell_type": "code",
   "execution_count": null,
   "id": "f3cbca19",
   "metadata": {},
   "outputs": [],
   "source": [
    "df_cft_latam = pd.read_excel('Cool-Farm-Tool-GHG-Inputs LATAM_v2.xlsx', skiprows = 1)"
   ]
  },
  {
   "cell_type": "code",
   "execution_count": null,
   "id": "35f2cfb9",
   "metadata": {},
   "outputs": [],
   "source": [
    "df_cft_latam[\"Field Name\"].unique().shape"
   ]
  },
  {
   "cell_type": "code",
   "execution_count": null,
   "id": "7c64606c",
   "metadata": {},
   "outputs": [],
   "source": [
    "df_all[\"Field_Name\"].unique().shape"
   ]
  },
  {
   "cell_type": "code",
   "execution_count": null,
   "id": "30028c8f",
   "metadata": {},
   "outputs": [],
   "source": [
    "df_all[\"Field_Name\"] = df_all[\"Field_Name\"].str.replace('_.*', '')"
   ]
  },
  {
   "cell_type": "code",
   "execution_count": null,
   "id": "2907e1cb",
   "metadata": {},
   "outputs": [],
   "source": [
    "df_all[\"Field_Name\"]"
   ]
  },
  {
   "cell_type": "code",
   "execution_count": null,
   "id": "a898e621",
   "metadata": {},
   "outputs": [],
   "source": [
    "df_merge = df_all.merge(df_cft_latam, left_on='Field_Name', right_on='Field Name')"
   ]
  },
  {
   "cell_type": "markdown",
   "id": "2398b10e",
   "metadata": {},
   "source": [
    "### Merge datasets"
   ]
  },
  {
   "cell_type": "code",
   "execution_count": 3,
   "id": "05242c99",
   "metadata": {},
   "outputs": [],
   "source": [
    "df_1 = pd.read_excel('/repos/brazil-sustainability/mnt/Datasets/PC003_consolidated_new (1).xlsx')\n",
    "df_1['Field_Name'] = df_1['Contrato legal'].str[6:]"
   ]
  },
  {
   "cell_type": "code",
   "execution_count": 4,
   "id": "ca8f0a5b",
   "metadata": {},
   "outputs": [
    {
     "data": {
      "text/plain": [
       "M4V2153     2\n",
       "M2I2131     2\n",
       "M7I21127    2\n",
       "M7I21126    2\n",
       "M7I2080     2\n",
       "           ..\n",
       "M6I20164    1\n",
       "M2I2041     1\n",
       "M2I2042     1\n",
       "M2I2043     1\n",
       "M2I2149     1\n",
       "Name: Field_Name, Length: 1226, dtype: int64"
      ]
     },
     "execution_count": 4,
     "metadata": {},
     "output_type": "execute_result"
    }
   ],
   "source": [
    "df_1[(df_1[\"Ano\"] >= 2020)&(df_1[\"Ano\"]<=2021)].Field_Name.value_counts()"
   ]
  },
  {
   "cell_type": "code",
   "execution_count": 25,
   "id": "694d7dc9",
   "metadata": {},
   "outputs": [],
   "source": [
    "df_2 = pd.read_csv('/mnt/CO2Pred/data/br_all_features.csv')\n",
    "# df_2 = df_2.rename(columns = {'Enter Crop Area (ha)': 'Crop_Area_all_subfields', 'Enter Dry Finished Yield Mass (kg)': 'Dry_Yield_Mass_all_subfields'})"
   ]
  },
  {
   "cell_type": "code",
   "execution_count": 26,
   "id": "b1e6c402",
   "metadata": {},
   "outputs": [
    {
     "data": {
      "text/plain": [
       "(5869, 131)"
      ]
     },
     "execution_count": 26,
     "metadata": {},
     "output_type": "execute_result"
    }
   ],
   "source": [
    "df_1 = df_1.drop_duplicates(subset = [\"Field_Name\"])\n",
    "df_1.shape"
   ]
  },
  {
   "cell_type": "code",
   "execution_count": 27,
   "id": "964f4ef5",
   "metadata": {},
   "outputs": [],
   "source": [
    "df_2 = df_2.drop_duplicates(subset = [\"Field_Name\"])"
   ]
  },
  {
   "cell_type": "code",
   "execution_count": 28,
   "id": "95fd81cf",
   "metadata": {},
   "outputs": [
    {
     "data": {
      "text/plain": [
       "(474, 28)"
      ]
     },
     "execution_count": 28,
     "metadata": {},
     "output_type": "execute_result"
    }
   ],
   "source": [
    "df_2.shape"
   ]
  },
  {
   "cell_type": "code",
   "execution_count": 29,
   "id": "c2f27270",
   "metadata": {},
   "outputs": [
    {
     "data": {
      "text/plain": [
       "(474, 131)"
      ]
     },
     "execution_count": 29,
     "metadata": {},
     "output_type": "execute_result"
    }
   ],
   "source": [
    "df_1 = df_1[df_1['Field_Name'].isin(df_2['Field_Name'])].reset_index(drop = True)\n",
    "df_1.shape"
   ]
  },
  {
   "cell_type": "code",
   "execution_count": 30,
   "id": "bb461b34",
   "metadata": {},
   "outputs": [],
   "source": [
    "df_1 = df_1[[\"Hy\", \"Safra\", \"Ano\", \"Site de recebimento\", \"Cultura anterior\", \"Estado\", \"Trait\", \"Field_Name\", \"Area Plantada Total (ha)\"]]"
   ]
  },
  {
   "cell_type": "code",
   "execution_count": 31,
   "id": "f2345399",
   "metadata": {},
   "outputs": [],
   "source": [
    "df_2 = df_2.drop(['Unnamed: 0', 'result', 'value', 'unit'], axis = 1)"
   ]
  },
  {
   "cell_type": "code",
   "execution_count": 32,
   "id": "26d55ed2",
   "metadata": {},
   "outputs": [
    {
     "data": {
      "text/plain": [
       "Index(['Harvest_Year', 'Field_Name', 'Latitude', 'Longitude', 'Crop_Area_ha',\n",
       "       'Total_Wet_Mass_Harvested_kg', 'Dry_Finished_Yield_Mass_kg',\n",
       "       'Soil_Organic_Matter', 'Soil_Drainage', 'Soil_pH', 'Fertilizer_Type',\n",
       "       'Application_Rate_Unit_kg/ha', 'Application_Method', 'N_as_Urea_%',\n",
       "       'N_as_Nitrate_%', 'N_as_Ammonium_%', 'P_as_Phosphorus_%', 'P_as_P2O5_%',\n",
       "       'K_as_Potassium_%', 'K_as_K2O_%', 'Crop_Protection_Application_Doses',\n",
       "       'Machine', 'Num_Passes', 'Total_Water_Applied_mm'],\n",
       "      dtype='object')"
      ]
     },
     "execution_count": 32,
     "metadata": {},
     "output_type": "execute_result"
    }
   ],
   "source": [
    "df_2.columns"
   ]
  },
  {
   "cell_type": "code",
   "execution_count": 33,
   "id": "bbc095ff",
   "metadata": {},
   "outputs": [],
   "source": [
    "df_1 = df_1.merge(df_2, how = 'left', on = 'Field_Name')"
   ]
  },
  {
   "cell_type": "code",
   "execution_count": 34,
   "id": "ca9c5a66",
   "metadata": {},
   "outputs": [
    {
     "data": {
      "text/plain": [
       "(474, 32)"
      ]
     },
     "metadata": {},
     "output_type": "display_data"
    },
    {
     "data": {
      "text/plain": [
       "(474, 24)"
      ]
     },
     "metadata": {},
     "output_type": "display_data"
    }
   ],
   "source": [
    "display(df_1.shape)\n",
    "display(df_2.shape)"
   ]
  },
  {
   "cell_type": "code",
   "execution_count": 35,
   "id": "0fd0b958",
   "metadata": {},
   "outputs": [
    {
     "data": {
      "text/plain": [
       "Index(['Hy', 'Safra', 'Ano', 'Site de recebimento', 'Cultura anterior',\n",
       "       'Estado', 'Trait', 'Field_Name', 'Area Plantada Total (ha)',\n",
       "       'Harvest_Year', 'Latitude', 'Longitude', 'Crop_Area_ha',\n",
       "       'Total_Wet_Mass_Harvested_kg', 'Dry_Finished_Yield_Mass_kg',\n",
       "       'Soil_Organic_Matter', 'Soil_Drainage', 'Soil_pH', 'Fertilizer_Type',\n",
       "       'Application_Rate_Unit_kg/ha', 'Application_Method', 'N_as_Urea_%',\n",
       "       'N_as_Nitrate_%', 'N_as_Ammonium_%', 'P_as_Phosphorus_%', 'P_as_P2O5_%',\n",
       "       'K_as_Potassium_%', 'K_as_K2O_%', 'Crop_Protection_Application_Doses',\n",
       "       'Machine', 'Num_Passes', 'Total_Water_Applied_mm'],\n",
       "      dtype='object')"
      ]
     },
     "execution_count": 35,
     "metadata": {},
     "output_type": "execute_result"
    }
   ],
   "source": [
    "df_1.columns"
   ]
  },
  {
   "cell_type": "code",
   "execution_count": 36,
   "id": "2b278fd4",
   "metadata": {},
   "outputs": [],
   "source": [
    "from sklearn.preprocessing import LabelEncoder"
   ]
  },
  {
   "cell_type": "code",
   "execution_count": 37,
   "id": "40be2ff1",
   "metadata": {},
   "outputs": [],
   "source": [
    "pd.set_option('display.max_columns', None)"
   ]
  },
  {
   "cell_type": "code",
   "execution_count": 38,
   "id": "a230dbb0",
   "metadata": {},
   "outputs": [
    {
     "data": {
      "text/html": [
       "<div>\n",
       "<style scoped>\n",
       "    .dataframe tbody tr th:only-of-type {\n",
       "        vertical-align: middle;\n",
       "    }\n",
       "\n",
       "    .dataframe tbody tr th {\n",
       "        vertical-align: top;\n",
       "    }\n",
       "\n",
       "    .dataframe thead th {\n",
       "        text-align: right;\n",
       "    }\n",
       "</style>\n",
       "<table border=\"1\" class=\"dataframe\">\n",
       "  <thead>\n",
       "    <tr style=\"text-align: right;\">\n",
       "      <th></th>\n",
       "      <th>Hy</th>\n",
       "      <th>Safra</th>\n",
       "      <th>Ano</th>\n",
       "      <th>Site de recebimento</th>\n",
       "      <th>Cultura anterior</th>\n",
       "      <th>Estado</th>\n",
       "      <th>Trait</th>\n",
       "      <th>Field_Name</th>\n",
       "      <th>Area Plantada Total (ha)</th>\n",
       "      <th>Harvest_Year</th>\n",
       "      <th>Latitude</th>\n",
       "      <th>Longitude</th>\n",
       "      <th>Crop_Area_ha</th>\n",
       "      <th>Total_Wet_Mass_Harvested_kg</th>\n",
       "      <th>Dry_Finished_Yield_Mass_kg</th>\n",
       "      <th>Soil_Organic_Matter</th>\n",
       "      <th>Soil_Drainage</th>\n",
       "      <th>Soil_pH</th>\n",
       "      <th>Fertilizer_Type</th>\n",
       "      <th>Application_Rate_Unit_kg/ha</th>\n",
       "      <th>Application_Method</th>\n",
       "      <th>N_as_Urea_%</th>\n",
       "      <th>N_as_Nitrate_%</th>\n",
       "      <th>N_as_Ammonium_%</th>\n",
       "      <th>P_as_Phosphorus_%</th>\n",
       "      <th>P_as_P2O5_%</th>\n",
       "      <th>K_as_Potassium_%</th>\n",
       "      <th>K_as_K2O_%</th>\n",
       "      <th>Crop_Protection_Application_Doses</th>\n",
       "      <th>Machine</th>\n",
       "      <th>Num_Passes</th>\n",
       "      <th>Total_Water_Applied_mm</th>\n",
       "    </tr>\n",
       "  </thead>\n",
       "  <tbody>\n",
       "    <tr>\n",
       "      <th>0</th>\n",
       "      <td>DKB335PRO3</td>\n",
       "      <td>WINTER</td>\n",
       "      <td>2020</td>\n",
       "      <td>UDI</td>\n",
       "      <td>NaN</td>\n",
       "      <td>MG</td>\n",
       "      <td>PRO3</td>\n",
       "      <td>M6I2035</td>\n",
       "      <td>60.0</td>\n",
       "      <td>2020</td>\n",
       "      <td>S 19Â° 23' 25,00\"</td>\n",
       "      <td>W 47Â° 27' 01,70\"</td>\n",
       "      <td>60.0</td>\n",
       "      <td>182960.0</td>\n",
       "      <td>180200.0</td>\n",
       "      <td>2.5</td>\n",
       "      <td>good</td>\n",
       "      <td>5.500000</td>\n",
       "      <td>Compose your own NPK</td>\n",
       "      <td>300.0</td>\n",
       "      <td>Incorporate</td>\n",
       "      <td>0.0</td>\n",
       "      <td>16.0</td>\n",
       "      <td>0.0</td>\n",
       "      <td>16.0</td>\n",
       "      <td>0.0</td>\n",
       "      <td>16.0</td>\n",
       "      <td>0.0</td>\n",
       "      <td>14.0</td>\n",
       "      <td>herbicide spraying</td>\n",
       "      <td>15.0</td>\n",
       "      <td>350.0</td>\n",
       "    </tr>\n",
       "    <tr>\n",
       "      <th>1</th>\n",
       "      <td>DKB335PRO3</td>\n",
       "      <td>WINTER</td>\n",
       "      <td>2020</td>\n",
       "      <td>UDI</td>\n",
       "      <td>NaN</td>\n",
       "      <td>MG</td>\n",
       "      <td>PRO3</td>\n",
       "      <td>M6I2036</td>\n",
       "      <td>90.0</td>\n",
       "      <td>2020</td>\n",
       "      <td>S 19Â° 24' 33,10\"</td>\n",
       "      <td>W 47Â° 25' 10,90\"</td>\n",
       "      <td>180.0</td>\n",
       "      <td>643510.0</td>\n",
       "      <td>418990.0</td>\n",
       "      <td>2.5</td>\n",
       "      <td>good</td>\n",
       "      <td>5.500000</td>\n",
       "      <td>Compose your own NPK</td>\n",
       "      <td>300.0</td>\n",
       "      <td>Incorporate</td>\n",
       "      <td>0.0</td>\n",
       "      <td>16.0</td>\n",
       "      <td>0.0</td>\n",
       "      <td>16.0</td>\n",
       "      <td>0.0</td>\n",
       "      <td>16.0</td>\n",
       "      <td>0.0</td>\n",
       "      <td>18.0</td>\n",
       "      <td>herbicide spraying</td>\n",
       "      <td>15.0</td>\n",
       "      <td>350.0</td>\n",
       "    </tr>\n",
       "    <tr>\n",
       "      <th>2</th>\n",
       "      <td>DKB335PRO3</td>\n",
       "      <td>WINTER</td>\n",
       "      <td>2020</td>\n",
       "      <td>UDI</td>\n",
       "      <td>NaN</td>\n",
       "      <td>MG</td>\n",
       "      <td>PRO3</td>\n",
       "      <td>M6I2037</td>\n",
       "      <td>50.0</td>\n",
       "      <td>2020</td>\n",
       "      <td>S 19Â° 21' 54,70\"</td>\n",
       "      <td>W 47Â° 27' 05,60\"</td>\n",
       "      <td>100.0</td>\n",
       "      <td>311620.0</td>\n",
       "      <td>305180.0</td>\n",
       "      <td>2.5</td>\n",
       "      <td>good</td>\n",
       "      <td>5.500000</td>\n",
       "      <td>Compose your own NPK</td>\n",
       "      <td>300.0</td>\n",
       "      <td>Incorporate</td>\n",
       "      <td>0.0</td>\n",
       "      <td>20.0</td>\n",
       "      <td>0.0</td>\n",
       "      <td>20.0</td>\n",
       "      <td>0.0</td>\n",
       "      <td>20.0</td>\n",
       "      <td>0.0</td>\n",
       "      <td>13.0</td>\n",
       "      <td>herbicide spraying</td>\n",
       "      <td>15.0</td>\n",
       "      <td>350.0</td>\n",
       "    </tr>\n",
       "    <tr>\n",
       "      <th>3</th>\n",
       "      <td>AG8070PRO3</td>\n",
       "      <td>SUMMER</td>\n",
       "      <td>2020</td>\n",
       "      <td>SHG</td>\n",
       "      <td>BATATA</td>\n",
       "      <td>MG</td>\n",
       "      <td>PRO3</td>\n",
       "      <td>M6V2027</td>\n",
       "      <td>38.0</td>\n",
       "      <td>2020</td>\n",
       "      <td>S 19Â° 19' 07,80\"</td>\n",
       "      <td>W 47Â° 22' 36,80\"</td>\n",
       "      <td>190.0</td>\n",
       "      <td>926550.0</td>\n",
       "      <td>461330.0</td>\n",
       "      <td>3.0</td>\n",
       "      <td>good</td>\n",
       "      <td>6.258763</td>\n",
       "      <td>Monoammonium phosphate - 11% N / 52% P2O5</td>\n",
       "      <td>110.0</td>\n",
       "      <td>Incorporate</td>\n",
       "      <td>0.0</td>\n",
       "      <td>0.0</td>\n",
       "      <td>11.0</td>\n",
       "      <td>0.0</td>\n",
       "      <td>52.0</td>\n",
       "      <td>0.0</td>\n",
       "      <td>0.0</td>\n",
       "      <td>19.0</td>\n",
       "      <td>herbicide spraying</td>\n",
       "      <td>15.0</td>\n",
       "      <td>450.0</td>\n",
       "    </tr>\n",
       "    <tr>\n",
       "      <th>4</th>\n",
       "      <td>AG8690PRO3</td>\n",
       "      <td>SUMMER</td>\n",
       "      <td>2020</td>\n",
       "      <td>UDI</td>\n",
       "      <td>BATATA</td>\n",
       "      <td>MG</td>\n",
       "      <td>PRO3</td>\n",
       "      <td>M6V2067</td>\n",
       "      <td>30.0</td>\n",
       "      <td>2020</td>\n",
       "      <td>S 19Â° 20' 12,20\"</td>\n",
       "      <td>W 47Â° 26' 57,90\"</td>\n",
       "      <td>100.0</td>\n",
       "      <td>1005840.0</td>\n",
       "      <td>493570.0</td>\n",
       "      <td>3.0</td>\n",
       "      <td>good</td>\n",
       "      <td>6.492308</td>\n",
       "      <td>Urea - 46% N</td>\n",
       "      <td>220.0</td>\n",
       "      <td>Incorporate</td>\n",
       "      <td>46.0</td>\n",
       "      <td>0.0</td>\n",
       "      <td>0.0</td>\n",
       "      <td>0.0</td>\n",
       "      <td>0.0</td>\n",
       "      <td>0.0</td>\n",
       "      <td>0.0</td>\n",
       "      <td>21.0</td>\n",
       "      <td>herbicide spraying</td>\n",
       "      <td>15.0</td>\n",
       "      <td>450.0</td>\n",
       "    </tr>\n",
       "  </tbody>\n",
       "</table>\n",
       "</div>"
      ],
      "text/plain": [
       "           Hy   Safra   Ano Site de recebimento Cultura anterior Estado Trait  \\\n",
       "0  DKB335PRO3  WINTER  2020                 UDI              NaN     MG  PRO3   \n",
       "1  DKB335PRO3  WINTER  2020                 UDI              NaN     MG  PRO3   \n",
       "2  DKB335PRO3  WINTER  2020                 UDI              NaN     MG  PRO3   \n",
       "3  AG8070PRO3  SUMMER  2020                 SHG           BATATA     MG  PRO3   \n",
       "4  AG8690PRO3  SUMMER  2020                 UDI           BATATA     MG  PRO3   \n",
       "\n",
       "  Field_Name  Area Plantada Total (ha)  Harvest_Year           Latitude  \\\n",
       "0    M6I2035                      60.0          2020  S 19Â° 23' 25,00\"   \n",
       "1    M6I2036                      90.0          2020  S 19Â° 24' 33,10\"   \n",
       "2    M6I2037                      50.0          2020  S 19Â° 21' 54,70\"   \n",
       "3    M6V2027                      38.0          2020  S 19Â° 19' 07,80\"   \n",
       "4    M6V2067                      30.0          2020  S 19Â° 20' 12,20\"   \n",
       "\n",
       "           Longitude  Crop_Area_ha  Total_Wet_Mass_Harvested_kg  \\\n",
       "0  W 47Â° 27' 01,70\"          60.0                     182960.0   \n",
       "1  W 47Â° 25' 10,90\"         180.0                     643510.0   \n",
       "2  W 47Â° 27' 05,60\"         100.0                     311620.0   \n",
       "3  W 47Â° 22' 36,80\"         190.0                     926550.0   \n",
       "4  W 47Â° 26' 57,90\"         100.0                    1005840.0   \n",
       "\n",
       "   Dry_Finished_Yield_Mass_kg  Soil_Organic_Matter Soil_Drainage   Soil_pH  \\\n",
       "0                    180200.0                  2.5          good  5.500000   \n",
       "1                    418990.0                  2.5          good  5.500000   \n",
       "2                    305180.0                  2.5          good  5.500000   \n",
       "3                    461330.0                  3.0          good  6.258763   \n",
       "4                    493570.0                  3.0          good  6.492308   \n",
       "\n",
       "                             Fertilizer_Type  Application_Rate_Unit_kg/ha  \\\n",
       "0                       Compose your own NPK                        300.0   \n",
       "1                       Compose your own NPK                        300.0   \n",
       "2                       Compose your own NPK                        300.0   \n",
       "3  Monoammonium phosphate - 11% N / 52% P2O5                        110.0   \n",
       "4                               Urea - 46% N                        220.0   \n",
       "\n",
       "  Application_Method  N_as_Urea_%  N_as_Nitrate_%  N_as_Ammonium_%  \\\n",
       "0        Incorporate          0.0            16.0              0.0   \n",
       "1        Incorporate          0.0            16.0              0.0   \n",
       "2        Incorporate          0.0            20.0              0.0   \n",
       "3        Incorporate          0.0             0.0             11.0   \n",
       "4        Incorporate         46.0             0.0              0.0   \n",
       "\n",
       "   P_as_Phosphorus_%  P_as_P2O5_%  K_as_Potassium_%  K_as_K2O_%  \\\n",
       "0               16.0          0.0              16.0         0.0   \n",
       "1               16.0          0.0              16.0         0.0   \n",
       "2               20.0          0.0              20.0         0.0   \n",
       "3                0.0         52.0               0.0         0.0   \n",
       "4                0.0          0.0               0.0         0.0   \n",
       "\n",
       "   Crop_Protection_Application_Doses             Machine  Num_Passes  \\\n",
       "0                               14.0  herbicide spraying        15.0   \n",
       "1                               18.0  herbicide spraying        15.0   \n",
       "2                               13.0  herbicide spraying        15.0   \n",
       "3                               19.0  herbicide spraying        15.0   \n",
       "4                               21.0  herbicide spraying        15.0   \n",
       "\n",
       "   Total_Water_Applied_mm  \n",
       "0                   350.0  \n",
       "1                   350.0  \n",
       "2                   350.0  \n",
       "3                   450.0  \n",
       "4                   450.0  "
      ]
     },
     "execution_count": 38,
     "metadata": {},
     "output_type": "execute_result"
    }
   ],
   "source": [
    "df_1.head()"
   ]
  },
  {
   "cell_type": "code",
   "execution_count": 39,
   "id": "691a524f",
   "metadata": {},
   "outputs": [],
   "source": [
    "cat_columns = [\n",
    "    \"Hy\", \"Safra\", \"Site de recebimento\", \"Fertilizer_Type\", \"Application_Method\", \"Machine\", \"Cultura anterior\", \"Estado\", \"Trait\", \"Soil_Drainage\"\n",
    "]"
   ]
  },
  {
   "cell_type": "code",
   "execution_count": 40,
   "id": "291f8cf6",
   "metadata": {
    "scrolled": true
   },
   "outputs": [
    {
     "name": "stdout",
     "output_type": "stream",
     "text": [
      "AG8480PRO3     39\n",
      "DKB230PRO3     30\n",
      "DKB255PRO3     30\n",
      "DKB265PRO3     28\n",
      "AG8700PRO3     26\n",
      "AS1844PRO3     23\n",
      "DKB290PRO3     21\n",
      "AS1666PRO3     19\n",
      "DKB360PRO3     19\n",
      "DKB363PRO3     17\n",
      "AG8780PRO3     17\n",
      "AG9030PRO3     14\n",
      "AG9025PRO3     14\n",
      "DKB335PRO3     13\n",
      "AS1777PRO3     13\n",
      "AG8061PRO2     12\n",
      "AS1820PRO3     11\n",
      "AS1633PRO3     10\n",
      "AG8088PRO2     10\n",
      "AG8070PRO3      9\n",
      "AS1757PRO3      9\n",
      "AG7098PRO2      9\n",
      "DKB177PRO3      8\n",
      "AS1868PRO3      7\n",
      "AG7088PRO3      7\n",
      "AS1633PRO3I     6\n",
      "3700RR2         6\n",
      "AG8690PRO3      5\n",
      "AG1051          5\n",
      "AG8065PRO3      4\n",
      "AG9000PRO3      3\n",
      "AG9050PRO3      3\n",
      "DKB390PRO2      3\n",
      "DKB240PRO3      3\n",
      "3320RR2         3\n",
      "AG8780PRO       2\n",
      "3500RR2         2\n",
      "AS1677PRO3      2\n",
      "DKB390PRO4      2\n",
      "AG8700PRO4      2\n",
      "3110RR2         2\n",
      "AG8061          1\n",
      "DKB345PRO3      1\n",
      "AG7088RR2       1\n",
      "AG9040          1\n",
      "2200RR2         1\n",
      "AS1850PRO3      1\n",
      "Name: Hy, dtype: int64\n",
      "\n",
      "WINTER    269\n",
      "SUMMER    205\n",
      "Name: Safra, dtype: int64\n",
      "\n",
      "UDI     146\n",
      "PTU     121\n",
      "SHG      55\n",
      "CVE      54\n",
      "ITA      44\n",
      "IPU      42\n",
      "TCNS      9\n",
      "VAL       3\n",
      "Name: Site de recebimento, dtype: int64\n",
      "\n",
      "Compose your own NPK                                172\n",
      "Monoammonium phosphate - 11% N / 52% P2O5           160\n",
      "Muriate of potash / Potassium chloride - 60% K2O     49\n",
      "Urea - 46% N                                         43\n",
      "Ammonium sulphate - 21% N                            29\n",
      "Calcium ammonium nitrate - 27% N                     21\n",
      "Name: Fertilizer_Type, dtype: int64\n",
      "\n",
      "Incorporate          473\n",
      "Apply in solution      1\n",
      "Name: Application_Method, dtype: int64\n",
      "\n",
      "herbicide spraying    474\n",
      "Name: Machine, dtype: int64\n",
      "\n",
      "TRIGO         47\n",
      "FEIJÃO        27\n",
      "MILHETO       17\n",
      "BATATA        13\n",
      "SOJA           9\n",
      "BRACHIARIA     3\n",
      "POUSIO         3\n",
      "AVEIA          3\n",
      "ALGODÃO        3\n",
      "CEVADA         2\n",
      "ALGODAO        2\n",
      "TRIGO MOUR     1\n",
      "FEIJAO         1\n",
      "ADUB VERDE     1\n",
      "Name: Cultura anterior, dtype: int64\n",
      "\n",
      "MG    180\n",
      "GO    160\n",
      "SP     70\n",
      "MT     57\n",
      "DF      7\n",
      "Name: Estado, dtype: int64\n",
      "\n",
      "PRO3    412\n",
      "PRO2     34\n",
      "RR2      15\n",
      "CONV      6\n",
      "PRO4      4\n",
      "PRO       3\n",
      "Name: Trait, dtype: int64\n",
      "\n",
      "good    471\n",
      "poor      3\n",
      "Name: Soil_Drainage, dtype: int64\n",
      "\n"
     ]
    }
   ],
   "source": [
    "for col in cat_columns:\n",
    "    print(df_1[col].value_counts())\n",
    "    print()"
   ]
  },
  {
   "cell_type": "code",
   "execution_count": 41,
   "id": "6f42ff29",
   "metadata": {},
   "outputs": [],
   "source": [
    "df_1 = df_1.drop([\"Machine\", \"Application_Method\", \"Latitude\", \"Longitude\", \"Field_Name\", \"Ano\", \"Dry_Finished_Yield_Mass_kg\"], axis = 1)"
   ]
  },
  {
   "cell_type": "code",
   "execution_count": 42,
   "id": "5444cbc0",
   "metadata": {
    "scrolled": true
   },
   "outputs": [
    {
     "data": {
      "image/png": "[encoded data removed]",
      "text/plain": [
       "<Figure size 432x288 with 1 Axes>"
      ]
     },
     "metadata": {},
     "output_type": "display_data"
    },
    {
     "data": {
      "image/png": "[encoded data removed]",
      "text/plain": [
       "<Figure size 432x288 with 1 Axes>"
      ]
     },
     "metadata": {},
     "output_type": "display_data"
    },
    {
     "data": {
      "image/png": "[encoded data removed]",
      "text/plain": [
       "<Figure size 432x288 with 1 Axes>"
      ]
     },
     "metadata": {},
     "output_type": "display_data"
    },
    {
     "data": {
      "image/png": "[encoded data removed]",
      "text/plain": [
       "<Figure size 432x288 with 1 Axes>"
      ]
     },
     "metadata": {},
     "output_type": "display_data"
    },
    {
     "data": {
      "image/png": "[encoded data removed]",
      "text/plain": [
       "<Figure size 432x288 with 1 Axes>"
      ]
     },
     "metadata": {},
     "output_type": "display_data"
    },
    {
     "data": {
      "image/png": "[encoded data removed]",
      "text/plain": [
       "<Figure size 432x288 with 1 Axes>"
      ]
     },
     "metadata": {},
     "output_type": "display_data"
    },
    {
     "data": {
      "image/png": "[encoded data removed]",
      "text/plain": [
       "<Figure size 432x288 with 1 Axes>"
      ]
     },
     "metadata": {},
     "output_type": "display_data"
    },
    {
     "data": {
      "image/png": "[encoded data removed]",
      "text/plain": [
       "<Figure size 432x288 with 1 Axes>"
      ]
     },
     "metadata": {},
     "output_type": "display_data"
    },
    {
     "data": {
      "image/png": "[encoded data removed]",
      "text/plain": [
       "<Figure size 432x288 with 1 Axes>"
      ]
     },
     "metadata": {},
     "output_type": "display_data"
    },
    {
     "data": {
      "image/png": "[encoded data removed]",
      "text/plain": [
       "<Figure size 432x288 with 1 Axes>"
      ]
     },
     "metadata": {},
     "output_type": "display_data"
    },
    {
     "data": {
      "image/png": "[encoded data removed]",
      "text/plain": [
       "<Figure size 432x288 with 1 Axes>"
      ]
     },
     "metadata": {},
     "output_type": "display_data"
    },
    {
     "data": {
      "image/png": "[encoded data removed]",
      "text/plain": [
       "<Figure size 432x288 with 1 Axes>"
      ]
     },
     "metadata": {},
     "output_type": "display_data"
    },
    {
     "data": {
      "image/png": "[encoded data removed]",
      "text/plain": [
       "<Figure size 432x288 with 1 Axes>"
      ]
     },
     "metadata": {},
     "output_type": "display_data"
    },
    {
     "data": {
      "image/png": "[encoded data removed]",
      "text/plain": [
       "<Figure size 432x288 with 1 Axes>"
      ]
     },
     "metadata": {},
     "output_type": "display_data"
    },
    {
     "data": {
      "image/png": "[encoded data removed]",
      "text/plain": [
       "<Figure size 432x288 with 1 Axes>"
      ]
     },
     "metadata": {},
     "output_type": "display_data"
    },
    {
     "data": {
      "image/png": "[encoded data removed]",
      "text/plain": [
       "<Figure size 432x288 with 1 Axes>"
      ]
     },
     "metadata": {},
     "output_type": "display_data"
    },
    {
     "data": {
      "image/png": "[encoded data removed]",
      "text/plain": [
       "<Figure size 432x288 with 1 Axes>"
      ]
     },
     "metadata": {},
     "output_type": "display_data"
    }
   ],
   "source": [
    "n_bins = 100\n",
    "for col in df_1.columns:\n",
    "    if col not in cat_columns:\n",
    "        fig, ax = plt.subplots(1,1)\n",
    "        ax.hist(df_1.loc[:, col], bins = n_bins)\n",
    "        ax.set_title(col)"
   ]
  },
  {
   "cell_type": "code",
   "execution_count": 102,
   "id": "50ba6ffc",
   "metadata": {},
   "outputs": [
    {
     "data": {
      "text/plain": [
       "Index(['Hy', 'Safra', 'Ano', 'Site de recebimento', 'Cultura anterior',\n",
       "       'Estado', 'Trait', 'Field_Name', 'Area Plantada Total (ha)',\n",
       "       'Harvest_Year', 'Crop_Area_ha', 'Total_Wet_Mass_Harvested_kg',\n",
       "       'Dry_Finished_Yield_Mass_kg', 'Soil_Organic_Matter', 'Soil_Drainage',\n",
       "       'Soil_pH', 'Fertilizer_Type', 'Application_Rate_Unit_kg/ha',\n",
       "       'N_as_Urea_%', 'N_as_Nitrate_%', 'N_as_Ammonium_%', 'P_as_Phosphorus_%',\n",
       "       'P_as_P2O5_%', 'K_as_Potassium_%', 'K_as_K2O_%',\n",
       "       'Crop_Protection_Application_Doses', 'Num_Passes',\n",
       "       'Total_Water_Applied_mm'],\n",
       "      dtype='object')"
      ]
     },
     "execution_count": 102,
     "metadata": {},
     "output_type": "execute_result"
    }
   ],
   "source": [
    "df_1.columns"
   ]
  },
  {
   "cell_type": "code",
   "execution_count": 104,
   "id": "1b8a4f12",
   "metadata": {},
   "outputs": [],
   "source": [
    "df_1.drop(['Harvest_Year', 'Ano'], axis = 1, inplace = True)"
   ]
  },
  {
   "cell_type": "code",
   "execution_count": 111,
   "id": "1614c3ae",
   "metadata": {},
   "outputs": [
    {
     "data": {
      "text/plain": [
       "Index(['Hy', 'Safra', 'Site de recebimento', 'Cultura anterior', 'Estado',\n",
       "       'Trait', 'Field_Name', 'Area Plantada Total (ha)', 'Crop_Area_ha',\n",
       "       'Total_Wet_Mass_Harvested_kg', 'Dry_Finished_Yield_Mass_kg',\n",
       "       'Soil_Organic_Matter', 'Soil_Drainage', 'Soil_pH', 'Fertilizer_Type',\n",
       "       'Application_Rate_Unit_kg/ha', 'N_as_Urea_%', 'N_as_Nitrate_%',\n",
       "       'N_as_Ammonium_%', 'P_as_Phosphorus_%', 'P_as_P2O5_%',\n",
       "       'K_as_Potassium_%', 'K_as_K2O_%', 'Crop_Protection_Application_Doses',\n",
       "       'Num_Passes', 'Total_Water_Applied_mm'],\n",
       "      dtype='object')"
      ]
     },
     "execution_count": 111,
     "metadata": {},
     "output_type": "execute_result"
    }
   ],
   "source": [
    "df_1.columns"
   ]
  },
  {
   "cell_type": "code",
   "execution_count": 112,
   "id": "79c1b938",
   "metadata": {},
   "outputs": [],
   "source": [
    "cat_columns = [\n",
    "    \"Hy\", \"Safra\", \"Site de recebimento\", \"Fertilizer_Type\", \"Cultura anterior\", \"Estado\", \"Trait\", \"Soil_Drainage\"\n",
    "]\n",
    "\n",
    "df_1e = df_1.copy()\n",
    "\n",
    "for col in cat_columns:\n",
    "    le = LabelEncoder()\n",
    "    encoded = le.fit_transform(df_1[col])\n",
    "    df_1e[col] = encoded"
   ]
  },
  {
   "cell_type": "code",
   "execution_count": 113,
   "id": "0e2abe75",
   "metadata": {},
   "outputs": [
    {
     "data": {
      "text/html": [
       "<div>\n",
       "<style scoped>\n",
       "    .dataframe tbody tr th:only-of-type {\n",
       "        vertical-align: middle;\n",
       "    }\n",
       "\n",
       "    .dataframe tbody tr th {\n",
       "        vertical-align: top;\n",
       "    }\n",
       "\n",
       "    .dataframe thead th {\n",
       "        text-align: right;\n",
       "    }\n",
       "</style>\n",
       "<table border=\"1\" class=\"dataframe\">\n",
       "  <thead>\n",
       "    <tr style=\"text-align: right;\">\n",
       "      <th></th>\n",
       "      <th>Hy</th>\n",
       "      <th>Safra</th>\n",
       "      <th>Site de recebimento</th>\n",
       "      <th>Cultura anterior</th>\n",
       "      <th>Estado</th>\n",
       "      <th>Trait</th>\n",
       "      <th>Field_Name</th>\n",
       "      <th>Area Plantada Total (ha)</th>\n",
       "      <th>Crop_Area_ha</th>\n",
       "      <th>Total_Wet_Mass_Harvested_kg</th>\n",
       "      <th>Dry_Finished_Yield_Mass_kg</th>\n",
       "      <th>Soil_Organic_Matter</th>\n",
       "      <th>Soil_Drainage</th>\n",
       "      <th>Soil_pH</th>\n",
       "      <th>Fertilizer_Type</th>\n",
       "      <th>Application_Rate_Unit_kg/ha</th>\n",
       "      <th>N_as_Urea_%</th>\n",
       "      <th>N_as_Nitrate_%</th>\n",
       "      <th>N_as_Ammonium_%</th>\n",
       "      <th>P_as_Phosphorus_%</th>\n",
       "      <th>P_as_P2O5_%</th>\n",
       "      <th>K_as_Potassium_%</th>\n",
       "      <th>K_as_K2O_%</th>\n",
       "      <th>Crop_Protection_Application_Doses</th>\n",
       "      <th>Num_Passes</th>\n",
       "      <th>Total_Water_Applied_mm</th>\n",
       "    </tr>\n",
       "  </thead>\n",
       "  <tbody>\n",
       "    <tr>\n",
       "      <th>0</th>\n",
       "      <td>41</td>\n",
       "      <td>1</td>\n",
       "      <td>6</td>\n",
       "      <td>14</td>\n",
       "      <td>2</td>\n",
       "      <td>3</td>\n",
       "      <td>M6I2035</td>\n",
       "      <td>60.0</td>\n",
       "      <td>60.0</td>\n",
       "      <td>182960.0</td>\n",
       "      <td>180200.0</td>\n",
       "      <td>2.500000</td>\n",
       "      <td>0</td>\n",
       "      <td>5.500000</td>\n",
       "      <td>2</td>\n",
       "      <td>300.0</td>\n",
       "      <td>0.0</td>\n",
       "      <td>16.0</td>\n",
       "      <td>0.0</td>\n",
       "      <td>16.0</td>\n",
       "      <td>0.0</td>\n",
       "      <td>16.0</td>\n",
       "      <td>0.0</td>\n",
       "      <td>14.0</td>\n",
       "      <td>15.0</td>\n",
       "      <td>350.0</td>\n",
       "    </tr>\n",
       "    <tr>\n",
       "      <th>1</th>\n",
       "      <td>41</td>\n",
       "      <td>1</td>\n",
       "      <td>6</td>\n",
       "      <td>14</td>\n",
       "      <td>2</td>\n",
       "      <td>3</td>\n",
       "      <td>M6I2036</td>\n",
       "      <td>90.0</td>\n",
       "      <td>180.0</td>\n",
       "      <td>643510.0</td>\n",
       "      <td>418990.0</td>\n",
       "      <td>2.500000</td>\n",
       "      <td>0</td>\n",
       "      <td>5.500000</td>\n",
       "      <td>2</td>\n",
       "      <td>300.0</td>\n",
       "      <td>0.0</td>\n",
       "      <td>16.0</td>\n",
       "      <td>0.0</td>\n",
       "      <td>16.0</td>\n",
       "      <td>0.0</td>\n",
       "      <td>16.0</td>\n",
       "      <td>0.0</td>\n",
       "      <td>18.0</td>\n",
       "      <td>15.0</td>\n",
       "      <td>350.0</td>\n",
       "    </tr>\n",
       "    <tr>\n",
       "      <th>2</th>\n",
       "      <td>41</td>\n",
       "      <td>1</td>\n",
       "      <td>6</td>\n",
       "      <td>14</td>\n",
       "      <td>2</td>\n",
       "      <td>3</td>\n",
       "      <td>M6I2037</td>\n",
       "      <td>50.0</td>\n",
       "      <td>100.0</td>\n",
       "      <td>311620.0</td>\n",
       "      <td>305180.0</td>\n",
       "      <td>2.500000</td>\n",
       "      <td>0</td>\n",
       "      <td>5.500000</td>\n",
       "      <td>2</td>\n",
       "      <td>300.0</td>\n",
       "      <td>0.0</td>\n",
       "      <td>20.0</td>\n",
       "      <td>0.0</td>\n",
       "      <td>20.0</td>\n",
       "      <td>0.0</td>\n",
       "      <td>20.0</td>\n",
       "      <td>0.0</td>\n",
       "      <td>13.0</td>\n",
       "      <td>15.0</td>\n",
       "      <td>350.0</td>\n",
       "    </tr>\n",
       "    <tr>\n",
       "      <th>3</th>\n",
       "      <td>12</td>\n",
       "      <td>0</td>\n",
       "      <td>4</td>\n",
       "      <td>4</td>\n",
       "      <td>2</td>\n",
       "      <td>3</td>\n",
       "      <td>M6V2027</td>\n",
       "      <td>38.0</td>\n",
       "      <td>190.0</td>\n",
       "      <td>926550.0</td>\n",
       "      <td>461330.0</td>\n",
       "      <td>3.000000</td>\n",
       "      <td>0</td>\n",
       "      <td>6.258763</td>\n",
       "      <td>3</td>\n",
       "      <td>110.0</td>\n",
       "      <td>0.0</td>\n",
       "      <td>0.0</td>\n",
       "      <td>11.0</td>\n",
       "      <td>0.0</td>\n",
       "      <td>52.0</td>\n",
       "      <td>0.0</td>\n",
       "      <td>0.0</td>\n",
       "      <td>19.0</td>\n",
       "      <td>15.0</td>\n",
       "      <td>450.0</td>\n",
       "    </tr>\n",
       "    <tr>\n",
       "      <th>4</th>\n",
       "      <td>15</td>\n",
       "      <td>0</td>\n",
       "      <td>6</td>\n",
       "      <td>4</td>\n",
       "      <td>2</td>\n",
       "      <td>3</td>\n",
       "      <td>M6V2067</td>\n",
       "      <td>30.0</td>\n",
       "      <td>100.0</td>\n",
       "      <td>1005840.0</td>\n",
       "      <td>493570.0</td>\n",
       "      <td>3.000000</td>\n",
       "      <td>0</td>\n",
       "      <td>6.492308</td>\n",
       "      <td>5</td>\n",
       "      <td>220.0</td>\n",
       "      <td>46.0</td>\n",
       "      <td>0.0</td>\n",
       "      <td>0.0</td>\n",
       "      <td>0.0</td>\n",
       "      <td>0.0</td>\n",
       "      <td>0.0</td>\n",
       "      <td>0.0</td>\n",
       "      <td>21.0</td>\n",
       "      <td>15.0</td>\n",
       "      <td>450.0</td>\n",
       "    </tr>\n",
       "    <tr>\n",
       "      <th>...</th>\n",
       "      <td>...</td>\n",
       "      <td>...</td>\n",
       "      <td>...</td>\n",
       "      <td>...</td>\n",
       "      <td>...</td>\n",
       "      <td>...</td>\n",
       "      <td>...</td>\n",
       "      <td>...</td>\n",
       "      <td>...</td>\n",
       "      <td>...</td>\n",
       "      <td>...</td>\n",
       "      <td>...</td>\n",
       "      <td>...</td>\n",
       "      <td>...</td>\n",
       "      <td>...</td>\n",
       "      <td>...</td>\n",
       "      <td>...</td>\n",
       "      <td>...</td>\n",
       "      <td>...</td>\n",
       "      <td>...</td>\n",
       "      <td>...</td>\n",
       "      <td>...</td>\n",
       "      <td>...</td>\n",
       "      <td>...</td>\n",
       "      <td>...</td>\n",
       "      <td>...</td>\n",
       "    </tr>\n",
       "    <tr>\n",
       "      <th>469</th>\n",
       "      <td>5</td>\n",
       "      <td>1</td>\n",
       "      <td>4</td>\n",
       "      <td>14</td>\n",
       "      <td>1</td>\n",
       "      <td>0</td>\n",
       "      <td>M6I20179</td>\n",
       "      <td>45.0</td>\n",
       "      <td>45.0</td>\n",
       "      <td>434130.0</td>\n",
       "      <td>246630.0</td>\n",
       "      <td>2.500000</td>\n",
       "      <td>0</td>\n",
       "      <td>5.500000</td>\n",
       "      <td>2</td>\n",
       "      <td>400.0</td>\n",
       "      <td>0.0</td>\n",
       "      <td>4.0</td>\n",
       "      <td>0.0</td>\n",
       "      <td>30.0</td>\n",
       "      <td>0.0</td>\n",
       "      <td>10.0</td>\n",
       "      <td>0.0</td>\n",
       "      <td>9.0</td>\n",
       "      <td>15.0</td>\n",
       "      <td>350.0</td>\n",
       "    </tr>\n",
       "    <tr>\n",
       "      <th>470</th>\n",
       "      <td>41</td>\n",
       "      <td>1</td>\n",
       "      <td>2</td>\n",
       "      <td>0</td>\n",
       "      <td>2</td>\n",
       "      <td>3</td>\n",
       "      <td>M6I2130</td>\n",
       "      <td>45.0</td>\n",
       "      <td>45.0</td>\n",
       "      <td>213050.0</td>\n",
       "      <td>121500.0</td>\n",
       "      <td>2.500000</td>\n",
       "      <td>0</td>\n",
       "      <td>5.500000</td>\n",
       "      <td>3</td>\n",
       "      <td>220.0</td>\n",
       "      <td>0.0</td>\n",
       "      <td>0.0</td>\n",
       "      <td>11.0</td>\n",
       "      <td>0.0</td>\n",
       "      <td>52.0</td>\n",
       "      <td>0.0</td>\n",
       "      <td>0.0</td>\n",
       "      <td>12.0</td>\n",
       "      <td>15.0</td>\n",
       "      <td>350.0</td>\n",
       "    </tr>\n",
       "    <tr>\n",
       "      <th>471</th>\n",
       "      <td>41</td>\n",
       "      <td>1</td>\n",
       "      <td>1</td>\n",
       "      <td>11</td>\n",
       "      <td>2</td>\n",
       "      <td>3</td>\n",
       "      <td>M6I2172</td>\n",
       "      <td>40.0</td>\n",
       "      <td>40.0</td>\n",
       "      <td>189370.0</td>\n",
       "      <td>108000.0</td>\n",
       "      <td>2.720000</td>\n",
       "      <td>0</td>\n",
       "      <td>5.500000</td>\n",
       "      <td>3</td>\n",
       "      <td>220.0</td>\n",
       "      <td>0.0</td>\n",
       "      <td>0.0</td>\n",
       "      <td>11.0</td>\n",
       "      <td>0.0</td>\n",
       "      <td>52.0</td>\n",
       "      <td>0.0</td>\n",
       "      <td>0.0</td>\n",
       "      <td>12.0</td>\n",
       "      <td>15.0</td>\n",
       "      <td>350.0</td>\n",
       "    </tr>\n",
       "    <tr>\n",
       "      <th>472</th>\n",
       "      <td>31</td>\n",
       "      <td>1</td>\n",
       "      <td>6</td>\n",
       "      <td>11</td>\n",
       "      <td>2</td>\n",
       "      <td>3</td>\n",
       "      <td>M7I21131</td>\n",
       "      <td>44.5</td>\n",
       "      <td>44.5</td>\n",
       "      <td>308020.0</td>\n",
       "      <td>160200.0</td>\n",
       "      <td>3.950562</td>\n",
       "      <td>0</td>\n",
       "      <td>5.500000</td>\n",
       "      <td>3</td>\n",
       "      <td>155.0</td>\n",
       "      <td>0.0</td>\n",
       "      <td>0.0</td>\n",
       "      <td>11.0</td>\n",
       "      <td>0.0</td>\n",
       "      <td>52.0</td>\n",
       "      <td>0.0</td>\n",
       "      <td>0.0</td>\n",
       "      <td>20.0</td>\n",
       "      <td>15.0</td>\n",
       "      <td>350.0</td>\n",
       "    </tr>\n",
       "    <tr>\n",
       "      <th>473</th>\n",
       "      <td>31</td>\n",
       "      <td>1</td>\n",
       "      <td>3</td>\n",
       "      <td>11</td>\n",
       "      <td>2</td>\n",
       "      <td>3</td>\n",
       "      <td>M7I2196</td>\n",
       "      <td>30.0</td>\n",
       "      <td>30.0</td>\n",
       "      <td>190350.0</td>\n",
       "      <td>99000.0</td>\n",
       "      <td>3.200000</td>\n",
       "      <td>0</td>\n",
       "      <td>5.500000</td>\n",
       "      <td>3</td>\n",
       "      <td>148.5</td>\n",
       "      <td>0.0</td>\n",
       "      <td>0.0</td>\n",
       "      <td>11.0</td>\n",
       "      <td>0.0</td>\n",
       "      <td>52.0</td>\n",
       "      <td>0.0</td>\n",
       "      <td>0.0</td>\n",
       "      <td>20.0</td>\n",
       "      <td>15.0</td>\n",
       "      <td>350.0</td>\n",
       "    </tr>\n",
       "  </tbody>\n",
       "</table>\n",
       "<p>474 rows × 26 columns</p>\n",
       "</div>"
      ],
      "text/plain": [
       "     Hy  Safra  Site de recebimento  Cultura anterior  Estado  Trait  \\\n",
       "0    41      1                    6                14       2      3   \n",
       "1    41      1                    6                14       2      3   \n",
       "2    41      1                    6                14       2      3   \n",
       "3    12      0                    4                 4       2      3   \n",
       "4    15      0                    6                 4       2      3   \n",
       "..   ..    ...                  ...               ...     ...    ...   \n",
       "469   5      1                    4                14       1      0   \n",
       "470  41      1                    2                 0       2      3   \n",
       "471  41      1                    1                11       2      3   \n",
       "472  31      1                    6                11       2      3   \n",
       "473  31      1                    3                11       2      3   \n",
       "\n",
       "    Field_Name  Area Plantada Total (ha)  Crop_Area_ha  \\\n",
       "0      M6I2035                      60.0          60.0   \n",
       "1      M6I2036                      90.0         180.0   \n",
       "2      M6I2037                      50.0         100.0   \n",
       "3      M6V2027                      38.0         190.0   \n",
       "4      M6V2067                      30.0         100.0   \n",
       "..         ...                       ...           ...   \n",
       "469   M6I20179                      45.0          45.0   \n",
       "470    M6I2130                      45.0          45.0   \n",
       "471    M6I2172                      40.0          40.0   \n",
       "472   M7I21131                      44.5          44.5   \n",
       "473    M7I2196                      30.0          30.0   \n",
       "\n",
       "     Total_Wet_Mass_Harvested_kg  Dry_Finished_Yield_Mass_kg  \\\n",
       "0                       182960.0                    180200.0   \n",
       "1                       643510.0                    418990.0   \n",
       "2                       311620.0                    305180.0   \n",
       "3                       926550.0                    461330.0   \n",
       "4                      1005840.0                    493570.0   \n",
       "..                           ...                         ...   \n",
       "469                     434130.0                    246630.0   \n",
       "470                     213050.0                    121500.0   \n",
       "471                     189370.0                    108000.0   \n",
       "472                     308020.0                    160200.0   \n",
       "473                     190350.0                     99000.0   \n",
       "\n",
       "     Soil_Organic_Matter  Soil_Drainage   Soil_pH  Fertilizer_Type  \\\n",
       "0               2.500000              0  5.500000                2   \n",
       "1               2.500000              0  5.500000                2   \n",
       "2               2.500000              0  5.500000                2   \n",
       "3               3.000000              0  6.258763                3   \n",
       "4               3.000000              0  6.492308                5   \n",
       "..                   ...            ...       ...              ...   \n",
       "469             2.500000              0  5.500000                2   \n",
       "470             2.500000              0  5.500000                3   \n",
       "471             2.720000              0  5.500000                3   \n",
       "472             3.950562              0  5.500000                3   \n",
       "473             3.200000              0  5.500000                3   \n",
       "\n",
       "     Application_Rate_Unit_kg/ha  N_as_Urea_%  N_as_Nitrate_%  \\\n",
       "0                          300.0          0.0            16.0   \n",
       "1                          300.0          0.0            16.0   \n",
       "2                          300.0          0.0            20.0   \n",
       "3                          110.0          0.0             0.0   \n",
       "4                          220.0         46.0             0.0   \n",
       "..                           ...          ...             ...   \n",
       "469                        400.0          0.0             4.0   \n",
       "470                        220.0          0.0             0.0   \n",
       "471                        220.0          0.0             0.0   \n",
       "472                        155.0          0.0             0.0   \n",
       "473                        148.5          0.0             0.0   \n",
       "\n",
       "     N_as_Ammonium_%  P_as_Phosphorus_%  P_as_P2O5_%  K_as_Potassium_%  \\\n",
       "0                0.0               16.0          0.0              16.0   \n",
       "1                0.0               16.0          0.0              16.0   \n",
       "2                0.0               20.0          0.0              20.0   \n",
       "3               11.0                0.0         52.0               0.0   \n",
       "4                0.0                0.0          0.0               0.0   \n",
       "..               ...                ...          ...               ...   \n",
       "469              0.0               30.0          0.0              10.0   \n",
       "470             11.0                0.0         52.0               0.0   \n",
       "471             11.0                0.0         52.0               0.0   \n",
       "472             11.0                0.0         52.0               0.0   \n",
       "473             11.0                0.0         52.0               0.0   \n",
       "\n",
       "     K_as_K2O_%  Crop_Protection_Application_Doses  Num_Passes  \\\n",
       "0           0.0                               14.0        15.0   \n",
       "1           0.0                               18.0        15.0   \n",
       "2           0.0                               13.0        15.0   \n",
       "3           0.0                               19.0        15.0   \n",
       "4           0.0                               21.0        15.0   \n",
       "..          ...                                ...         ...   \n",
       "469         0.0                                9.0        15.0   \n",
       "470         0.0                               12.0        15.0   \n",
       "471         0.0                               12.0        15.0   \n",
       "472         0.0                               20.0        15.0   \n",
       "473         0.0                               20.0        15.0   \n",
       "\n",
       "     Total_Water_Applied_mm  \n",
       "0                     350.0  \n",
       "1                     350.0  \n",
       "2                     350.0  \n",
       "3                     450.0  \n",
       "4                     450.0  \n",
       "..                      ...  \n",
       "469                   350.0  \n",
       "470                   350.0  \n",
       "471                   350.0  \n",
       "472                   350.0  \n",
       "473                   350.0  \n",
       "\n",
       "[474 rows x 26 columns]"
      ]
     },
     "execution_count": 113,
     "metadata": {},
     "output_type": "execute_result"
    }
   ],
   "source": [
    "df_1e"
   ]
  },
  {
   "cell_type": "code",
   "execution_count": 114,
   "id": "ca8398be",
   "metadata": {},
   "outputs": [],
   "source": [
    "df_1e.drop(columns = ['Field_Name'], inplace = True, axis = 1)"
   ]
  },
  {
   "cell_type": "markdown",
   "id": "77a02b4c",
   "metadata": {},
   "source": [
    "### Tensorflow modeling"
   ]
  },
  {
   "cell_type": "code",
   "execution_count": 120,
   "id": "5f00ae7f",
   "metadata": {},
   "outputs": [
    {
     "name": "stdout",
     "output_type": "stream",
     "text": [
      "2.4.1\n"
     ]
    }
   ],
   "source": [
    "import tensorflow as tf\n",
    "\n",
    "from tensorflow import keras\n",
    "from tensorflow.keras import layers\n",
    "\n",
    "print(tf.__version__)\n",
    "tf.keras.backend.set_floatx('float64')\n",
    "\n",
    "np.set_printoptions(precision=3, suppress=True)"
   ]
  },
  {
   "cell_type": "code",
   "execution_count": 115,
   "id": "ab8a214d",
   "metadata": {},
   "outputs": [],
   "source": [
    "train_dataset = df_1e.sample(frac=0.8, random_state=0)\n",
    "test_dataset = df_1e.drop(train_dataset.index)"
   ]
  },
  {
   "cell_type": "code",
   "execution_count": 116,
   "id": "4ea7f661",
   "metadata": {},
   "outputs": [],
   "source": [
    "train_features = train_dataset.copy()\n",
    "test_features = test_dataset.copy()\n",
    "\n",
    "train_labels = train_features.pop('Total_Wet_Mass_Harvested_kg')\n",
    "test_labels = test_features.pop('Total_Wet_Mass_Harvested_kg')"
   ]
  },
  {
   "cell_type": "code",
   "execution_count": 121,
   "id": "9c477918",
   "metadata": {},
   "outputs": [],
   "source": [
    "# normalizer = tf.keras.layers.Normalization(axis=-1)\n",
    "normalizer = tf.keras.layers.experimental.preprocessing.Normalization(axis = -1)\n",
    "\n",
    "normalizer.adapt(np.array(train_features))"
   ]
  },
  {
   "cell_type": "code",
   "execution_count": 128,
   "id": "b2c22e1d",
   "metadata": {},
   "outputs": [],
   "source": [
    "def build_and_compile_model(norm):\n",
    "    model = keras.Sequential([\n",
    "        norm,\n",
    "        layers.Dense(24, activation='tanh'),\n",
    "        layers.Dense(24, activation='relu'),\n",
    "        layers.Dense(24, activation='tanh'),\n",
    "        layers.Dense(24, activation='relu'),\n",
    "        layers.Dense(24, activation='tanh'),\n",
    "        layers.Dense(1)\n",
    "    ])\n",
    "\n",
    "    model.compile(loss='mean_squared_error', optimizer=tf.keras.optimizers.Adam(0.001))\n",
    "    return model"
   ]
  },
  {
   "cell_type": "code",
   "execution_count": 129,
   "id": "1d3cb5d5",
   "metadata": {},
   "outputs": [
    {
     "name": "stdout",
     "output_type": "stream",
     "text": [
      "Model: \"sequential_1\"\n",
      "_________________________________________________________________\n",
      "Layer (type)                 Output Shape              Param #   \n",
      "=================================================================\n",
      "normalization_1 (Normalizati (None, 24)                49        \n",
      "_________________________________________________________________\n",
      "dense_6 (Dense)              (None, 24)                600       \n",
      "_________________________________________________________________\n",
      "dense_7 (Dense)              (None, 24)                600       \n",
      "_________________________________________________________________\n",
      "dense_8 (Dense)              (None, 24)                600       \n",
      "_________________________________________________________________\n",
      "dense_9 (Dense)              (None, 24)                600       \n",
      "_________________________________________________________________\n",
      "dense_10 (Dense)             (None, 24)                600       \n",
      "_________________________________________________________________\n",
      "dense_11 (Dense)             (None, 1)                 25        \n",
      "=================================================================\n",
      "Total params: 3,074\n",
      "Trainable params: 3,025\n",
      "Non-trainable params: 49\n",
      "_________________________________________________________________\n"
     ]
    }
   ],
   "source": [
    "dnn_model = build_and_compile_model(normalizer)\n",
    "dnn_model.summary()"
   ]
  },
  {
   "cell_type": "code",
   "execution_count": 130,
   "id": "75fcefe0",
   "metadata": {},
   "outputs": [],
   "source": [
    "def plot_loss(history):\n",
    "    plt.semilogy(history.history['loss'], label='loss')\n",
    "    plt.semilogy(history.history['val_loss'], label='val_loss')\n",
    "    plt.ylim([0, 0.01])\n",
    "    plt.xlabel('Epoch')\n",
    "    plt.ylabel('Error [Total_Wet_Mass_Harvested_kg]')\n",
    "    plt.legend()\n",
    "    plt.grid(True)"
   ]
  },
  {
   "cell_type": "code",
   "execution_count": 131,
   "id": "62bbe31e",
   "metadata": {},
   "outputs": [],
   "source": [
    "# %%time\n",
    "history = dnn_model.fit(\n",
    "    train_features,\n",
    "    train_labels,\n",
    "    validation_split=0.2,\n",
    "    verbose=0, epochs=1000)"
   ]
  },
  {
   "cell_type": "code",
   "execution_count": 132,
   "id": "d103247c",
   "metadata": {},
   "outputs": [
    {
     "name": "stderr",
     "output_type": "stream",
     "text": [
      "/tmp/ipykernel_634/3527425194.py:4: UserWarning: Attempted to set non-positive bottom ylim on a log-scaled axis.\n",
      "Invalid limit will be ignored.\n",
      "  plt.ylim([0, 0.01])\n"
     ]
    },
    {
     "data": {
      "image/png": "[encoded data removed]",
      "text/plain": [
       "<Figure size 432x288 with 1 Axes>"
      ]
     },
     "metadata": {},
     "output_type": "display_data"
    }
   ],
   "source": [
    "plot_loss(history)"
   ]
  },
  {
   "cell_type": "code",
   "execution_count": 133,
   "id": "ba1b7f60",
   "metadata": {},
   "outputs": [
    {
     "data": {
      "text/html": [
       "<div>\n",
       "<style scoped>\n",
       "    .dataframe tbody tr th:only-of-type {\n",
       "        vertical-align: middle;\n",
       "    }\n",
       "\n",
       "    .dataframe tbody tr th {\n",
       "        vertical-align: top;\n",
       "    }\n",
       "\n",
       "    .dataframe thead th {\n",
       "        text-align: right;\n",
       "    }\n",
       "</style>\n",
       "<table border=\"1\" class=\"dataframe\">\n",
       "  <thead>\n",
       "    <tr style=\"text-align: right;\">\n",
       "      <th></th>\n",
       "      <th>loss</th>\n",
       "      <th>val_loss</th>\n",
       "      <th>epoch</th>\n",
       "    </tr>\n",
       "  </thead>\n",
       "  <tbody>\n",
       "    <tr>\n",
       "      <th>395</th>\n",
       "      <td>4.604490e+11</td>\n",
       "      <td>3.987226e+11</td>\n",
       "      <td>395</td>\n",
       "    </tr>\n",
       "    <tr>\n",
       "      <th>396</th>\n",
       "      <td>4.604487e+11</td>\n",
       "      <td>3.987223e+11</td>\n",
       "      <td>396</td>\n",
       "    </tr>\n",
       "    <tr>\n",
       "      <th>397</th>\n",
       "      <td>4.604485e+11</td>\n",
       "      <td>3.987221e+11</td>\n",
       "      <td>397</td>\n",
       "    </tr>\n",
       "    <tr>\n",
       "      <th>398</th>\n",
       "      <td>4.604482e+11</td>\n",
       "      <td>3.987218e+11</td>\n",
       "      <td>398</td>\n",
       "    </tr>\n",
       "    <tr>\n",
       "      <th>399</th>\n",
       "      <td>4.604479e+11</td>\n",
       "      <td>3.987215e+11</td>\n",
       "      <td>399</td>\n",
       "    </tr>\n",
       "  </tbody>\n",
       "</table>\n",
       "</div>"
      ],
      "text/plain": [
       "             loss      val_loss  epoch\n",
       "395  4.604490e+11  3.987226e+11    395\n",
       "396  4.604487e+11  3.987223e+11    396\n",
       "397  4.604485e+11  3.987221e+11    397\n",
       "398  4.604482e+11  3.987218e+11    398\n",
       "399  4.604479e+11  3.987215e+11    399"
      ]
     },
     "execution_count": 133,
     "metadata": {},
     "output_type": "execute_result"
    }
   ],
   "source": [
    "hist = pd.DataFrame(history.history)\n",
    "hist['epoch'] = history.epoch\n",
    "hist.tail()"
   ]
  },
  {
   "cell_type": "code",
   "execution_count": 134,
   "id": "fa91e9ea",
   "metadata": {},
   "outputs": [
    {
     "data": {
      "text/html": [
       "<div>\n",
       "<style scoped>\n",
       "    .dataframe tbody tr th:only-of-type {\n",
       "        vertical-align: middle;\n",
       "    }\n",
       "\n",
       "    .dataframe tbody tr th {\n",
       "        vertical-align: top;\n",
       "    }\n",
       "\n",
       "    .dataframe thead th {\n",
       "        text-align: right;\n",
       "    }\n",
       "</style>\n",
       "<table border=\"1\" class=\"dataframe\">\n",
       "  <thead>\n",
       "    <tr style=\"text-align: right;\">\n",
       "      <th></th>\n",
       "      <th>Hy</th>\n",
       "      <th>Safra</th>\n",
       "      <th>Site de recebimento</th>\n",
       "      <th>Cultura anterior</th>\n",
       "      <th>Estado</th>\n",
       "      <th>Trait</th>\n",
       "      <th>Area Plantada Total (ha)</th>\n",
       "      <th>Crop_Area_ha</th>\n",
       "      <th>Dry_Finished_Yield_Mass_kg</th>\n",
       "      <th>Soil_Organic_Matter</th>\n",
       "      <th>Soil_Drainage</th>\n",
       "      <th>Soil_pH</th>\n",
       "      <th>Fertilizer_Type</th>\n",
       "      <th>Application_Rate_Unit_kg/ha</th>\n",
       "      <th>N_as_Urea_%</th>\n",
       "      <th>N_as_Nitrate_%</th>\n",
       "      <th>N_as_Ammonium_%</th>\n",
       "      <th>P_as_Phosphorus_%</th>\n",
       "      <th>P_as_P2O5_%</th>\n",
       "      <th>K_as_Potassium_%</th>\n",
       "      <th>K_as_K2O_%</th>\n",
       "      <th>Crop_Protection_Application_Doses</th>\n",
       "      <th>Num_Passes</th>\n",
       "      <th>Total_Water_Applied_mm</th>\n",
       "    </tr>\n",
       "  </thead>\n",
       "  <tbody>\n",
       "    <tr>\n",
       "      <th>75</th>\n",
       "      <td>19</td>\n",
       "      <td>1</td>\n",
       "      <td>6</td>\n",
       "      <td>14</td>\n",
       "      <td>2</td>\n",
       "      <td>3</td>\n",
       "      <td>25.5</td>\n",
       "      <td>85.0</td>\n",
       "      <td>309980.0</td>\n",
       "      <td>2.500</td>\n",
       "      <td>0</td>\n",
       "      <td>5.5</td>\n",
       "      <td>3</td>\n",
       "      <td>230.0</td>\n",
       "      <td>0.0</td>\n",
       "      <td>0.0</td>\n",
       "      <td>11.0</td>\n",
       "      <td>0.0</td>\n",
       "      <td>52.0</td>\n",
       "      <td>0.0</td>\n",
       "      <td>0.0</td>\n",
       "      <td>15.0</td>\n",
       "      <td>15.0</td>\n",
       "      <td>350.0</td>\n",
       "    </tr>\n",
       "    <tr>\n",
       "      <th>90</th>\n",
       "      <td>21</td>\n",
       "      <td>0</td>\n",
       "      <td>3</td>\n",
       "      <td>14</td>\n",
       "      <td>2</td>\n",
       "      <td>3</td>\n",
       "      <td>22.0</td>\n",
       "      <td>22.0</td>\n",
       "      <td>75400.0</td>\n",
       "      <td>2.500</td>\n",
       "      <td>0</td>\n",
       "      <td>5.5</td>\n",
       "      <td>5</td>\n",
       "      <td>130.0</td>\n",
       "      <td>46.0</td>\n",
       "      <td>0.0</td>\n",
       "      <td>0.0</td>\n",
       "      <td>0.0</td>\n",
       "      <td>0.0</td>\n",
       "      <td>0.0</td>\n",
       "      <td>0.0</td>\n",
       "      <td>21.0</td>\n",
       "      <td>15.0</td>\n",
       "      <td>450.0</td>\n",
       "    </tr>\n",
       "    <tr>\n",
       "      <th>250</th>\n",
       "      <td>36</td>\n",
       "      <td>0</td>\n",
       "      <td>1</td>\n",
       "      <td>12</td>\n",
       "      <td>4</td>\n",
       "      <td>3</td>\n",
       "      <td>70.0</td>\n",
       "      <td>140.0</td>\n",
       "      <td>569600.0</td>\n",
       "      <td>2.476</td>\n",
       "      <td>0</td>\n",
       "      <td>5.5</td>\n",
       "      <td>4</td>\n",
       "      <td>150.0</td>\n",
       "      <td>0.0</td>\n",
       "      <td>0.0</td>\n",
       "      <td>0.0</td>\n",
       "      <td>0.0</td>\n",
       "      <td>0.0</td>\n",
       "      <td>0.0</td>\n",
       "      <td>60.0</td>\n",
       "      <td>8.0</td>\n",
       "      <td>15.0</td>\n",
       "      <td>450.0</td>\n",
       "    </tr>\n",
       "    <tr>\n",
       "      <th>206</th>\n",
       "      <td>14</td>\n",
       "      <td>0</td>\n",
       "      <td>0</td>\n",
       "      <td>14</td>\n",
       "      <td>3</td>\n",
       "      <td>3</td>\n",
       "      <td>84.0</td>\n",
       "      <td>84.0</td>\n",
       "      <td>332750.0</td>\n",
       "      <td>2.500</td>\n",
       "      <td>0</td>\n",
       "      <td>5.5</td>\n",
       "      <td>5</td>\n",
       "      <td>120.0</td>\n",
       "      <td>46.0</td>\n",
       "      <td>0.0</td>\n",
       "      <td>0.0</td>\n",
       "      <td>0.0</td>\n",
       "      <td>0.0</td>\n",
       "      <td>0.0</td>\n",
       "      <td>0.0</td>\n",
       "      <td>23.0</td>\n",
       "      <td>15.0</td>\n",
       "      <td>450.0</td>\n",
       "    </tr>\n",
       "    <tr>\n",
       "      <th>435</th>\n",
       "      <td>16</td>\n",
       "      <td>1</td>\n",
       "      <td>3</td>\n",
       "      <td>14</td>\n",
       "      <td>1</td>\n",
       "      <td>3</td>\n",
       "      <td>105.0</td>\n",
       "      <td>105.0</td>\n",
       "      <td>362440.0</td>\n",
       "      <td>2.500</td>\n",
       "      <td>0</td>\n",
       "      <td>5.5</td>\n",
       "      <td>2</td>\n",
       "      <td>280.0</td>\n",
       "      <td>0.0</td>\n",
       "      <td>8.0</td>\n",
       "      <td>0.0</td>\n",
       "      <td>40.0</td>\n",
       "      <td>0.0</td>\n",
       "      <td>0.0</td>\n",
       "      <td>0.0</td>\n",
       "      <td>16.0</td>\n",
       "      <td>15.0</td>\n",
       "      <td>350.0</td>\n",
       "    </tr>\n",
       "    <tr>\n",
       "      <th>...</th>\n",
       "      <td>...</td>\n",
       "      <td>...</td>\n",
       "      <td>...</td>\n",
       "      <td>...</td>\n",
       "      <td>...</td>\n",
       "      <td>...</td>\n",
       "      <td>...</td>\n",
       "      <td>...</td>\n",
       "      <td>...</td>\n",
       "      <td>...</td>\n",
       "      <td>...</td>\n",
       "      <td>...</td>\n",
       "      <td>...</td>\n",
       "      <td>...</td>\n",
       "      <td>...</td>\n",
       "      <td>...</td>\n",
       "      <td>...</td>\n",
       "      <td>...</td>\n",
       "      <td>...</td>\n",
       "      <td>...</td>\n",
       "      <td>...</td>\n",
       "      <td>...</td>\n",
       "      <td>...</td>\n",
       "      <td>...</td>\n",
       "    </tr>\n",
       "    <tr>\n",
       "      <th>373</th>\n",
       "      <td>38</td>\n",
       "      <td>1</td>\n",
       "      <td>6</td>\n",
       "      <td>14</td>\n",
       "      <td>1</td>\n",
       "      <td>3</td>\n",
       "      <td>32.0</td>\n",
       "      <td>40.0</td>\n",
       "      <td>155040.0</td>\n",
       "      <td>2.500</td>\n",
       "      <td>0</td>\n",
       "      <td>5.5</td>\n",
       "      <td>3</td>\n",
       "      <td>350.0</td>\n",
       "      <td>0.0</td>\n",
       "      <td>0.0</td>\n",
       "      <td>11.0</td>\n",
       "      <td>0.0</td>\n",
       "      <td>52.0</td>\n",
       "      <td>0.0</td>\n",
       "      <td>0.0</td>\n",
       "      <td>18.0</td>\n",
       "      <td>15.0</td>\n",
       "      <td>350.0</td>\n",
       "    </tr>\n",
       "    <tr>\n",
       "      <th>207</th>\n",
       "      <td>6</td>\n",
       "      <td>0</td>\n",
       "      <td>6</td>\n",
       "      <td>4</td>\n",
       "      <td>2</td>\n",
       "      <td>3</td>\n",
       "      <td>45.0</td>\n",
       "      <td>45.0</td>\n",
       "      <td>277920.0</td>\n",
       "      <td>3.405</td>\n",
       "      <td>0</td>\n",
       "      <td>5.5</td>\n",
       "      <td>1</td>\n",
       "      <td>275.0</td>\n",
       "      <td>0.0</td>\n",
       "      <td>13.5</td>\n",
       "      <td>13.5</td>\n",
       "      <td>0.0</td>\n",
       "      <td>0.0</td>\n",
       "      <td>0.0</td>\n",
       "      <td>0.0</td>\n",
       "      <td>11.0</td>\n",
       "      <td>15.0</td>\n",
       "      <td>450.0</td>\n",
       "    </tr>\n",
       "    <tr>\n",
       "      <th>279</th>\n",
       "      <td>14</td>\n",
       "      <td>0</td>\n",
       "      <td>3</td>\n",
       "      <td>8</td>\n",
       "      <td>2</td>\n",
       "      <td>3</td>\n",
       "      <td>20.0</td>\n",
       "      <td>40.0</td>\n",
       "      <td>199480.0</td>\n",
       "      <td>2.660</td>\n",
       "      <td>0</td>\n",
       "      <td>5.5</td>\n",
       "      <td>2</td>\n",
       "      <td>450.0</td>\n",
       "      <td>0.0</td>\n",
       "      <td>8.0</td>\n",
       "      <td>0.0</td>\n",
       "      <td>28.0</td>\n",
       "      <td>0.0</td>\n",
       "      <td>16.0</td>\n",
       "      <td>0.0</td>\n",
       "      <td>12.0</td>\n",
       "      <td>15.0</td>\n",
       "      <td>450.0</td>\n",
       "    </tr>\n",
       "    <tr>\n",
       "      <th>227</th>\n",
       "      <td>30</td>\n",
       "      <td>1</td>\n",
       "      <td>0</td>\n",
       "      <td>14</td>\n",
       "      <td>3</td>\n",
       "      <td>3</td>\n",
       "      <td>105.0</td>\n",
       "      <td>210.0</td>\n",
       "      <td>915260.0</td>\n",
       "      <td>2.500</td>\n",
       "      <td>0</td>\n",
       "      <td>5.5</td>\n",
       "      <td>2</td>\n",
       "      <td>300.0</td>\n",
       "      <td>0.0</td>\n",
       "      <td>20.0</td>\n",
       "      <td>0.0</td>\n",
       "      <td>0.0</td>\n",
       "      <td>0.0</td>\n",
       "      <td>20.0</td>\n",
       "      <td>0.0</td>\n",
       "      <td>20.0</td>\n",
       "      <td>15.0</td>\n",
       "      <td>350.0</td>\n",
       "    </tr>\n",
       "    <tr>\n",
       "      <th>148</th>\n",
       "      <td>12</td>\n",
       "      <td>0</td>\n",
       "      <td>1</td>\n",
       "      <td>9</td>\n",
       "      <td>4</td>\n",
       "      <td>3</td>\n",
       "      <td>21.3</td>\n",
       "      <td>21.3</td>\n",
       "      <td>90380.0</td>\n",
       "      <td>4.100</td>\n",
       "      <td>0</td>\n",
       "      <td>5.5</td>\n",
       "      <td>3</td>\n",
       "      <td>190.0</td>\n",
       "      <td>0.0</td>\n",
       "      <td>0.0</td>\n",
       "      <td>11.0</td>\n",
       "      <td>0.0</td>\n",
       "      <td>52.0</td>\n",
       "      <td>0.0</td>\n",
       "      <td>0.0</td>\n",
       "      <td>18.0</td>\n",
       "      <td>15.0</td>\n",
       "      <td>450.0</td>\n",
       "    </tr>\n",
       "  </tbody>\n",
       "</table>\n",
       "<p>379 rows × 24 columns</p>\n",
       "</div>"
      ],
      "text/plain": [
       "     Hy  Safra  Site de recebimento  Cultura anterior  Estado  Trait  \\\n",
       "75   19      1                    6                14       2      3   \n",
       "90   21      0                    3                14       2      3   \n",
       "250  36      0                    1                12       4      3   \n",
       "206  14      0                    0                14       3      3   \n",
       "435  16      1                    3                14       1      3   \n",
       "..   ..    ...                  ...               ...     ...    ...   \n",
       "373  38      1                    6                14       1      3   \n",
       "207   6      0                    6                 4       2      3   \n",
       "279  14      0                    3                 8       2      3   \n",
       "227  30      1                    0                14       3      3   \n",
       "148  12      0                    1                 9       4      3   \n",
       "\n",
       "     Area Plantada Total (ha)  Crop_Area_ha  Dry_Finished_Yield_Mass_kg  \\\n",
       "75                       25.5          85.0                    309980.0   \n",
       "90                       22.0          22.0                     75400.0   \n",
       "250                      70.0         140.0                    569600.0   \n",
       "206                      84.0          84.0                    332750.0   \n",
       "435                     105.0         105.0                    362440.0   \n",
       "..                        ...           ...                         ...   \n",
       "373                      32.0          40.0                    155040.0   \n",
       "207                      45.0          45.0                    277920.0   \n",
       "279                      20.0          40.0                    199480.0   \n",
       "227                     105.0         210.0                    915260.0   \n",
       "148                      21.3          21.3                     90380.0   \n",
       "\n",
       "     Soil_Organic_Matter  Soil_Drainage  Soil_pH  Fertilizer_Type  \\\n",
       "75                 2.500              0      5.5                3   \n",
       "90                 2.500              0      5.5                5   \n",
       "250                2.476              0      5.5                4   \n",
       "206                2.500              0      5.5                5   \n",
       "435                2.500              0      5.5                2   \n",
       "..                   ...            ...      ...              ...   \n",
       "373                2.500              0      5.5                3   \n",
       "207                3.405              0      5.5                1   \n",
       "279                2.660              0      5.5                2   \n",
       "227                2.500              0      5.5                2   \n",
       "148                4.100              0      5.5                3   \n",
       "\n",
       "     Application_Rate_Unit_kg/ha  N_as_Urea_%  N_as_Nitrate_%  \\\n",
       "75                         230.0          0.0             0.0   \n",
       "90                         130.0         46.0             0.0   \n",
       "250                        150.0          0.0             0.0   \n",
       "206                        120.0         46.0             0.0   \n",
       "435                        280.0          0.0             8.0   \n",
       "..                           ...          ...             ...   \n",
       "373                        350.0          0.0             0.0   \n",
       "207                        275.0          0.0            13.5   \n",
       "279                        450.0          0.0             8.0   \n",
       "227                        300.0          0.0            20.0   \n",
       "148                        190.0          0.0             0.0   \n",
       "\n",
       "     N_as_Ammonium_%  P_as_Phosphorus_%  P_as_P2O5_%  K_as_Potassium_%  \\\n",
       "75              11.0                0.0         52.0               0.0   \n",
       "90               0.0                0.0          0.0               0.0   \n",
       "250              0.0                0.0          0.0               0.0   \n",
       "206              0.0                0.0          0.0               0.0   \n",
       "435              0.0               40.0          0.0               0.0   \n",
       "..               ...                ...          ...               ...   \n",
       "373             11.0                0.0         52.0               0.0   \n",
       "207             13.5                0.0          0.0               0.0   \n",
       "279              0.0               28.0          0.0              16.0   \n",
       "227              0.0                0.0          0.0              20.0   \n",
       "148             11.0                0.0         52.0               0.0   \n",
       "\n",
       "     K_as_K2O_%  Crop_Protection_Application_Doses  Num_Passes  \\\n",
       "75          0.0                               15.0        15.0   \n",
       "90          0.0                               21.0        15.0   \n",
       "250        60.0                                8.0        15.0   \n",
       "206         0.0                               23.0        15.0   \n",
       "435         0.0                               16.0        15.0   \n",
       "..          ...                                ...         ...   \n",
       "373         0.0                               18.0        15.0   \n",
       "207         0.0                               11.0        15.0   \n",
       "279         0.0                               12.0        15.0   \n",
       "227         0.0                               20.0        15.0   \n",
       "148         0.0                               18.0        15.0   \n",
       "\n",
       "     Total_Water_Applied_mm  \n",
       "75                    350.0  \n",
       "90                    450.0  \n",
       "250                   450.0  \n",
       "206                   450.0  \n",
       "435                   350.0  \n",
       "..                      ...  \n",
       "373                   350.0  \n",
       "207                   450.0  \n",
       "279                   450.0  \n",
       "227                   350.0  \n",
       "148                   450.0  \n",
       "\n",
       "[379 rows x 24 columns]"
      ]
     },
     "execution_count": 134,
     "metadata": {},
     "output_type": "execute_result"
    }
   ],
   "source": [
    "train_features"
   ]
  },
  {
   "cell_type": "code",
   "execution_count": 16,
   "id": "69abc1ac",
   "metadata": {},
   "outputs": [
    {
     "data": {
      "image/png": "[encoded data removed]",
      "text/plain": [
       "<Figure size 432x288 with 1 Axes>"
      ]
     },
     "metadata": {},
     "output_type": "display_data"
    }
   ],
   "source": [
    "sns.set_theme()\n",
    "plt.hist(df_1[\"Total_Wet_Mass_Harvested_kg\"])\n",
    "plt.show()"
   ]
  },
  {
   "cell_type": "code",
   "execution_count": 18,
   "id": "f61afc3a",
   "metadata": {},
   "outputs": [
    {
     "data": {
      "image/png": "[encoded data removed]",
      "text/plain": [
       "<Figure size 432x288 with 1 Axes>"
      ]
     },
     "metadata": {},
     "output_type": "display_data"
    }
   ],
   "source": [
    "plt.hist(df_1[\"Total_Wet_Mass_Harvested_kg\"] / df_1[\"Area Plantada Total (ha)\"])\n",
    "plt.show()"
   ]
  },
  {
   "cell_type": "code",
   "execution_count": null,
   "id": "ffffe5b7",
   "metadata": {},
   "outputs": [],
   "source": []
  }
 ],
 "metadata": {
  "kernelspec": {
   "display_name": "Python 3 (ipykernel)",
   "language": "python",
   "name": "python3"
  },
  "language_info": {
   "codemirror_mode": {
    "name": "ipython",
    "version": 3
   },
   "file_extension": ".py",
   "mimetype": "text/x-python",
   "name": "python",
   "nbconvert_exporter": "python",
   "pygments_lexer": "ipython3",
   "version": "3.8.5"
  }
 },
 "nbformat": 4,
 "nbformat_minor": 5
}
