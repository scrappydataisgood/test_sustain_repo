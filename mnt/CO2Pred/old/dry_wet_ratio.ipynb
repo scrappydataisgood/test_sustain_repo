{
 "cells": [
  {
   "cell_type": "code",
   "execution_count": 1,
   "id": "5b066ec8",
   "metadata": {},
   "outputs": [
    {
     "name": "stdout",
     "output_type": "stream",
     "text": [
      "Requirement already satisfied: xgboost in /home/ubuntu/.local/lib/python3.8/site-packages (1.7.5)\n",
      "Requirement already satisfied: numpy in /opt/conda/lib/python3.8/site-packages (from xgboost) (1.21.1)\n",
      "Requirement already satisfied: scipy in /opt/conda/lib/python3.8/site-packages (from xgboost) (1.6.0)\n",
      "\u001b[33mWARNING: You are using pip version 21.3.1; however, version 23.0.1 is available.\n",
      "You should consider upgrading via the '/opt/conda/bin/python -m pip install --upgrade pip' command.\u001b[0m\n"
     ]
    }
   ],
   "source": [
    "!pip install xgboost --user"
   ]
  },
  {
   "cell_type": "code",
   "execution_count": 88,
   "id": "4479c6cb",
   "metadata": {},
   "outputs": [],
   "source": [
    "import pandas as pd\n",
    "import numpy as np\n",
    "import matplotlib.pyplot as plt\n",
    "import seaborn as sns\n",
    "from sklearn.preprocessing import LabelEncoder"
   ]
  },
  {
   "cell_type": "code",
   "execution_count": 89,
   "id": "9dffbd79",
   "metadata": {},
   "outputs": [],
   "source": [
    "sns.set_theme()\n",
    "df_all = pd.read_csv('/mnt/CO2Pred/data/br_all_features.csv')"
   ]
  },
  {
   "cell_type": "code",
   "execution_count": 90,
   "id": "85f518cf",
   "metadata": {},
   "outputs": [
    {
     "data": {
      "text/html": [
       "<div>\n",
       "<style scoped>\n",
       "    .dataframe tbody tr th:only-of-type {\n",
       "        vertical-align: middle;\n",
       "    }\n",
       "\n",
       "    .dataframe tbody tr th {\n",
       "        vertical-align: top;\n",
       "    }\n",
       "\n",
       "    .dataframe thead th {\n",
       "        text-align: right;\n",
       "    }\n",
       "</style>\n",
       "<table border=\"1\" class=\"dataframe\">\n",
       "  <thead>\n",
       "    <tr style=\"text-align: right;\">\n",
       "      <th></th>\n",
       "      <th>Unnamed: 0</th>\n",
       "      <th>Harvest_Year</th>\n",
       "      <th>Field_Name</th>\n",
       "      <th>Latitude</th>\n",
       "      <th>Longitude</th>\n",
       "      <th>Crop_Area_ha</th>\n",
       "      <th>Total_Wet_Mass_Harvested_kg</th>\n",
       "      <th>Dry_Finished_Yield_Mass_kg</th>\n",
       "      <th>Soil_Organic_Matter</th>\n",
       "      <th>Soil_Drainage</th>\n",
       "      <th>...</th>\n",
       "      <th>P_as_P2O5_%</th>\n",
       "      <th>K_as_Potassium_%</th>\n",
       "      <th>K_as_K2O_%</th>\n",
       "      <th>Crop_Protection_Application_Doses</th>\n",
       "      <th>Machine</th>\n",
       "      <th>Num_Passes</th>\n",
       "      <th>Total_Water_Applied_mm</th>\n",
       "      <th>result</th>\n",
       "      <th>value</th>\n",
       "      <th>unit</th>\n",
       "    </tr>\n",
       "  </thead>\n",
       "  <tbody>\n",
       "    <tr>\n",
       "      <th>0</th>\n",
       "      <td>0</td>\n",
       "      <td>2020</td>\n",
       "      <td>M6I2035</td>\n",
       "      <td>S 19Â° 23' 25,00\"</td>\n",
       "      <td>W 47Â° 27' 01,70\"</td>\n",
       "      <td>60.0</td>\n",
       "      <td>182960.0</td>\n",
       "      <td>180200.0</td>\n",
       "      <td>2.5</td>\n",
       "      <td>good</td>\n",
       "      <td>...</td>\n",
       "      <td>0.0</td>\n",
       "      <td>16.0</td>\n",
       "      <td>0.0</td>\n",
       "      <td>14.0</td>\n",
       "      <td>herbicide spraying</td>\n",
       "      <td>15.0</td>\n",
       "      <td>350.0</td>\n",
       "      <td>emissions_total</td>\n",
       "      <td>-13221.26</td>\n",
       "      <td>kgCO2e</td>\n",
       "    </tr>\n",
       "    <tr>\n",
       "      <th>1</th>\n",
       "      <td>1</td>\n",
       "      <td>2020</td>\n",
       "      <td>M6I2035</td>\n",
       "      <td>S 19Â° 23' 25,00\"</td>\n",
       "      <td>W 47Â° 27' 01,70\"</td>\n",
       "      <td>60.0</td>\n",
       "      <td>182960.0</td>\n",
       "      <td>180200.0</td>\n",
       "      <td>2.5</td>\n",
       "      <td>good</td>\n",
       "      <td>...</td>\n",
       "      <td>0.0</td>\n",
       "      <td>16.0</td>\n",
       "      <td>0.0</td>\n",
       "      <td>14.0</td>\n",
       "      <td>herbicide spraying</td>\n",
       "      <td>15.0</td>\n",
       "      <td>350.0</td>\n",
       "      <td>emissions_per_area</td>\n",
       "      <td>-220.35</td>\n",
       "      <td>kgCO2e/ha</td>\n",
       "    </tr>\n",
       "    <tr>\n",
       "      <th>2</th>\n",
       "      <td>2</td>\n",
       "      <td>2020</td>\n",
       "      <td>M6I2035</td>\n",
       "      <td>S 19Â° 23' 25,00\"</td>\n",
       "      <td>W 47Â° 27' 01,70\"</td>\n",
       "      <td>60.0</td>\n",
       "      <td>182960.0</td>\n",
       "      <td>180200.0</td>\n",
       "      <td>2.5</td>\n",
       "      <td>good</td>\n",
       "      <td>...</td>\n",
       "      <td>0.0</td>\n",
       "      <td>16.0</td>\n",
       "      <td>0.0</td>\n",
       "      <td>14.0</td>\n",
       "      <td>herbicide spraying</td>\n",
       "      <td>15.0</td>\n",
       "      <td>350.0</td>\n",
       "      <td>emissions_per_product</td>\n",
       "      <td>-0.07</td>\n",
       "      <td>kgCO2e/kg</td>\n",
       "    </tr>\n",
       "    <tr>\n",
       "      <th>3</th>\n",
       "      <td>3</td>\n",
       "      <td>2020</td>\n",
       "      <td>M6I2035</td>\n",
       "      <td>S 19Â° 23' 25,00\"</td>\n",
       "      <td>W 47Â° 27' 01,70\"</td>\n",
       "      <td>60.0</td>\n",
       "      <td>182960.0</td>\n",
       "      <td>180200.0</td>\n",
       "      <td>2.5</td>\n",
       "      <td>good</td>\n",
       "      <td>...</td>\n",
       "      <td>0.0</td>\n",
       "      <td>16.0</td>\n",
       "      <td>0.0</td>\n",
       "      <td>14.0</td>\n",
       "      <td>herbicide spraying</td>\n",
       "      <td>15.0</td>\n",
       "      <td>350.0</td>\n",
       "      <td>soil_organic_carbon</td>\n",
       "      <td>1.45</td>\n",
       "      <td>%</td>\n",
       "    </tr>\n",
       "    <tr>\n",
       "      <th>4</th>\n",
       "      <td>4</td>\n",
       "      <td>2020</td>\n",
       "      <td>M6I2035</td>\n",
       "      <td>S 19Â° 23' 25,00\"</td>\n",
       "      <td>W 47Â° 27' 01,70\"</td>\n",
       "      <td>60.0</td>\n",
       "      <td>182960.0</td>\n",
       "      <td>180200.0</td>\n",
       "      <td>2.5</td>\n",
       "      <td>good</td>\n",
       "      <td>...</td>\n",
       "      <td>0.0</td>\n",
       "      <td>16.0</td>\n",
       "      <td>0.0</td>\n",
       "      <td>14.0</td>\n",
       "      <td>herbicide spraying</td>\n",
       "      <td>15.0</td>\n",
       "      <td>350.0</td>\n",
       "      <td>machinery_fuel_usage</td>\n",
       "      <td>1862.20</td>\n",
       "      <td>litre</td>\n",
       "    </tr>\n",
       "  </tbody>\n",
       "</table>\n",
       "<p>5 rows × 28 columns</p>\n",
       "</div>"
      ],
      "text/plain": [
       "   Unnamed: 0  Harvest_Year Field_Name           Latitude          Longitude  \\\n",
       "0           0          2020    M6I2035  S 19Â° 23' 25,00\"  W 47Â° 27' 01,70\"   \n",
       "1           1          2020    M6I2035  S 19Â° 23' 25,00\"  W 47Â° 27' 01,70\"   \n",
       "2           2          2020    M6I2035  S 19Â° 23' 25,00\"  W 47Â° 27' 01,70\"   \n",
       "3           3          2020    M6I2035  S 19Â° 23' 25,00\"  W 47Â° 27' 01,70\"   \n",
       "4           4          2020    M6I2035  S 19Â° 23' 25,00\"  W 47Â° 27' 01,70\"   \n",
       "\n",
       "   Crop_Area_ha  Total_Wet_Mass_Harvested_kg  Dry_Finished_Yield_Mass_kg  \\\n",
       "0          60.0                     182960.0                    180200.0   \n",
       "1          60.0                     182960.0                    180200.0   \n",
       "2          60.0                     182960.0                    180200.0   \n",
       "3          60.0                     182960.0                    180200.0   \n",
       "4          60.0                     182960.0                    180200.0   \n",
       "\n",
       "   Soil_Organic_Matter Soil_Drainage  ...  P_as_P2O5_% K_as_Potassium_%  \\\n",
       "0                  2.5          good  ...          0.0             16.0   \n",
       "1                  2.5          good  ...          0.0             16.0   \n",
       "2                  2.5          good  ...          0.0             16.0   \n",
       "3                  2.5          good  ...          0.0             16.0   \n",
       "4                  2.5          good  ...          0.0             16.0   \n",
       "\n",
       "   K_as_K2O_% Crop_Protection_Application_Doses             Machine  \\\n",
       "0         0.0                              14.0  herbicide spraying   \n",
       "1         0.0                              14.0  herbicide spraying   \n",
       "2         0.0                              14.0  herbicide spraying   \n",
       "3         0.0                              14.0  herbicide spraying   \n",
       "4         0.0                              14.0  herbicide spraying   \n",
       "\n",
       "   Num_Passes  Total_Water_Applied_mm                 result     value  \\\n",
       "0        15.0                   350.0        emissions_total -13221.26   \n",
       "1        15.0                   350.0     emissions_per_area   -220.35   \n",
       "2        15.0                   350.0  emissions_per_product     -0.07   \n",
       "3        15.0                   350.0    soil_organic_carbon      1.45   \n",
       "4        15.0                   350.0   machinery_fuel_usage   1862.20   \n",
       "\n",
       "        unit  \n",
       "0     kgCO2e  \n",
       "1  kgCO2e/ha  \n",
       "2  kgCO2e/kg  \n",
       "3          %  \n",
       "4      litre  \n",
       "\n",
       "[5 rows x 28 columns]"
      ]
     },
     "execution_count": 90,
     "metadata": {},
     "output_type": "execute_result"
    }
   ],
   "source": [
    "df_all.head()"
   ]
  },
  {
   "cell_type": "code",
   "execution_count": 91,
   "id": "47e35448",
   "metadata": {},
   "outputs": [],
   "source": [
    "df_all[\"dry2Wet\"] = df_all['Dry_Finished_Yield_Mass_kg']/df_all['Total_Wet_Mass_Harvested_kg']\n",
    "df_all = df_all[((df_all[\"dry2Wet\"] >= 0.2) & (df_all[\"dry2Wet\"] <= 0.6))]"
   ]
  },
  {
   "cell_type": "code",
   "execution_count": 92,
   "id": "2c0af5f9",
   "metadata": {},
   "outputs": [],
   "source": [
    "df_all.to_csv(\"dry_wet_ratio_filtered.csv\")"
   ]
  },
  {
   "cell_type": "code",
   "execution_count": 93,
   "id": "4a9cd2b8",
   "metadata": {},
   "outputs": [
    {
     "data": {
      "text/plain": [
       "0.21469314460758424"
      ]
     },
     "execution_count": 93,
     "metadata": {},
     "output_type": "execute_result"
    }
   ],
   "source": [
    "df_all[\"dry2Wet\"].max()"
   ]
  },
  {
   "cell_type": "code",
   "execution_count": 47,
   "id": "7038f0ee",
   "metadata": {},
   "outputs": [],
   "source": [
    "df_all.drop(columns = [\"Unnamed: 0\", \"Harvest_Year\", \"Field_Name\", \"Latitude\", \"Longitude\", \"Crop_Area_ha\", \"result\", \"value\", \"unit\"], inplace = True)"
   ]
  },
  {
   "cell_type": "code",
   "execution_count": 48,
   "id": "2582deb7",
   "metadata": {},
   "outputs": [
    {
     "data": {
      "text/html": [
       "<div>\n",
       "<style scoped>\n",
       "    .dataframe tbody tr th:only-of-type {\n",
       "        vertical-align: middle;\n",
       "    }\n",
       "\n",
       "    .dataframe tbody tr th {\n",
       "        vertical-align: top;\n",
       "    }\n",
       "\n",
       "    .dataframe thead th {\n",
       "        text-align: right;\n",
       "    }\n",
       "</style>\n",
       "<table border=\"1\" class=\"dataframe\">\n",
       "  <thead>\n",
       "    <tr style=\"text-align: right;\">\n",
       "      <th></th>\n",
       "      <th>Total_Wet_Mass_Harvested_kg</th>\n",
       "      <th>Dry_Finished_Yield_Mass_kg</th>\n",
       "      <th>Soil_Organic_Matter</th>\n",
       "      <th>Soil_Drainage</th>\n",
       "      <th>Soil_pH</th>\n",
       "      <th>Fertilizer_Type</th>\n",
       "      <th>Application_Rate_Unit_kg/ha</th>\n",
       "      <th>Application_Method</th>\n",
       "      <th>N_as_Urea_%</th>\n",
       "      <th>N_as_Nitrate_%</th>\n",
       "      <th>N_as_Ammonium_%</th>\n",
       "      <th>P_as_Phosphorus_%</th>\n",
       "      <th>P_as_P2O5_%</th>\n",
       "      <th>K_as_Potassium_%</th>\n",
       "      <th>K_as_K2O_%</th>\n",
       "      <th>Crop_Protection_Application_Doses</th>\n",
       "      <th>Machine</th>\n",
       "      <th>Num_Passes</th>\n",
       "      <th>Total_Water_Applied_mm</th>\n",
       "    </tr>\n",
       "  </thead>\n",
       "  <tbody>\n",
       "    <tr>\n",
       "      <th>0</th>\n",
       "      <td>182960.0</td>\n",
       "      <td>180200.0</td>\n",
       "      <td>2.5</td>\n",
       "      <td>good</td>\n",
       "      <td>5.5</td>\n",
       "      <td>Compose your own NPK</td>\n",
       "      <td>300.0</td>\n",
       "      <td>Incorporate</td>\n",
       "      <td>0.0</td>\n",
       "      <td>16.0</td>\n",
       "      <td>0.0</td>\n",
       "      <td>16.0</td>\n",
       "      <td>0.0</td>\n",
       "      <td>16.0</td>\n",
       "      <td>0.0</td>\n",
       "      <td>14.0</td>\n",
       "      <td>herbicide spraying</td>\n",
       "      <td>15.0</td>\n",
       "      <td>350.0</td>\n",
       "    </tr>\n",
       "    <tr>\n",
       "      <th>1</th>\n",
       "      <td>182960.0</td>\n",
       "      <td>180200.0</td>\n",
       "      <td>2.5</td>\n",
       "      <td>good</td>\n",
       "      <td>5.5</td>\n",
       "      <td>Compose your own NPK</td>\n",
       "      <td>300.0</td>\n",
       "      <td>Incorporate</td>\n",
       "      <td>0.0</td>\n",
       "      <td>16.0</td>\n",
       "      <td>0.0</td>\n",
       "      <td>16.0</td>\n",
       "      <td>0.0</td>\n",
       "      <td>16.0</td>\n",
       "      <td>0.0</td>\n",
       "      <td>14.0</td>\n",
       "      <td>herbicide spraying</td>\n",
       "      <td>15.0</td>\n",
       "      <td>350.0</td>\n",
       "    </tr>\n",
       "    <tr>\n",
       "      <th>2</th>\n",
       "      <td>182960.0</td>\n",
       "      <td>180200.0</td>\n",
       "      <td>2.5</td>\n",
       "      <td>good</td>\n",
       "      <td>5.5</td>\n",
       "      <td>Compose your own NPK</td>\n",
       "      <td>300.0</td>\n",
       "      <td>Incorporate</td>\n",
       "      <td>0.0</td>\n",
       "      <td>16.0</td>\n",
       "      <td>0.0</td>\n",
       "      <td>16.0</td>\n",
       "      <td>0.0</td>\n",
       "      <td>16.0</td>\n",
       "      <td>0.0</td>\n",
       "      <td>14.0</td>\n",
       "      <td>herbicide spraying</td>\n",
       "      <td>15.0</td>\n",
       "      <td>350.0</td>\n",
       "    </tr>\n",
       "    <tr>\n",
       "      <th>3</th>\n",
       "      <td>182960.0</td>\n",
       "      <td>180200.0</td>\n",
       "      <td>2.5</td>\n",
       "      <td>good</td>\n",
       "      <td>5.5</td>\n",
       "      <td>Compose your own NPK</td>\n",
       "      <td>300.0</td>\n",
       "      <td>Incorporate</td>\n",
       "      <td>0.0</td>\n",
       "      <td>16.0</td>\n",
       "      <td>0.0</td>\n",
       "      <td>16.0</td>\n",
       "      <td>0.0</td>\n",
       "      <td>16.0</td>\n",
       "      <td>0.0</td>\n",
       "      <td>14.0</td>\n",
       "      <td>herbicide spraying</td>\n",
       "      <td>15.0</td>\n",
       "      <td>350.0</td>\n",
       "    </tr>\n",
       "    <tr>\n",
       "      <th>4</th>\n",
       "      <td>182960.0</td>\n",
       "      <td>180200.0</td>\n",
       "      <td>2.5</td>\n",
       "      <td>good</td>\n",
       "      <td>5.5</td>\n",
       "      <td>Compose your own NPK</td>\n",
       "      <td>300.0</td>\n",
       "      <td>Incorporate</td>\n",
       "      <td>0.0</td>\n",
       "      <td>16.0</td>\n",
       "      <td>0.0</td>\n",
       "      <td>16.0</td>\n",
       "      <td>0.0</td>\n",
       "      <td>16.0</td>\n",
       "      <td>0.0</td>\n",
       "      <td>14.0</td>\n",
       "      <td>herbicide spraying</td>\n",
       "      <td>15.0</td>\n",
       "      <td>350.0</td>\n",
       "    </tr>\n",
       "  </tbody>\n",
       "</table>\n",
       "</div>"
      ],
      "text/plain": [
       "   Total_Wet_Mass_Harvested_kg  Dry_Finished_Yield_Mass_kg  \\\n",
       "0                     182960.0                    180200.0   \n",
       "1                     182960.0                    180200.0   \n",
       "2                     182960.0                    180200.0   \n",
       "3                     182960.0                    180200.0   \n",
       "4                     182960.0                    180200.0   \n",
       "\n",
       "   Soil_Organic_Matter Soil_Drainage  Soil_pH       Fertilizer_Type  \\\n",
       "0                  2.5          good      5.5  Compose your own NPK   \n",
       "1                  2.5          good      5.5  Compose your own NPK   \n",
       "2                  2.5          good      5.5  Compose your own NPK   \n",
       "3                  2.5          good      5.5  Compose your own NPK   \n",
       "4                  2.5          good      5.5  Compose your own NPK   \n",
       "\n",
       "   Application_Rate_Unit_kg/ha Application_Method  N_as_Urea_%  \\\n",
       "0                        300.0        Incorporate          0.0   \n",
       "1                        300.0        Incorporate          0.0   \n",
       "2                        300.0        Incorporate          0.0   \n",
       "3                        300.0        Incorporate          0.0   \n",
       "4                        300.0        Incorporate          0.0   \n",
       "\n",
       "   N_as_Nitrate_%  N_as_Ammonium_%  P_as_Phosphorus_%  P_as_P2O5_%  \\\n",
       "0            16.0              0.0               16.0          0.0   \n",
       "1            16.0              0.0               16.0          0.0   \n",
       "2            16.0              0.0               16.0          0.0   \n",
       "3            16.0              0.0               16.0          0.0   \n",
       "4            16.0              0.0               16.0          0.0   \n",
       "\n",
       "   K_as_Potassium_%  K_as_K2O_%  Crop_Protection_Application_Doses  \\\n",
       "0              16.0         0.0                               14.0   \n",
       "1              16.0         0.0                               14.0   \n",
       "2              16.0         0.0                               14.0   \n",
       "3              16.0         0.0                               14.0   \n",
       "4              16.0         0.0                               14.0   \n",
       "\n",
       "              Machine  Num_Passes  Total_Water_Applied_mm  \n",
       "0  herbicide spraying        15.0                   350.0  \n",
       "1  herbicide spraying        15.0                   350.0  \n",
       "2  herbicide spraying        15.0                   350.0  \n",
       "3  herbicide spraying        15.0                   350.0  \n",
       "4  herbicide spraying        15.0                   350.0  "
      ]
     },
     "execution_count": 48,
     "metadata": {},
     "output_type": "execute_result"
    }
   ],
   "source": [
    "df_all.head()"
   ]
  },
  {
   "cell_type": "code",
   "execution_count": 49,
   "id": "af1d9dd2",
   "metadata": {},
   "outputs": [],
   "source": [
    "df_1e = df_all.copy()\n",
    "cat_columns = [\"Fertilizer_Type\", \"Application_Method\", \"Machine\", \"Soil_Drainage\"]\n",
    "for col in cat_columns:\n",
    "    le = LabelEncoder()\n",
    "    encoded = le.fit_transform(df_all[col])\n",
    "    df_1e[col] = encoded"
   ]
  },
  {
   "cell_type": "code",
   "execution_count": 50,
   "id": "160c878e",
   "metadata": {},
   "outputs": [
    {
     "data": {
      "text/html": [
       "<div>\n",
       "<style scoped>\n",
       "    .dataframe tbody tr th:only-of-type {\n",
       "        vertical-align: middle;\n",
       "    }\n",
       "\n",
       "    .dataframe tbody tr th {\n",
       "        vertical-align: top;\n",
       "    }\n",
       "\n",
       "    .dataframe thead th {\n",
       "        text-align: right;\n",
       "    }\n",
       "</style>\n",
       "<table border=\"1\" class=\"dataframe\">\n",
       "  <thead>\n",
       "    <tr style=\"text-align: right;\">\n",
       "      <th></th>\n",
       "      <th>Total_Wet_Mass_Harvested_kg</th>\n",
       "      <th>Dry_Finished_Yield_Mass_kg</th>\n",
       "      <th>Soil_Organic_Matter</th>\n",
       "      <th>Soil_Drainage</th>\n",
       "      <th>Soil_pH</th>\n",
       "      <th>Fertilizer_Type</th>\n",
       "      <th>Application_Rate_Unit_kg/ha</th>\n",
       "      <th>Application_Method</th>\n",
       "      <th>N_as_Urea_%</th>\n",
       "      <th>N_as_Nitrate_%</th>\n",
       "      <th>N_as_Ammonium_%</th>\n",
       "      <th>P_as_Phosphorus_%</th>\n",
       "      <th>P_as_P2O5_%</th>\n",
       "      <th>K_as_Potassium_%</th>\n",
       "      <th>K_as_K2O_%</th>\n",
       "      <th>Crop_Protection_Application_Doses</th>\n",
       "      <th>Machine</th>\n",
       "      <th>Num_Passes</th>\n",
       "      <th>Total_Water_Applied_mm</th>\n",
       "    </tr>\n",
       "  </thead>\n",
       "  <tbody>\n",
       "    <tr>\n",
       "      <th>0</th>\n",
       "      <td>182960.0</td>\n",
       "      <td>180200.0</td>\n",
       "      <td>2.5</td>\n",
       "      <td>0</td>\n",
       "      <td>5.5</td>\n",
       "      <td>2</td>\n",
       "      <td>300.0</td>\n",
       "      <td>1</td>\n",
       "      <td>0.0</td>\n",
       "      <td>16.0</td>\n",
       "      <td>0.0</td>\n",
       "      <td>16.0</td>\n",
       "      <td>0.0</td>\n",
       "      <td>16.0</td>\n",
       "      <td>0.0</td>\n",
       "      <td>14.0</td>\n",
       "      <td>0</td>\n",
       "      <td>15.0</td>\n",
       "      <td>350.0</td>\n",
       "    </tr>\n",
       "    <tr>\n",
       "      <th>1</th>\n",
       "      <td>182960.0</td>\n",
       "      <td>180200.0</td>\n",
       "      <td>2.5</td>\n",
       "      <td>0</td>\n",
       "      <td>5.5</td>\n",
       "      <td>2</td>\n",
       "      <td>300.0</td>\n",
       "      <td>1</td>\n",
       "      <td>0.0</td>\n",
       "      <td>16.0</td>\n",
       "      <td>0.0</td>\n",
       "      <td>16.0</td>\n",
       "      <td>0.0</td>\n",
       "      <td>16.0</td>\n",
       "      <td>0.0</td>\n",
       "      <td>14.0</td>\n",
       "      <td>0</td>\n",
       "      <td>15.0</td>\n",
       "      <td>350.0</td>\n",
       "    </tr>\n",
       "    <tr>\n",
       "      <th>2</th>\n",
       "      <td>182960.0</td>\n",
       "      <td>180200.0</td>\n",
       "      <td>2.5</td>\n",
       "      <td>0</td>\n",
       "      <td>5.5</td>\n",
       "      <td>2</td>\n",
       "      <td>300.0</td>\n",
       "      <td>1</td>\n",
       "      <td>0.0</td>\n",
       "      <td>16.0</td>\n",
       "      <td>0.0</td>\n",
       "      <td>16.0</td>\n",
       "      <td>0.0</td>\n",
       "      <td>16.0</td>\n",
       "      <td>0.0</td>\n",
       "      <td>14.0</td>\n",
       "      <td>0</td>\n",
       "      <td>15.0</td>\n",
       "      <td>350.0</td>\n",
       "    </tr>\n",
       "    <tr>\n",
       "      <th>3</th>\n",
       "      <td>182960.0</td>\n",
       "      <td>180200.0</td>\n",
       "      <td>2.5</td>\n",
       "      <td>0</td>\n",
       "      <td>5.5</td>\n",
       "      <td>2</td>\n",
       "      <td>300.0</td>\n",
       "      <td>1</td>\n",
       "      <td>0.0</td>\n",
       "      <td>16.0</td>\n",
       "      <td>0.0</td>\n",
       "      <td>16.0</td>\n",
       "      <td>0.0</td>\n",
       "      <td>16.0</td>\n",
       "      <td>0.0</td>\n",
       "      <td>14.0</td>\n",
       "      <td>0</td>\n",
       "      <td>15.0</td>\n",
       "      <td>350.0</td>\n",
       "    </tr>\n",
       "    <tr>\n",
       "      <th>4</th>\n",
       "      <td>182960.0</td>\n",
       "      <td>180200.0</td>\n",
       "      <td>2.5</td>\n",
       "      <td>0</td>\n",
       "      <td>5.5</td>\n",
       "      <td>2</td>\n",
       "      <td>300.0</td>\n",
       "      <td>1</td>\n",
       "      <td>0.0</td>\n",
       "      <td>16.0</td>\n",
       "      <td>0.0</td>\n",
       "      <td>16.0</td>\n",
       "      <td>0.0</td>\n",
       "      <td>16.0</td>\n",
       "      <td>0.0</td>\n",
       "      <td>14.0</td>\n",
       "      <td>0</td>\n",
       "      <td>15.0</td>\n",
       "      <td>350.0</td>\n",
       "    </tr>\n",
       "  </tbody>\n",
       "</table>\n",
       "</div>"
      ],
      "text/plain": [
       "   Total_Wet_Mass_Harvested_kg  Dry_Finished_Yield_Mass_kg  \\\n",
       "0                     182960.0                    180200.0   \n",
       "1                     182960.0                    180200.0   \n",
       "2                     182960.0                    180200.0   \n",
       "3                     182960.0                    180200.0   \n",
       "4                     182960.0                    180200.0   \n",
       "\n",
       "   Soil_Organic_Matter  Soil_Drainage  Soil_pH  Fertilizer_Type  \\\n",
       "0                  2.5              0      5.5                2   \n",
       "1                  2.5              0      5.5                2   \n",
       "2                  2.5              0      5.5                2   \n",
       "3                  2.5              0      5.5                2   \n",
       "4                  2.5              0      5.5                2   \n",
       "\n",
       "   Application_Rate_Unit_kg/ha  Application_Method  N_as_Urea_%  \\\n",
       "0                        300.0                   1          0.0   \n",
       "1                        300.0                   1          0.0   \n",
       "2                        300.0                   1          0.0   \n",
       "3                        300.0                   1          0.0   \n",
       "4                        300.0                   1          0.0   \n",
       "\n",
       "   N_as_Nitrate_%  N_as_Ammonium_%  P_as_Phosphorus_%  P_as_P2O5_%  \\\n",
       "0            16.0              0.0               16.0          0.0   \n",
       "1            16.0              0.0               16.0          0.0   \n",
       "2            16.0              0.0               16.0          0.0   \n",
       "3            16.0              0.0               16.0          0.0   \n",
       "4            16.0              0.0               16.0          0.0   \n",
       "\n",
       "   K_as_Potassium_%  K_as_K2O_%  Crop_Protection_Application_Doses  Machine  \\\n",
       "0              16.0         0.0                               14.0        0   \n",
       "1              16.0         0.0                               14.0        0   \n",
       "2              16.0         0.0                               14.0        0   \n",
       "3              16.0         0.0                               14.0        0   \n",
       "4              16.0         0.0                               14.0        0   \n",
       "\n",
       "   Num_Passes  Total_Water_Applied_mm  \n",
       "0        15.0                   350.0  \n",
       "1        15.0                   350.0  \n",
       "2        15.0                   350.0  \n",
       "3        15.0                   350.0  \n",
       "4        15.0                   350.0  "
      ]
     },
     "execution_count": 50,
     "metadata": {},
     "output_type": "execute_result"
    }
   ],
   "source": [
    "df_1e.head()"
   ]
  },
  {
   "cell_type": "code",
   "execution_count": 51,
   "id": "4fecbaa3",
   "metadata": {},
   "outputs": [
    {
     "data": {
      "text/plain": [
       "(14442, 19)"
      ]
     },
     "execution_count": 51,
     "metadata": {},
     "output_type": "execute_result"
    }
   ],
   "source": [
    "df_1e.shape"
   ]
  },
  {
   "cell_type": "code",
   "execution_count": 61,
   "id": "b45189a4",
   "metadata": {},
   "outputs": [],
   "source": [
    "df_1e[\"dry2Wet\"] = df_1e['Dry_Finished_Yield_Mass_kg']/df_1e['Total_Wet_Mass_Harvested_kg']\n",
    "df_1e = df_1e[((df_1e[\"dry2Wet\"] >= 0.2) & (df_1e[\"dry2Wet\"] <= 0.6))]"
   ]
  },
  {
   "cell_type": "code",
   "execution_count": 62,
   "id": "897daf97",
   "metadata": {},
   "outputs": [
    {
     "data": {
      "text/plain": [
       "(13561, 20)"
      ]
     },
     "execution_count": 62,
     "metadata": {},
     "output_type": "execute_result"
    }
   ],
   "source": [
    "df_1e.shape"
   ]
  },
  {
   "cell_type": "code",
   "execution_count": 63,
   "id": "984f0cba",
   "metadata": {},
   "outputs": [
    {
     "name": "stderr",
     "output_type": "stream",
     "text": [
      "2023-04-13 19:53:54.296060: W tensorflow/stream_executor/platform/default/dso_loader.cc:60] Could not load dynamic library 'libcudart.so.11.0'; dlerror: libcudart.so.11.0: cannot open shared object file: No such file or directory; LD_LIBRARY_PATH: /opt/oracle/instantclient_12_1:/usr/lib/jvm/java-8-openjdk-amd64/jre/lib/amd64/server:\n",
      "2023-04-13 19:53:54.296113: I tensorflow/stream_executor/cuda/cudart_stub.cc:29] Ignore above cudart dlerror if you do not have a GPU set up on your machine.\n"
     ]
    },
    {
     "name": "stdout",
     "output_type": "stream",
     "text": [
      "2.4.1\n"
     ]
    }
   ],
   "source": [
    "import tensorflow as tf\n",
    "\n",
    "from tensorflow import keras\n",
    "from tensorflow.keras import layers\n",
    "\n",
    "print(tf.__version__)\n",
    "tf.keras.backend.set_floatx('float64')\n",
    "\n",
    "np.set_printoptions(precision=3, suppress=True)"
   ]
  },
  {
   "cell_type": "code",
   "execution_count": 64,
   "id": "92e18142",
   "metadata": {},
   "outputs": [],
   "source": [
    "train_dataset = df_1e.sample(frac=0.8, random_state=0)\n",
    "test_dataset = df_1e.drop(train_dataset.index)\n",
    "train_features = train_dataset.copy()\n",
    "test_features = test_dataset.copy()\n",
    "\n",
    "train_labels = train_features.pop('Total_Wet_Mass_Harvested_kg')\n",
    "test_labels = test_features.pop('Total_Wet_Mass_Harvested_kg')"
   ]
  },
  {
   "cell_type": "code",
   "execution_count": 67,
   "id": "2bb207eb",
   "metadata": {},
   "outputs": [
    {
     "name": "stderr",
     "output_type": "stream",
     "text": [
      "2023-04-13 19:54:52.168556: I tensorflow/compiler/jit/xla_cpu_device.cc:41] Not creating XLA devices, tf_xla_enable_xla_devices not set\n",
      "2023-04-13 19:54:52.170408: W tensorflow/stream_executor/platform/default/dso_loader.cc:60] Could not load dynamic library 'libcuda.so.1'; dlerror: libcuda.so.1: cannot open shared object file: No such file or directory; LD_LIBRARY_PATH: /opt/oracle/instantclient_12_1:/usr/lib/jvm/java-8-openjdk-amd64/jre/lib/amd64/server:\n",
      "2023-04-13 19:54:52.170461: W tensorflow/stream_executor/cuda/cuda_driver.cc:326] failed call to cuInit: UNKNOWN ERROR (303)\n",
      "2023-04-13 19:54:52.170491: I tensorflow/stream_executor/cuda/cuda_diagnostics.cc:156] kernel driver does not appear to be running on this host (run-64381fd34182ec77cea1b2ba-dh8qz): /proc/driver/nvidia/version does not exist\n",
      "2023-04-13 19:54:52.170746: I tensorflow/core/platform/cpu_feature_guard.cc:142] This TensorFlow binary is optimized with oneAPI Deep Neural Network Library (oneDNN) to use the following CPU instructions in performance-critical operations:  AVX2 AVX512F FMA\n",
      "To enable them in other operations, rebuild TensorFlow with the appropriate compiler flags.\n",
      "2023-04-13 19:54:52.171203: I tensorflow/compiler/jit/xla_gpu_device.cc:99] Not creating XLA devices, tf_xla_enable_xla_devices not set\n"
     ]
    }
   ],
   "source": [
    "# normalizer = tf.keras.layers.Normalization(axis=-1)\n",
    "normalizer = tf.keras.layers.experimental.preprocessing.Normalization(axis = -1)\n",
    "\n",
    "normalizer.adapt(np.array(train_features))"
   ]
  },
  {
   "cell_type": "code",
   "execution_count": 68,
   "id": "f3c84184",
   "metadata": {},
   "outputs": [],
   "source": [
    "def build_and_compile_model(norm):\n",
    "    model = keras.Sequential([\n",
    "        norm,\n",
    "        layers.Dense(24, activation='tanh'),\n",
    "        layers.Dense(24, activation='relu'),\n",
    "        layers.Dense(24, activation='tanh'),\n",
    "        layers.Dense(24, activation='relu'),\n",
    "        layers.Dense(24, activation='tanh'),\n",
    "        layers.Dense(1)\n",
    "    ])\n",
    "\n",
    "    model.compile(loss='mean_squared_error', optimizer=tf.keras.optimizers.Adam(0.001))\n",
    "    return model"
   ]
  },
  {
   "cell_type": "code",
   "execution_count": 69,
   "id": "904924f3",
   "metadata": {},
   "outputs": [
    {
     "name": "stdout",
     "output_type": "stream",
     "text": [
      "Model: \"sequential\"\n",
      "_________________________________________________________________\n",
      "Layer (type)                 Output Shape              Param #   \n",
      "=================================================================\n",
      "normalization (Normalization (None, 19)                39        \n",
      "_________________________________________________________________\n",
      "dense (Dense)                (None, 24)                480       \n",
      "_________________________________________________________________\n",
      "dense_1 (Dense)              (None, 24)                600       \n",
      "_________________________________________________________________\n",
      "dense_2 (Dense)              (None, 24)                600       \n",
      "_________________________________________________________________\n",
      "dense_3 (Dense)              (None, 24)                600       \n",
      "_________________________________________________________________\n",
      "dense_4 (Dense)              (None, 24)                600       \n",
      "_________________________________________________________________\n",
      "dense_5 (Dense)              (None, 1)                 25        \n",
      "=================================================================\n",
      "Total params: 2,944\n",
      "Trainable params: 2,905\n",
      "Non-trainable params: 39\n",
      "_________________________________________________________________\n"
     ]
    }
   ],
   "source": [
    "dnn_model = build_and_compile_model(normalizer)\n",
    "dnn_model.summary()"
   ]
  },
  {
   "cell_type": "code",
   "execution_count": 70,
   "id": "4d8b13e6",
   "metadata": {},
   "outputs": [],
   "source": [
    "def plot_loss(history):\n",
    "    plt.semilogy(history.history['loss'], label='loss')\n",
    "    plt.semilogy(history.history['val_loss'], label='val_loss')\n",
    "    plt.ylim([0, 0.01])\n",
    "    plt.xlabel('Epoch')\n",
    "    plt.ylabel('Error [Total_Wet_Mass_Harvested_kg]')\n",
    "    plt.legend()\n",
    "    plt.grid(True)"
   ]
  },
  {
   "cell_type": "code",
   "execution_count": 71,
   "id": "600c2835",
   "metadata": {},
   "outputs": [
    {
     "name": "stderr",
     "output_type": "stream",
     "text": [
      "2023-04-13 19:55:06.409501: I tensorflow/compiler/mlir/mlir_graph_optimization_pass.cc:116] None of the MLIR optimization passes are enabled (registered 2)\n",
      "2023-04-13 19:55:06.419383: I tensorflow/core/platform/profile_utils/cpu_utils.cc:112] CPU Frequency: 2999995000 Hz\n"
     ]
    }
   ],
   "source": [
    "# %%time\n",
    "history = dnn_model.fit(\n",
    "    train_features,\n",
    "    train_labels,\n",
    "    validation_split=0.2,\n",
    "    verbose=0, epochs=300)"
   ]
  },
  {
   "cell_type": "code",
   "execution_count": 72,
   "id": "196f945e",
   "metadata": {},
   "outputs": [
    {
     "name": "stderr",
     "output_type": "stream",
     "text": [
      "/tmp/ipykernel_640/3527425194.py:4: UserWarning: Attempted to set non-positive bottom ylim on a log-scaled axis.\n",
      "Invalid limit will be ignored.\n",
      "  plt.ylim([0, 0.01])\n"
     ]
    },
    {
     "data": {
      "image/png": "[encoded data removed]",
      "text/plain": [
       "<Figure size 432x288 with 1 Axes>"
      ]
     },
     "metadata": {},
     "output_type": "display_data"
    }
   ],
   "source": [
    "plot_loss(history)"
   ]
  },
  {
   "cell_type": "code",
   "execution_count": 73,
   "id": "2155e5a0",
   "metadata": {},
   "outputs": [
    {
     "data": {
      "text/html": [
       "<div>\n",
       "<style scoped>\n",
       "    .dataframe tbody tr th:only-of-type {\n",
       "        vertical-align: middle;\n",
       "    }\n",
       "\n",
       "    .dataframe tbody tr th {\n",
       "        vertical-align: top;\n",
       "    }\n",
       "\n",
       "    .dataframe thead th {\n",
       "        text-align: right;\n",
       "    }\n",
       "</style>\n",
       "<table border=\"1\" class=\"dataframe\">\n",
       "  <thead>\n",
       "    <tr style=\"text-align: right;\">\n",
       "      <th></th>\n",
       "      <th>loss</th>\n",
       "      <th>val_loss</th>\n",
       "      <th>epoch</th>\n",
       "    </tr>\n",
       "  </thead>\n",
       "  <tbody>\n",
       "    <tr>\n",
       "      <th>295</th>\n",
       "      <td>4.371621e+11</td>\n",
       "      <td>4.248613e+11</td>\n",
       "      <td>295</td>\n",
       "    </tr>\n",
       "    <tr>\n",
       "      <th>296</th>\n",
       "      <td>4.371544e+11</td>\n",
       "      <td>4.248537e+11</td>\n",
       "      <td>296</td>\n",
       "    </tr>\n",
       "    <tr>\n",
       "      <th>297</th>\n",
       "      <td>4.371467e+11</td>\n",
       "      <td>4.248461e+11</td>\n",
       "      <td>297</td>\n",
       "    </tr>\n",
       "    <tr>\n",
       "      <th>298</th>\n",
       "      <td>4.371391e+11</td>\n",
       "      <td>4.248385e+11</td>\n",
       "      <td>298</td>\n",
       "    </tr>\n",
       "    <tr>\n",
       "      <th>299</th>\n",
       "      <td>4.371314e+11</td>\n",
       "      <td>4.248310e+11</td>\n",
       "      <td>299</td>\n",
       "    </tr>\n",
       "  </tbody>\n",
       "</table>\n",
       "</div>"
      ],
      "text/plain": [
       "             loss      val_loss  epoch\n",
       "295  4.371621e+11  4.248613e+11    295\n",
       "296  4.371544e+11  4.248537e+11    296\n",
       "297  4.371467e+11  4.248461e+11    297\n",
       "298  4.371391e+11  4.248385e+11    298\n",
       "299  4.371314e+11  4.248310e+11    299"
      ]
     },
     "execution_count": 73,
     "metadata": {},
     "output_type": "execute_result"
    }
   ],
   "source": [
    "hist = pd.DataFrame(history.history)\n",
    "hist['epoch'] = history.epoch\n",
    "hist.tail()"
   ]
  },
  {
   "cell_type": "code",
   "execution_count": 74,
   "id": "6b7bb25d",
   "metadata": {},
   "outputs": [],
   "source": [
    "test_results = dnn_model.evaluate(test_features, test_labels, verbose=0)"
   ]
  },
  {
   "cell_type": "code",
   "execution_count": 77,
   "id": "fd147249",
   "metadata": {},
   "outputs": [],
   "source": [
    "test_results\n",
    "train_predictions = dnn_model.predict(train_features).flatten()"
   ]
  },
  {
   "cell_type": "code",
   "execution_count": 80,
   "id": "3614d818",
   "metadata": {},
   "outputs": [
    {
     "data": {
      "image/png": "[encoded data removed]",
      "text/plain": [
       "<Figure size 432x288 with 1 Axes>"
      ]
     },
     "metadata": {},
     "output_type": "display_data"
    }
   ],
   "source": [
    "a = plt.axes()\n",
    "plt.scatter(train_labels, train_predictions)\n",
    "plt.xlabel('True Values [cA]')\n",
    "plt.ylabel('Predictions [cA]')\n",
    "# lims = [0.1, 1.1]\n",
    "# plt.xlim(lims)\n",
    "# plt.ylim(lims)\n",
    "_ = plt.plot(lims, lims)"
   ]
  },
  {
   "cell_type": "code",
   "execution_count": 84,
   "id": "b454940d",
   "metadata": {},
   "outputs": [
    {
     "data": {
      "image/png": "[encoded data removed]",
      "text/plain": [
       "<Figure size 432x288 with 1 Axes>"
      ]
     },
     "metadata": {},
     "output_type": "display_data"
    },
    {
     "data": {
      "image/png": "[encoded data removed]",
      "text/plain": [
       "<Figure size 432x288 with 1 Axes>"
      ]
     },
     "metadata": {},
     "output_type": "display_data"
    },
    {
     "data": {
      "image/png": "[encoded data removed]",
      "text/plain": [
       "<Figure size 432x288 with 1 Axes>"
      ]
     },
     "metadata": {},
     "output_type": "display_data"
    },
    {
     "data": {
      "image/png": "[encoded data removed]",
      "text/plain": [
       "<Figure size 432x288 with 1 Axes>"
      ]
     },
     "metadata": {},
     "output_type": "display_data"
    },
    {
     "data": {
      "image/png": "[encoded data removed]",
      "text/plain": [
       "<Figure size 432x288 with 1 Axes>"
      ]
     },
     "metadata": {},
     "output_type": "display_data"
    },
    {
     "data": {
      "image/png": "[encoded data removed]",
      "text/plain": [
       "<Figure size 432x288 with 1 Axes>"
      ]
     },
     "metadata": {},
     "output_type": "display_data"
    },
    {
     "data": {
      "image/png": "[encoded data removed]",
      "text/plain": [
       "<Figure size 432x288 with 1 Axes>"
      ]
     },
     "metadata": {},
     "output_type": "display_data"
    },
    {
     "data": {
      "image/png": "[encoded data removed]",
      "text/plain": [
       "<Figure size 432x288 with 1 Axes>"
      ]
     },
     "metadata": {},
     "output_type": "display_data"
    },
    {
     "data": {
      "image/png": "[encoded data removed]",
      "text/plain": [
       "<Figure size 432x288 with 1 Axes>"
      ]
     },
     "metadata": {},
     "output_type": "display_data"
    },
    {
     "data": {
      "image/png": "[encoded data removed]",
      "text/plain": [
       "<Figure size 432x288 with 1 Axes>"
      ]
     },
     "metadata": {},
     "output_type": "display_data"
    },
    {
     "data": {
      "image/png": "[encoded data removed]",
      "text/plain": [
       "<Figure size 432x288 with 1 Axes>"
      ]
     },
     "metadata": {},
     "output_type": "display_data"
    },
    {
     "data": {
      "image/png": "[encoded data removed]",
      "text/plain": [
       "<Figure size 432x288 with 1 Axes>"
      ]
     },
     "metadata": {},
     "output_type": "display_data"
    },
    {
     "data": {
      "image/png": "[encoded data removed]",
      "text/plain": [
       "<Figure size 432x288 with 1 Axes>"
      ]
     },
     "metadata": {},
     "output_type": "display_data"
    },
    {
     "data": {
      "image/png": "[encoded data removed]",
      "text/plain": [
       "<Figure size 432x288 with 1 Axes>"
      ]
     },
     "metadata": {},
     "output_type": "display_data"
    },
    {
     "data": {
      "image/png": "[encoded data removed]",
      "text/plain": [
       "<Figure size 432x288 with 1 Axes>"
      ]
     },
     "metadata": {},
     "output_type": "display_data"
    },
    {
     "data": {
      "image/png": "[encoded data removed]",
      "text/plain": [
       "<Figure size 432x288 with 1 Axes>"
      ]
     },
     "metadata": {},
     "output_type": "display_data"
    },
    {
     "data": {
      "image/png": "[encoded data removed]",
      "text/plain": [
       "<Figure size 432x288 with 1 Axes>"
      ]
     },
     "metadata": {},
     "output_type": "display_data"
    },
    {
     "data": {
      "image/png": "[encoded data removed]",
      "text/plain": [
       "<Figure size 432x288 with 1 Axes>"
      ]
     },
     "metadata": {},
     "output_type": "display_data"
    },
    {
     "data": {
      "image/png": "[encoded data removed]",
      "text/plain": [
       "<Figure size 432x288 with 1 Axes>"
      ]
     },
     "metadata": {},
     "output_type": "display_data"
    },
    {
     "data": {
      "image/png": "[encoded data removed]",
      "text/plain": [
       "<Figure size 432x288 with 1 Axes>"
      ]
     },
     "metadata": {},
     "output_type": "display_data"
    }
   ],
   "source": [
    "for col in df_1e.columns:\n",
    "        fig, ax = plt.subplots(1,1)\n",
    "        ax.hist(df_1e.loc[:, col], bins = 100)\n",
    "        ax.set_title(col)"
   ]
  },
  {
   "cell_type": "code",
   "execution_count": null,
   "id": "089a841a",
   "metadata": {},
   "outputs": [],
   "source": []
  }
 ],
 "metadata": {
  "kernelspec": {
   "display_name": "Python 3 (ipykernel)",
   "language": "python",
   "name": "python3"
  },
  "language_info": {
   "codemirror_mode": {
    "name": "ipython",
    "version": 3
   },
   "file_extension": ".py",
   "mimetype": "text/x-python",
   "name": "python",
   "nbconvert_exporter": "python",
   "pygments_lexer": "ipython3",
   "version": "3.8.5"
  }
 },
 "nbformat": 4,
 "nbformat_minor": 5
}
