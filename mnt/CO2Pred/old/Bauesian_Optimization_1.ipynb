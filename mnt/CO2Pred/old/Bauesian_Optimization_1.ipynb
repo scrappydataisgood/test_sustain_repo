{
 "cells": [
  {
   "cell_type": "code",
   "execution_count": 38,
   "metadata": {},
   "outputs": [
    {
     "name": "stdout",
     "output_type": "stream",
     "text": [
      "Optimal point: [-0.79500179 -0.79430707 -0.82732117]\n",
      "Mean squared error: 0.2366381536643534\n",
      "Optimal point: [-0.75122939 -0.83351792 -0.82391747]\n"
     ]
    }
   ],
   "source": [
    "from sklearn.gaussian_process import GaussianProcessRegressor\n",
    "from sklearn.gaussian_process.kernels import Matern\n",
    "from sklearn.model_selection import train_test_split\n",
    "import numpy as np\n",
    "\n",
    "# Define the expensive model\n",
    "# This could be a blackbox model\n",
    "# In the line below the function will have ndim variables\n",
    "def expensive_model(x):\n",
    "    return np.sum(np.sin(10 * x) + 0.1 * x**2 + 0.5 * x, axis=1)\n",
    "# The number of variables\n",
    "ndim=3\n",
    "\n",
    "# Number of samples\n",
    "nsample=1000\n",
    "\n",
    "# Generate a design of experiments\n",
    "x = np.random.uniform(low=-1, high=1, size=(nsample, ndim))\n",
    "y = expensive_model(x)\n",
    "\n",
    "# Split the data into training and testing sets\n",
    "x_train, x_test, y_train, y_test = train_test_split(x, y, test_size=0.3)\n",
    "\n",
    "# Train a surrogate model\n",
    "kernel = Matern(length_scale=np.ones(ndim)*0.1, nu=2.5)\n",
    "gp = GaussianProcessRegressor(kernel=kernel, alpha=0.1, n_restarts_optimizer=10)\n",
    "x_opt = np.random.uniform(low=-1, high=1, size=(nsample, ndim))\n",
    "y_opt = expensive_model(x_opt)\n",
    "print(\"Optimal point:\", x_opt[np.argmin(y_opt)])\n",
    "gp.fit(x_train, y_train)\n",
    "\n",
    "# Validate the surrogate model\n",
    "mse = np.mean((gp.predict(x_test) - y_test)**2)\n",
    "print(\"Mean squared error:\", mse)\n",
    "\n",
    "# Use the surrogate model to perform optimization\n",
    "# The following three lines could run in a loop to further iterate to find the best solution\n",
    "x_opt = np.random.uniform(low=-1, high=1, size=(nsample, ndim))\n",
    "y_opt = expensive_model(x_opt)\n",
    "print(\"Optimal point:\", x_opt[np.argmin(y_opt)])\n",
    "\n"
   ]
  },
  {
   "cell_type": "code",
   "execution_count": null,
   "metadata": {},
   "outputs": [],
   "source": []
  }
 ],
 "metadata": {
  "kernelspec": {
   "display_name": "Python 3 (ipykernel)",
   "language": "python",
   "name": "python3"
  },
  "language_info": {
   "codemirror_mode": {
    "name": "ipython",
    "version": 3
   },
   "file_extension": ".py",
   "mimetype": "text/x-python",
   "name": "python",
   "nbconvert_exporter": "python",
   "pygments_lexer": "ipython3",
   "version": "3.8.5"
  }
 },
 "nbformat": 4,
 "nbformat_minor": 4
}
