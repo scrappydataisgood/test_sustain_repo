{
 "cells": [
  {
   "cell_type": "code",
   "execution_count": null,
   "id": "1d1b5ea6",
   "metadata": {},
   "outputs": [],
   "source": [
    "%load_ext autoreload\n",
    "%autoreload 2"
   ]
  },
  {
   "cell_type": "code",
   "execution_count": 2,
   "id": "e56c0a36",
   "metadata": {},
   "outputs": [
    {
     "name": "stdout",
     "output_type": "stream",
     "text": [
      "Collecting botorch\n",
      "  Downloading botorch-0.8.4-py3-none-any.whl (530 kB)\n",
      "     |████████████████████████████████| 530 kB 33.5 MB/s            \n",
      "\u001b[?25hRequirement already satisfied: multipledispatch in /opt/conda/lib/python3.8/site-packages (from botorch) (0.6.0)\n",
      "Collecting gpytorch==1.10\n",
      "  Downloading gpytorch-1.10-py3-none-any.whl (255 kB)\n",
      "     |████████████████████████████████| 255 kB 94.1 MB/s            \n",
      "\u001b[?25hRequirement already satisfied: scipy in /opt/conda/lib/python3.8/site-packages (from botorch) (1.6.0)\n",
      "Collecting linear-operator==0.4.0\n",
      "  Downloading linear_operator-0.4.0-py3-none-any.whl (156 kB)\n",
      "     |████████████████████████████████| 156 kB 111.6 MB/s            \n",
      "\u001b[?25hRequirement already satisfied: torch>=1.12 in /home/ubuntu/.local/lib/python3.8/site-packages (from botorch) (2.0.0)\n",
      "Collecting pyro-ppl>=1.8.4\n",
      "  Downloading pyro_ppl-1.8.4-py3-none-any.whl (730 kB)\n",
      "     |████████████████████████████████| 730 kB 93.6 MB/s            \n",
      "\u001b[?25hRequirement already satisfied: scikit-learn in /opt/conda/lib/python3.8/site-packages (from gpytorch==1.10->botorch) (0.24.0)\n",
      "Collecting pyro-api>=0.1.1\n",
      "  Downloading pyro_api-0.1.2-py3-none-any.whl (11 kB)\n",
      "Requirement already satisfied: opt-einsum>=2.3.2 in /opt/conda/lib/python3.8/site-packages (from pyro-ppl>=1.8.4->botorch) (3.3.0)\n",
      "Requirement already satisfied: tqdm>=4.36 in /opt/conda/lib/python3.8/site-packages (from pyro-ppl>=1.8.4->botorch) (4.55.1)\n",
      "Requirement already satisfied: numpy>=1.7 in /opt/conda/lib/python3.8/site-packages (from pyro-ppl>=1.8.4->botorch) (1.21.1)\n",
      "Requirement already satisfied: nvidia-cublas-cu11==11.10.3.66 in /home/ubuntu/.local/lib/python3.8/site-packages (from torch>=1.12->botorch) (11.10.3.66)\n",
      "Requirement already satisfied: nvidia-cuda-cupti-cu11==11.7.101 in /home/ubuntu/.local/lib/python3.8/site-packages (from torch>=1.12->botorch) (11.7.101)\n",
      "Requirement already satisfied: nvidia-nccl-cu11==2.14.3 in /home/ubuntu/.local/lib/python3.8/site-packages (from torch>=1.12->botorch) (2.14.3)\n",
      "Requirement already satisfied: nvidia-cudnn-cu11==8.5.0.96 in /home/ubuntu/.local/lib/python3.8/site-packages (from torch>=1.12->botorch) (8.5.0.96)\n",
      "Requirement already satisfied: triton==2.0.0 in /home/ubuntu/.local/lib/python3.8/site-packages (from torch>=1.12->botorch) (2.0.0)\n",
      "Requirement already satisfied: nvidia-cufft-cu11==10.9.0.58 in /home/ubuntu/.local/lib/python3.8/site-packages (from torch>=1.12->botorch) (10.9.0.58)\n",
      "Requirement already satisfied: nvidia-cuda-nvrtc-cu11==11.7.99 in /home/ubuntu/.local/lib/python3.8/site-packages (from torch>=1.12->botorch) (11.7.99)\n",
      "Requirement already satisfied: nvidia-curand-cu11==10.2.10.91 in /home/ubuntu/.local/lib/python3.8/site-packages (from torch>=1.12->botorch) (10.2.10.91)\n",
      "Requirement already satisfied: nvidia-cusolver-cu11==11.4.0.1 in /home/ubuntu/.local/lib/python3.8/site-packages (from torch>=1.12->botorch) (11.4.0.1)\n",
      "Requirement already satisfied: sympy in /opt/conda/lib/python3.8/site-packages (from torch>=1.12->botorch) (1.7.1)\n",
      "Requirement already satisfied: nvidia-nvtx-cu11==11.7.91 in /home/ubuntu/.local/lib/python3.8/site-packages (from torch>=1.12->botorch) (11.7.91)\n",
      "Requirement already satisfied: jinja2 in /opt/conda/lib/python3.8/site-packages (from torch>=1.12->botorch) (3.0.3)\n",
      "Requirement already satisfied: nvidia-cusparse-cu11==11.7.4.91 in /home/ubuntu/.local/lib/python3.8/site-packages (from torch>=1.12->botorch) (11.7.4.91)\n",
      "Requirement already satisfied: typing-extensions in /opt/conda/lib/python3.8/site-packages (from torch>=1.12->botorch) (4.0.1)\n",
      "Requirement already satisfied: filelock in /opt/conda/lib/python3.8/site-packages (from torch>=1.12->botorch) (3.0.12)\n",
      "Requirement already satisfied: nvidia-cuda-runtime-cu11==11.7.99 in /home/ubuntu/.local/lib/python3.8/site-packages (from torch>=1.12->botorch) (11.7.99)\n",
      "Requirement already satisfied: networkx in /opt/conda/lib/python3.8/site-packages (from torch>=1.12->botorch) (2.5)\n",
      "Requirement already satisfied: setuptools in /opt/conda/lib/python3.8/site-packages (from nvidia-cublas-cu11==11.10.3.66->torch>=1.12->botorch) (51.1.2.post20210112)\n",
      "Requirement already satisfied: wheel in /opt/conda/lib/python3.8/site-packages (from nvidia-cublas-cu11==11.10.3.66->torch>=1.12->botorch) (0.36.2)\n",
      "Requirement already satisfied: lit in /home/ubuntu/.local/lib/python3.8/site-packages (from triton==2.0.0->torch>=1.12->botorch) (16.0.2)\n",
      "Requirement already satisfied: cmake in /home/ubuntu/.local/lib/python3.8/site-packages (from triton==2.0.0->torch>=1.12->botorch) (3.26.3)\n",
      "Requirement already satisfied: six in /opt/conda/lib/python3.8/site-packages (from multipledispatch->botorch) (1.15.0)\n",
      "Requirement already satisfied: MarkupSafe>=2.0 in /opt/conda/lib/python3.8/site-packages (from jinja2->torch>=1.12->botorch) (2.0.1)\n",
      "Requirement already satisfied: decorator>=4.3.0 in /opt/conda/lib/python3.8/site-packages (from networkx->torch>=1.12->botorch) (5.1.0)\n",
      "Requirement already satisfied: joblib>=0.11 in /opt/conda/lib/python3.8/site-packages (from scikit-learn->gpytorch==1.10->botorch) (1.0.0)\n",
      "Requirement already satisfied: threadpoolctl>=2.0.0 in /opt/conda/lib/python3.8/site-packages (from scikit-learn->gpytorch==1.10->botorch) (2.1.0)\n",
      "Requirement already satisfied: mpmath>=0.19 in /opt/conda/lib/python3.8/site-packages (from sympy->torch>=1.12->botorch) (1.1.0)\n",
      "Installing collected packages: pyro-api, linear-operator, pyro-ppl, gpytorch, botorch\n",
      "Successfully installed botorch-0.8.4 gpytorch-1.10 linear-operator-0.4.0 pyro-api-0.1.2 pyro-ppl-1.8.4\n",
      "\u001b[33mWARNING: You are using pip version 21.3.1; however, version 23.1.2 is available.\n",
      "You should consider upgrading via the '/opt/conda/bin/python -m pip install --upgrade pip' command.\u001b[0m\n"
     ]
    }
   ],
   "source": [
    "# !pip install torch --user\n",
    "!pip install botorch --user"
   ]
  },
  {
   "cell_type": "code",
   "execution_count": 1,
   "id": "cf336c63",
   "metadata": {},
   "outputs": [
    {
     "ename": "ModuleNotFoundError",
     "evalue": "No module named 'botorch'",
     "output_type": "error",
     "traceback": [
      "\u001b[0;31m---------------------------------------------------------------------------\u001b[0m",
      "\u001b[0;31mModuleNotFoundError\u001b[0m                       Traceback (most recent call last)",
      "\u001b[0;32m/tmp/ipykernel_446/2037810352.py\u001b[0m in \u001b[0;36m<module>\u001b[0;34m\u001b[0m\n\u001b[1;32m      2\u001b[0m \u001b[0;32mimport\u001b[0m \u001b[0mmatplotlib\u001b[0m\u001b[0;34m.\u001b[0m\u001b[0mpyplot\u001b[0m \u001b[0;32mas\u001b[0m \u001b[0mplt\u001b[0m\u001b[0;34m\u001b[0m\u001b[0;34m\u001b[0m\u001b[0m\n\u001b[1;32m      3\u001b[0m \u001b[0;32mimport\u001b[0m \u001b[0mtorch\u001b[0m\u001b[0;34m\u001b[0m\u001b[0;34m\u001b[0m\u001b[0m\n\u001b[0;32m----> 4\u001b[0;31m \u001b[0;32mfrom\u001b[0m \u001b[0mbotorch\u001b[0m\u001b[0;34m.\u001b[0m\u001b[0mmodels\u001b[0m \u001b[0;32mimport\u001b[0m \u001b[0mSingleTaskGP\u001b[0m\u001b[0;34m,\u001b[0m \u001b[0mModelListGP\u001b[0m\u001b[0;34m\u001b[0m\u001b[0;34m\u001b[0m\u001b[0m\n\u001b[0m\u001b[1;32m      5\u001b[0m \u001b[0;32mfrom\u001b[0m \u001b[0mgpytorch\u001b[0m\u001b[0;34m.\u001b[0m\u001b[0mmlls\u001b[0m\u001b[0;34m.\u001b[0m\u001b[0msum_marginal_log_likelihood\u001b[0m \u001b[0;32mimport\u001b[0m \u001b[0mSumMarginalLogLikelihood\u001b[0m\u001b[0;34m\u001b[0m\u001b[0;34m\u001b[0m\u001b[0m\n\u001b[1;32m      6\u001b[0m \u001b[0;32mfrom\u001b[0m \u001b[0mbotorch\u001b[0m \u001b[0;32mimport\u001b[0m \u001b[0mfit_gpytorch_model\u001b[0m\u001b[0;34m\u001b[0m\u001b[0;34m\u001b[0m\u001b[0m\n",
      "\u001b[0;31mModuleNotFoundError\u001b[0m: No module named 'botorch'"
     ]
    }
   ],
   "source": [
    "import numpy as np\n",
    "import matplotlib.pyplot as plt\n",
    "import torch\n",
    "from botorch.models import SingleTaskGP, ModelListGP\n",
    "from gpytorch.mlls.sum_marginal_log_likelihood import SumMarginalLogLikelihood\n",
    "from botorch import fit_gpytorch_model\n",
    "from botorch.optim.optimize import optimize_acqf_list\n",
    "from botorch.utils.transforms import unnormalize, normalize\n",
    "from botorch.acquisition.monte_carlo import qNoisyExpectedImprovement\n",
    "from botorch.utils.sampling import sample_simplex\n",
    "from botorch.acquisition.objective import GenericMCObjective\n",
    "from botorch.utils.multi_objective.scalarization import get_chebyshev_scalarization\n",
    "from botorch.sampling.samplers import SobolQMCNormalSampler"
   ]
  },
  {
   "cell_type": "code",
   "execution_count": null,
   "id": "5237bd50",
   "metadata": {},
   "outputs": [],
   "source": [
    "noise_level = 0.2\n",
    "\n",
    "bounds = torch.tensor([[-1.2], [1.2]])\n",
    "\n",
    "def f(x, noise_level=noise_level):\n",
    "    results = []\n",
    "    for x_i in x:   \n",
    "       sub_results = [\n",
    "         (np.sin(6 *x_i[0])**3 * (1 - np.tanh(x_i[0] ** 2))) + (-1 + torch.rand(1)[0] * 2) * noise_level,\n",
    "         .5 - (np.cos(5 * x_i[0] + 0.7)**3 * (1 - np.tanh(x_i[0] ** 2))) + (-1 + torch.rand(1)[0] * 2) * noise_level,\n",
    "      ]\n",
    "       results.append(sub_results)\n",
    "    return torch.tensor(results, dtype=torch.float32)\n",
    "\n",
    "def f_no_noise(x):\n",
    "   return f(x, noise_level=0)"
   ]
  }
 ],
 "metadata": {
  "kernelspec": {
   "display_name": "Python 3 (ipykernel)",
   "language": "python",
   "name": "python3"
  },
  "language_info": {
   "codemirror_mode": {
    "name": "ipython",
    "version": 3
   },
   "file_extension": ".py",
   "mimetype": "text/x-python",
   "name": "python",
   "nbconvert_exporter": "python",
   "pygments_lexer": "ipython3",
   "version": "3.8.5"
  }
 },
 "nbformat": 4,
 "nbformat_minor": 5
}
